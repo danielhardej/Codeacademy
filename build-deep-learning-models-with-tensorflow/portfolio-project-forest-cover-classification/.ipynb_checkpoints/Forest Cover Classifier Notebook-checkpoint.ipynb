{
 "cells": [
  {
   "cell_type": "markdown",
   "id": "093d25a9",
   "metadata": {},
   "source": [
    "# Forest Cover Classification Portfolio Project\n",
    "\n",
    "In this project, you will use deep learning to predict forest cover type (the most\n",
    "common kind of tree cover) based only on cartographic variables. The actual forest\n",
    "cover type for a given 30 x 30 meter cell was determined from US Forest Service (USFS)\n",
    "Region 2 Resource Information System data. The covertypes are the following:\n",
    "\n",
    "   - Spruce/Fir\n",
    "   - Lodgepole Pine\n",
    "   - Ponderosa Pine\n",
    "   - Cottonwood/Willow\n",
    "   - Aspen\n",
    "   - Douglas-fir\n",
    "   - Krummholz\n",
    "\n",
    "Independent variables were then derived from data obtained from the US Geological Survey\n",
    "and USFS. The data is raw and has not been scaled or preprocessed for you. It contains\n",
    "binary columns of data for qualitative independent variables such as wilderness areas\n",
    "and soil type.\n",
    "\n",
    "This study area includes four wilderness areas located in the Roosevelt National Forest\n",
    "of northern Colorado. These areas represent forests with minimal human-caused disturbances,\n",
    "so existing forest cover types are mainly a result of ecological processes rather\n",
    "than forest management practices.\n",
    "\n",
    "Project Objectives:\n",
    "   - Develop one or more classifiers for this multi-class classification problem.\n",
    "   - Use TensorFlow with Keras to build your classifier(s).\n",
    "   - Use your knowledge of hyperparameter tuning to improve the performance of your model(s).\n",
    "   - Test and analyze performance.\n",
    "   - Create clean and modular code.\n",
    "    \n",
    "## This is the first attempt\n",
    "\n",
    "Using a NN with two middle layers of 64 and 32 neurons, a batch size of 1024, and 100 epochs. Trained using an Adam optimizer.\n",
    "\n",
    "To see how well the model predicts after it's trained, we'll then plot accuracy and loss and also check the precision, recall and f1 score. We'll also plot a confusion matrix."
   ]
  },
  {
   "cell_type": "code",
   "execution_count": 6,
   "id": "a53f1088",
   "metadata": {},
   "outputs": [],
   "source": [
    "import pandas as pd\n",
    "from sklearn.model_selection import train_test_split"
   ]
  },
  {
   "cell_type": "code",
   "execution_count": 7,
   "id": "223166d3",
   "metadata": {},
   "outputs": [],
   "source": [
    "dataset = pd.read_csv('cover_data.csv')\n",
    "# print(dataset.info())\n",
    "# print()\n",
    "# print(dataset.head())\n",
    "# print()\n",
    "# print(dataset.describe())"
   ]
  },
  {
   "cell_type": "code",
   "execution_count": 75,
   "id": "3c6a7bcc",
   "metadata": {},
   "outputs": [],
   "source": [
    "labels = dataset.iloc[:,-1]\n",
    "features = dataset.iloc[:,0:-1]\n",
    "features_train, features_test, labels_train, labels_test = train_test_split(features, labels, test_size=0.33, random_state=42, stratify=labels)"
   ]
  },
  {
   "cell_type": "code",
   "execution_count": 104,
   "id": "7df5e680",
   "metadata": {},
   "outputs": [
    {
     "name": "stdout",
     "output_type": "stream",
     "text": [
      "(389278, 10)\n",
      "10\n",
      "54\n"
     ]
    }
   ],
   "source": [
    "from sklearn.preprocessing import StandardScaler\n",
    "\n",
    "stan_scaler = StandardScaler()\n",
    "features_train_normalized = stan_scaler.fit_transform(features_train)\n",
    "features_test_normalized = stan_scaler.transform(features_test)\n",
    "\n",
    "print(features_train_scale.shape)\n",
    "\n",
    "ct = ColumnTransformer([('numeric', StandardScaler(), [\"Elevation\", \"Aspect\",\"Slope\",\"Horizontal_Distance_To_Hydrology\",\"Vertical_Distance_To_Hydrology\",\"Horizontal_Distance_To_Roadways\",\"Hillshade_9am\",\"Hillshade_Noon\",\"Hillshade_3pm\",\"Horizontal_Distance_To_Fire_Points\"])])\n",
    "\n",
    "features_train_scale = ct.fit_transform(features_train)\n",
    "features_test_scale = ct.transform(features_test)\n",
    "\n",
    "print(features_train_scale.shape[1])\n",
    "print(features_test_normalized.shape[1])"
   ]
  },
  {
   "cell_type": "code",
   "execution_count": 77,
   "id": "cd5d0ecb",
   "metadata": {},
   "outputs": [],
   "source": [
    "import tensorflow as tf\n",
    "from tensorflow import keras\n",
    "from tensorflow.keras import layers\n",
    "from tensorflow.keras.layers import Dense, InputLayer\n",
    "\n",
    "# Build the model\n",
    "model = keras.Sequential()\n",
    "model.add(InputLayer(input_shape=(features_train_scale.shape[1],)))\n",
    "model.add(layers.Dense(64, activation='relu'))\n",
    "model.add(layers.Dense(32, activation='relu'))\n",
    "model.add(layers.Dense(8, activation='softmax'))"
   ]
  },
  {
   "cell_type": "code",
   "execution_count": 78,
   "id": "25b2152c",
   "metadata": {},
   "outputs": [],
   "source": [
    "model.compile(optimizer='adam', loss='sparse_categorical_crossentropy', metrics=['accuracy'])\n",
    "# model.compile(optimizer = tf.keras.optimizers.Adam(learning_rate=0.01),\n",
    "#                     loss = tf.keras.losses.SparseCategoricalCrossentropy(),\n",
    "#                     metrics = [tf.keras.metrics.CategoricalAccuracy(), tf.keras.metrics.AUC()])"
   ]
  },
  {
   "cell_type": "code",
   "execution_count": 79,
   "id": "f40ae542",
   "metadata": {},
   "outputs": [
    {
     "name": "stdout",
     "output_type": "stream",
     "text": [
      "Epoch 1/100\n",
      "343/343 [==============================] - 1s 3ms/step - loss: 0.8920 - accuracy: 0.6646 - val_loss: 0.6975 - val_accuracy: 0.7053\n",
      "Epoch 2/100\n",
      "343/343 [==============================] - 1s 2ms/step - loss: 0.6714 - accuracy: 0.7116 - val_loss: 0.6539 - val_accuracy: 0.7175\n",
      "Epoch 3/100\n",
      "343/343 [==============================] - 1s 3ms/step - loss: 0.6440 - accuracy: 0.7211 - val_loss: 0.6358 - val_accuracy: 0.7244\n",
      "Epoch 4/100\n",
      "343/343 [==============================] - 1s 2ms/step - loss: 0.6279 - accuracy: 0.7270 - val_loss: 0.6210 - val_accuracy: 0.7297\n",
      "Epoch 5/100\n",
      "343/343 [==============================] - 1s 2ms/step - loss: 0.6155 - accuracy: 0.7316 - val_loss: 0.6107 - val_accuracy: 0.7313\n",
      "Epoch 6/100\n",
      "343/343 [==============================] - 1s 2ms/step - loss: 0.6048 - accuracy: 0.7362 - val_loss: 0.6017 - val_accuracy: 0.7346\n",
      "Epoch 7/100\n",
      "343/343 [==============================] - 1s 2ms/step - loss: 0.5962 - accuracy: 0.7395 - val_loss: 0.5948 - val_accuracy: 0.7378\n",
      "Epoch 8/100\n",
      "343/343 [==============================] - 1s 2ms/step - loss: 0.5895 - accuracy: 0.7427 - val_loss: 0.5890 - val_accuracy: 0.7412\n",
      "Epoch 9/100\n",
      "343/343 [==============================] - 1s 2ms/step - loss: 0.5831 - accuracy: 0.7457 - val_loss: 0.5824 - val_accuracy: 0.7458\n",
      "Epoch 10/100\n",
      "343/343 [==============================] - 1s 2ms/step - loss: 0.5779 - accuracy: 0.7480 - val_loss: 0.5773 - val_accuracy: 0.7472\n",
      "Epoch 11/100\n",
      "343/343 [==============================] - 1s 2ms/step - loss: 0.5726 - accuracy: 0.7505 - val_loss: 0.5745 - val_accuracy: 0.7477\n",
      "Epoch 12/100\n",
      "343/343 [==============================] - 1s 2ms/step - loss: 0.5681 - accuracy: 0.7528 - val_loss: 0.5687 - val_accuracy: 0.7508\n",
      "Epoch 13/100\n",
      "343/343 [==============================] - 1s 2ms/step - loss: 0.5640 - accuracy: 0.7550 - val_loss: 0.5692 - val_accuracy: 0.7514\n",
      "Epoch 14/100\n",
      "343/343 [==============================] - 1s 2ms/step - loss: 0.5601 - accuracy: 0.7567 - val_loss: 0.5665 - val_accuracy: 0.7482\n",
      "Epoch 15/100\n",
      "343/343 [==============================] - 1s 2ms/step - loss: 0.5568 - accuracy: 0.7583 - val_loss: 0.5577 - val_accuracy: 0.7576\n",
      "Epoch 16/100\n",
      "343/343 [==============================] - 1s 2ms/step - loss: 0.5537 - accuracy: 0.7600 - val_loss: 0.5562 - val_accuracy: 0.7586\n",
      "Epoch 17/100\n",
      "343/343 [==============================] - 1s 2ms/step - loss: 0.5504 - accuracy: 0.7616 - val_loss: 0.5530 - val_accuracy: 0.7590\n",
      "Epoch 18/100\n",
      "343/343 [==============================] - 1s 2ms/step - loss: 0.5481 - accuracy: 0.7627 - val_loss: 0.5499 - val_accuracy: 0.7600\n",
      "Epoch 19/100\n",
      "343/343 [==============================] - 1s 2ms/step - loss: 0.5458 - accuracy: 0.7638 - val_loss: 0.5524 - val_accuracy: 0.7583\n",
      "Epoch 20/100\n",
      "343/343 [==============================] - 1s 2ms/step - loss: 0.5431 - accuracy: 0.7655 - val_loss: 0.5446 - val_accuracy: 0.7623\n",
      "Epoch 21/100\n",
      "343/343 [==============================] - 1s 2ms/step - loss: 0.5404 - accuracy: 0.7668 - val_loss: 0.5431 - val_accuracy: 0.7631\n",
      "Epoch 22/100\n",
      "343/343 [==============================] - 1s 2ms/step - loss: 0.5389 - accuracy: 0.7673 - val_loss: 0.5392 - val_accuracy: 0.7656\n",
      "Epoch 23/100\n",
      "343/343 [==============================] - 1s 2ms/step - loss: 0.5360 - accuracy: 0.7689 - val_loss: 0.5378 - val_accuracy: 0.7663\n",
      "Epoch 24/100\n",
      "343/343 [==============================] - 1s 2ms/step - loss: 0.5346 - accuracy: 0.7694 - val_loss: 0.5382 - val_accuracy: 0.7654\n",
      "Epoch 25/100\n",
      "343/343 [==============================] - 1s 2ms/step - loss: 0.5326 - accuracy: 0.7701 - val_loss: 0.5368 - val_accuracy: 0.7656\n",
      "Epoch 26/100\n",
      "343/343 [==============================] - 1s 2ms/step - loss: 0.5309 - accuracy: 0.7718 - val_loss: 0.5352 - val_accuracy: 0.7662\n",
      "Epoch 27/100\n",
      "343/343 [==============================] - 1s 2ms/step - loss: 0.5299 - accuracy: 0.7715 - val_loss: 0.5319 - val_accuracy: 0.7682\n",
      "Epoch 28/100\n",
      "343/343 [==============================] - 1s 2ms/step - loss: 0.5279 - accuracy: 0.7730 - val_loss: 0.5304 - val_accuracy: 0.7686\n",
      "Epoch 29/100\n",
      "343/343 [==============================] - 1s 2ms/step - loss: 0.5265 - accuracy: 0.7728 - val_loss: 0.5283 - val_accuracy: 0.7697\n",
      "Epoch 30/100\n",
      "343/343 [==============================] - 1s 2ms/step - loss: 0.5254 - accuracy: 0.7736 - val_loss: 0.5281 - val_accuracy: 0.7689\n",
      "Epoch 31/100\n",
      "343/343 [==============================] - 1s 2ms/step - loss: 0.5244 - accuracy: 0.7745 - val_loss: 0.5267 - val_accuracy: 0.7699\n",
      "Epoch 32/100\n",
      "343/343 [==============================] - 1s 2ms/step - loss: 0.5232 - accuracy: 0.7745 - val_loss: 0.5258 - val_accuracy: 0.7714\n",
      "Epoch 33/100\n",
      "343/343 [==============================] - 1s 2ms/step - loss: 0.5212 - accuracy: 0.7759 - val_loss: 0.5256 - val_accuracy: 0.7709\n",
      "Epoch 34/100\n",
      "343/343 [==============================] - 1s 2ms/step - loss: 0.5210 - accuracy: 0.7760 - val_loss: 0.5239 - val_accuracy: 0.7712\n",
      "Epoch 35/100\n",
      "343/343 [==============================] - 1s 2ms/step - loss: 0.5195 - accuracy: 0.7763 - val_loss: 0.5206 - val_accuracy: 0.7728\n",
      "Epoch 36/100\n",
      "343/343 [==============================] - 1s 2ms/step - loss: 0.5188 - accuracy: 0.7763 - val_loss: 0.5206 - val_accuracy: 0.7744\n",
      "Epoch 37/100\n",
      "343/343 [==============================] - 1s 2ms/step - loss: 0.5173 - accuracy: 0.7777 - val_loss: 0.5247 - val_accuracy: 0.7716\n",
      "Epoch 38/100\n",
      "343/343 [==============================] - 1s 2ms/step - loss: 0.5162 - accuracy: 0.7781 - val_loss: 0.5174 - val_accuracy: 0.7744\n",
      "Epoch 39/100\n",
      "343/343 [==============================] - 1s 2ms/step - loss: 0.5152 - accuracy: 0.7787 - val_loss: 0.5172 - val_accuracy: 0.7753\n",
      "Epoch 40/100\n",
      "343/343 [==============================] - 1s 2ms/step - loss: 0.5142 - accuracy: 0.7793 - val_loss: 0.5166 - val_accuracy: 0.7749\n",
      "Epoch 41/100\n",
      "343/343 [==============================] - 1s 2ms/step - loss: 0.5136 - accuracy: 0.7794 - val_loss: 0.5180 - val_accuracy: 0.7744\n",
      "Epoch 42/100\n",
      "343/343 [==============================] - 1s 2ms/step - loss: 0.5128 - accuracy: 0.7800 - val_loss: 0.5156 - val_accuracy: 0.7768\n",
      "Epoch 43/100\n",
      "343/343 [==============================] - 1s 2ms/step - loss: 0.5117 - accuracy: 0.7807 - val_loss: 0.5174 - val_accuracy: 0.7745\n",
      "Epoch 44/100\n",
      "343/343 [==============================] - 1s 2ms/step - loss: 0.5114 - accuracy: 0.7803 - val_loss: 0.5176 - val_accuracy: 0.7738\n",
      "Epoch 45/100\n",
      "343/343 [==============================] - 1s 2ms/step - loss: 0.5099 - accuracy: 0.7813 - val_loss: 0.5154 - val_accuracy: 0.7767\n",
      "Epoch 46/100\n",
      "343/343 [==============================] - 1s 2ms/step - loss: 0.5091 - accuracy: 0.7813 - val_loss: 0.5180 - val_accuracy: 0.7759\n",
      "Epoch 47/100\n",
      "343/343 [==============================] - 1s 2ms/step - loss: 0.5090 - accuracy: 0.7812 - val_loss: 0.5120 - val_accuracy: 0.7770\n",
      "Epoch 48/100\n",
      "343/343 [==============================] - 1s 2ms/step - loss: 0.5076 - accuracy: 0.7822 - val_loss: 0.5107 - val_accuracy: 0.7775\n",
      "Epoch 49/100\n",
      "343/343 [==============================] - 1s 2ms/step - loss: 0.5072 - accuracy: 0.7820 - val_loss: 0.5109 - val_accuracy: 0.7772\n",
      "Epoch 50/100\n",
      "343/343 [==============================] - 1s 2ms/step - loss: 0.5062 - accuracy: 0.7824 - val_loss: 0.5100 - val_accuracy: 0.7785\n",
      "Epoch 51/100\n",
      "343/343 [==============================] - 1s 2ms/step - loss: 0.5051 - accuracy: 0.7830 - val_loss: 0.5093 - val_accuracy: 0.7783\n",
      "Epoch 52/100\n",
      "343/343 [==============================] - 1s 2ms/step - loss: 0.5047 - accuracy: 0.7833 - val_loss: 0.5074 - val_accuracy: 0.7805\n",
      "Epoch 53/100\n",
      "343/343 [==============================] - 1s 2ms/step - loss: 0.5035 - accuracy: 0.7841 - val_loss: 0.5074 - val_accuracy: 0.7820\n",
      "Epoch 54/100\n",
      "343/343 [==============================] - 1s 2ms/step - loss: 0.5031 - accuracy: 0.7844 - val_loss: 0.5059 - val_accuracy: 0.7805\n",
      "Epoch 55/100\n",
      "343/343 [==============================] - 1s 2ms/step - loss: 0.5024 - accuracy: 0.7847 - val_loss: 0.5046 - val_accuracy: 0.7821\n",
      "Epoch 56/100\n",
      "343/343 [==============================] - 1s 2ms/step - loss: 0.5014 - accuracy: 0.7848 - val_loss: 0.5091 - val_accuracy: 0.7785\n",
      "Epoch 57/100\n",
      "343/343 [==============================] - 1s 2ms/step - loss: 0.5009 - accuracy: 0.7846 - val_loss: 0.5049 - val_accuracy: 0.7794\n"
     ]
    },
    {
     "name": "stdout",
     "output_type": "stream",
     "text": [
      "Epoch 58/100\n",
      "343/343 [==============================] - 1s 2ms/step - loss: 0.4999 - accuracy: 0.7855 - val_loss: 0.5037 - val_accuracy: 0.7803\n",
      "Epoch 59/100\n",
      "343/343 [==============================] - 1s 2ms/step - loss: 0.4996 - accuracy: 0.7860 - val_loss: 0.5061 - val_accuracy: 0.7806\n",
      "Epoch 60/100\n",
      "343/343 [==============================] - 1s 2ms/step - loss: 0.4992 - accuracy: 0.7861 - val_loss: 0.5044 - val_accuracy: 0.7812\n",
      "Epoch 61/100\n",
      "343/343 [==============================] - 1s 2ms/step - loss: 0.4979 - accuracy: 0.7870 - val_loss: 0.5018 - val_accuracy: 0.7827\n",
      "Epoch 62/100\n",
      "343/343 [==============================] - 1s 2ms/step - loss: 0.4974 - accuracy: 0.7869 - val_loss: 0.5020 - val_accuracy: 0.7834\n",
      "Epoch 63/100\n",
      "343/343 [==============================] - 1s 2ms/step - loss: 0.4969 - accuracy: 0.7866 - val_loss: 0.5025 - val_accuracy: 0.7805\n",
      "Epoch 64/100\n",
      "343/343 [==============================] - 1s 2ms/step - loss: 0.4960 - accuracy: 0.7874 - val_loss: 0.4998 - val_accuracy: 0.7838\n",
      "Epoch 65/100\n",
      "343/343 [==============================] - 1s 2ms/step - loss: 0.4952 - accuracy: 0.7877 - val_loss: 0.5044 - val_accuracy: 0.7798\n",
      "Epoch 66/100\n",
      "343/343 [==============================] - 1s 2ms/step - loss: 0.4941 - accuracy: 0.7878 - val_loss: 0.4974 - val_accuracy: 0.7859\n",
      "Epoch 67/100\n",
      "343/343 [==============================] - 1s 2ms/step - loss: 0.4935 - accuracy: 0.7887 - val_loss: 0.4973 - val_accuracy: 0.7855\n",
      "Epoch 68/100\n",
      "343/343 [==============================] - 1s 2ms/step - loss: 0.4924 - accuracy: 0.7892 - val_loss: 0.4986 - val_accuracy: 0.7852\n",
      "Epoch 69/100\n",
      "343/343 [==============================] - 1s 2ms/step - loss: 0.4924 - accuracy: 0.7889 - val_loss: 0.4971 - val_accuracy: 0.7835\n",
      "Epoch 70/100\n",
      "343/343 [==============================] - 1s 2ms/step - loss: 0.4912 - accuracy: 0.7891 - val_loss: 0.4960 - val_accuracy: 0.7872\n",
      "Epoch 71/100\n",
      "343/343 [==============================] - 1s 2ms/step - loss: 0.4904 - accuracy: 0.7900 - val_loss: 0.4949 - val_accuracy: 0.7861\n",
      "Epoch 72/100\n",
      "343/343 [==============================] - 1s 2ms/step - loss: 0.4899 - accuracy: 0.7906 - val_loss: 0.4951 - val_accuracy: 0.7881\n",
      "Epoch 73/100\n",
      "343/343 [==============================] - 1s 3ms/step - loss: 0.4898 - accuracy: 0.7905 - val_loss: 0.4943 - val_accuracy: 0.7868\n",
      "Epoch 74/100\n",
      "343/343 [==============================] - 1s 2ms/step - loss: 0.4890 - accuracy: 0.7909 - val_loss: 0.4902 - val_accuracy: 0.7893\n",
      "Epoch 75/100\n",
      "343/343 [==============================] - 1s 2ms/step - loss: 0.4880 - accuracy: 0.7916 - val_loss: 0.4920 - val_accuracy: 0.7874\n",
      "Epoch 76/100\n",
      "343/343 [==============================] - 1s 2ms/step - loss: 0.4875 - accuracy: 0.7912 - val_loss: 0.4988 - val_accuracy: 0.7830\n",
      "Epoch 77/100\n",
      "343/343 [==============================] - 1s 2ms/step - loss: 0.4870 - accuracy: 0.7916 - val_loss: 0.4946 - val_accuracy: 0.7856\n",
      "Epoch 78/100\n",
      "343/343 [==============================] - 1s 2ms/step - loss: 0.4869 - accuracy: 0.7914 - val_loss: 0.4895 - val_accuracy: 0.7898\n",
      "Epoch 79/100\n",
      "343/343 [==============================] - 1s 2ms/step - loss: 0.4864 - accuracy: 0.7924 - val_loss: 0.4990 - val_accuracy: 0.7839\n",
      "Epoch 80/100\n",
      "343/343 [==============================] - 1s 2ms/step - loss: 0.4854 - accuracy: 0.7922 - val_loss: 0.4886 - val_accuracy: 0.7888\n",
      "Epoch 81/100\n",
      "343/343 [==============================] - 1s 2ms/step - loss: 0.4851 - accuracy: 0.7929 - val_loss: 0.4896 - val_accuracy: 0.7862\n",
      "Epoch 82/100\n",
      "343/343 [==============================] - 1s 2ms/step - loss: 0.4846 - accuracy: 0.7930 - val_loss: 0.4889 - val_accuracy: 0.7882\n",
      "Epoch 83/100\n",
      "343/343 [==============================] - 1s 2ms/step - loss: 0.4843 - accuracy: 0.7931 - val_loss: 0.4921 - val_accuracy: 0.7867\n",
      "Epoch 84/100\n",
      "343/343 [==============================] - 1s 2ms/step - loss: 0.4835 - accuracy: 0.7938 - val_loss: 0.4894 - val_accuracy: 0.7877\n",
      "Epoch 85/100\n",
      "343/343 [==============================] - 1s 2ms/step - loss: 0.4828 - accuracy: 0.7940 - val_loss: 0.4896 - val_accuracy: 0.7887\n",
      "Epoch 86/100\n",
      "343/343 [==============================] - 1s 2ms/step - loss: 0.4827 - accuracy: 0.7941 - val_loss: 0.4934 - val_accuracy: 0.7836\n",
      "Epoch 87/100\n",
      "343/343 [==============================] - 1s 2ms/step - loss: 0.4820 - accuracy: 0.7941 - val_loss: 0.4854 - val_accuracy: 0.7900\n",
      "Epoch 88/100\n",
      "343/343 [==============================] - 1s 2ms/step - loss: 0.4811 - accuracy: 0.7943 - val_loss: 0.4861 - val_accuracy: 0.7909\n",
      "Epoch 89/100\n",
      "343/343 [==============================] - 1s 2ms/step - loss: 0.4811 - accuracy: 0.7949 - val_loss: 0.4844 - val_accuracy: 0.7919\n",
      "Epoch 90/100\n",
      "343/343 [==============================] - 1s 2ms/step - loss: 0.4806 - accuracy: 0.7952 - val_loss: 0.4858 - val_accuracy: 0.7905\n",
      "Epoch 91/100\n",
      "343/343 [==============================] - 1s 2ms/step - loss: 0.4802 - accuracy: 0.7952 - val_loss: 0.4856 - val_accuracy: 0.7915\n",
      "Epoch 92/100\n",
      "343/343 [==============================] - 1s 2ms/step - loss: 0.4795 - accuracy: 0.7958 - val_loss: 0.4852 - val_accuracy: 0.7907\n",
      "Epoch 93/100\n",
      "343/343 [==============================] - 1s 2ms/step - loss: 0.4793 - accuracy: 0.7957 - val_loss: 0.4824 - val_accuracy: 0.7925\n",
      "Epoch 94/100\n",
      "343/343 [==============================] - 1s 2ms/step - loss: 0.4783 - accuracy: 0.7961 - val_loss: 0.4833 - val_accuracy: 0.7921\n",
      "Epoch 95/100\n",
      "343/343 [==============================] - 1s 2ms/step - loss: 0.4782 - accuracy: 0.7964 - val_loss: 0.4859 - val_accuracy: 0.7906\n",
      "Epoch 96/100\n",
      "343/343 [==============================] - 1s 2ms/step - loss: 0.4787 - accuracy: 0.7962 - val_loss: 0.4884 - val_accuracy: 0.7894\n",
      "Epoch 97/100\n",
      "343/343 [==============================] - 1s 2ms/step - loss: 0.4775 - accuracy: 0.7968 - val_loss: 0.4895 - val_accuracy: 0.7876\n",
      "Epoch 98/100\n",
      "343/343 [==============================] - 1s 2ms/step - loss: 0.4767 - accuracy: 0.7974 - val_loss: 0.4816 - val_accuracy: 0.7919\n",
      "Epoch 99/100\n",
      "343/343 [==============================] - 1s 3ms/step - loss: 0.4769 - accuracy: 0.7972 - val_loss: 0.4897 - val_accuracy: 0.7868\n",
      "Epoch 100/100\n",
      "343/343 [==============================] - 1s 2ms/step - loss: 0.4759 - accuracy: 0.7973 - val_loss: 0.4805 - val_accuracy: 0.7937\n"
     ]
    }
   ],
   "source": [
    "NUM_EPOCHS = 100\n",
    "BATCH_SIZE = 1024\n",
    "history = model.fit(features_train_scale, labels_train, epochs=NUM_EPOCHS, batch_size=BATCH_SIZE, validation_split=0.1, verbose=1)"
   ]
  },
  {
   "cell_type": "code",
   "execution_count": 80,
   "id": "09a56fea",
   "metadata": {},
   "outputs": [
    {
     "name": "stdout",
     "output_type": "stream",
     "text": [
      "Model: \"sequential_15\"\n",
      "_________________________________________________________________\n",
      " Layer (type)                Output Shape              Param #   \n",
      "=================================================================\n",
      " dense_40 (Dense)            (None, 64)                704       \n",
      "                                                                 \n",
      " dense_41 (Dense)            (None, 32)                2080      \n",
      "                                                                 \n",
      " dense_42 (Dense)            (None, 8)                 264       \n",
      "                                                                 \n",
      "=================================================================\n",
      "Total params: 3,048\n",
      "Trainable params: 3,048\n",
      "Non-trainable params: 0\n",
      "_________________________________________________________________\n"
     ]
    }
   ],
   "source": [
    "model.summary()"
   ]
  },
  {
   "cell_type": "code",
   "execution_count": 81,
   "id": "9b9b5184",
   "metadata": {},
   "outputs": [
    {
     "data": {
      "image/png": "[encoded data removed]",
      "text/plain": [
       "<Figure size 432x288 with 1 Axes>"
      ]
     },
     "metadata": {
      "needs_background": "light"
     },
     "output_type": "display_data"
    },
    {
     "data": {
      "image/png": "[encoded data removed]",
      "text/plain": [
       "<Figure size 432x288 with 1 Axes>"
      ]
     },
     "metadata": {
      "needs_background": "light"
     },
     "output_type": "display_data"
    }
   ],
   "source": [
    "import matplotlib.pyplot as plt\n",
    "plt.plot(history.history['accuracy'])\n",
    "plt.plot(history.history['val_accuracy'])\n",
    "plt.title('model accuracy')\n",
    "plt.ylabel('accuracy')\n",
    "plt.xlabel('epoch')\n",
    "plt.legend(['train', 'val'], loc='upper left')\n",
    "plt.show()\n",
    "\n",
    "plt.plot(history.history['loss'])\n",
    "plt.plot(history.history['val_loss'])\n",
    "plt.title('model loss')\n",
    "plt.ylabel('loss')\n",
    "plt.xlabel('epoch')\n",
    "plt.legend(['train', 'val'], loc='upper right')\n",
    "plt.show()"
   ]
  },
  {
   "cell_type": "code",
   "execution_count": 90,
   "id": "ce6bacfc",
   "metadata": {},
   "outputs": [
    {
     "name": "stdout",
     "output_type": "stream",
     "text": [
      "Test loss: 0.4836692214012146\n",
      "Test accuracy: 0.7947729825973511\n",
      "5992/5992 [==============================] - 5s 841us/step\n",
      "                   precision    recall  f1-score   support\n",
      "\n",
      "       Spruce/Fir       0.78      0.80      0.79     69907\n",
      "   Lodgepole Pine       0.82      0.83      0.82     93489\n",
      "   Ponderosa Pine       0.79      0.77      0.78     11799\n",
      "Cottonwood/Willow       0.75      0.69      0.72       907\n",
      "            Aspen       0.76      0.35      0.47      3133\n",
      "      Douglas-fir       0.64      0.52      0.57      5731\n",
      "        Krummholz       0.82      0.74      0.78      6768\n",
      "\n",
      "         accuracy                           0.79    191734\n",
      "        macro avg       0.76      0.67      0.70    191734\n",
      "     weighted avg       0.79      0.79      0.79    191734\n",
      "\n"
     ]
    }
   ],
   "source": [
    "from sklearn.metrics import confusion_matrix\n",
    "from sklearn.metrics import classification_report\n",
    "import numpy as np\n",
    "\n",
    "score = model.evaluate(features_test_scale, labels_test, verbose=0)\n",
    "print(f'Test loss: {score[0]}')\n",
    "print(f'Test accuracy: {score[1]}')\n",
    "\n",
    "prediction = model.predict(features_test_scale)\n",
    "prediction = np.argmax(prediction, axis=1)\n",
    "\n",
    "class_names = ['Spruce/Fir', 'Lodgepole Pine', 'Ponderosa Pine', 'Cottonwood/Willow', 'Aspen', 'Douglas-fir', 'Krummholz']\n",
    "print(classification_report(labels_test, prediction, target_names=class_names))"
   ]
  },
  {
   "cell_type": "code",
   "execution_count": 98,
   "id": "394500e5",
   "metadata": {},
   "outputs": [
    {
     "name": "stdout",
     "output_type": "stream",
     "text": [
      "5992/5992 [==============================] - 5s 784us/step\n",
      "[[1.8173790e-14 7.3855463e-03 9.9259830e-01 ... 1.6211525e-05\n",
      "  3.8837312e-11 1.6731987e-09]\n",
      " [4.2231288e-18 6.4382711e-08 6.4163953e-03 ... 6.1114015e-06\n",
      "  8.8076685e-03 2.0476604e-21]\n",
      " [2.6064285e-19 8.3820802e-01 1.5056044e-01 ... 3.8324006e-17\n",
      "  3.9562858e-25 1.1231555e-02]\n",
      " ...\n",
      " [2.6232022e-21 3.7738597e-01 6.2257761e-01 ... 3.6440386e-05\n",
      "  3.2179592e-17 7.4148172e-15]\n",
      " [1.9567797e-13 5.2694287e-03 9.9472874e-01 ... 1.8211290e-06\n",
      "  1.9849589e-08 6.2887649e-14]\n",
      " [1.2013876e-12 3.0026308e-01 6.2977386e-01 ... 3.5019405e-02\n",
      "  2.8936805e-02 7.4902431e-08]]\n"
     ]
    }
   ],
   "source": [
    "prediction = model.predict(features_test_scale)\n",
    "print(prediction)"
   ]
  },
  {
   "cell_type": "code",
   "execution_count": 99,
   "id": "d647706b",
   "metadata": {},
   "outputs": [
    {
     "name": "stdout",
     "output_type": "stream",
     "text": [
      "[2 3 1 ... 2 2 2]\n"
     ]
    }
   ],
   "source": [
    "prediction = np.argmax(prediction, axis=1)\n",
    "print(prediction)"
   ]
  },
  {
   "cell_type": "code",
   "execution_count": 101,
   "id": "acd3d458",
   "metadata": {},
   "outputs": [
    {
     "name": "stdout",
     "output_type": "stream",
     "text": [
      "219403    2\n",
      "265378    3\n",
      "344740    1\n",
      "500765    7\n",
      "188743    2\n",
      "         ..\n",
      "80383     2\n",
      "471503    1\n",
      "20201     2\n",
      "62160     2\n",
      "394936    2\n",
      "Name: class, Length: 191734, dtype: int64\n"
     ]
    }
   ],
   "source": [
    "print(labels_test)"
   ]
  },
  {
   "cell_type": "code",
   "execution_count": 102,
   "id": "dcb0a0d3",
   "metadata": {},
   "outputs": [],
   "source": [
    "from sklearn.metrics import confusion_matrix\n",
    "cm = confusion_matrix(labels_test, prediction)"
   ]
  },
  {
   "cell_type": "code",
   "execution_count": 103,
   "id": "289c173f",
   "metadata": {},
   "outputs": [
    {
     "data": {
      "text/plain": [
       "[Text(0, 0.5, 'Spruce/Fir'),\n",
       " Text(0, 1.5, 'Lodgepole Pine'),\n",
       " Text(0, 2.5, 'Ponderosa Pine'),\n",
       " Text(0, 3.5, 'Cottonwood/Willow'),\n",
       " Text(0, 4.5, 'Aspen'),\n",
       " Text(0, 5.5, 'Douglas-fir'),\n",
       " Text(0, 6.5, 'Krummholz')]"
      ]
     },
     "execution_count": 103,
     "metadata": {},
     "output_type": "execute_result"
    },
    {
     "data": {
      "image/png": "[encoded data removed]",
      "text/plain": [
       "<Figure size 1080x1080 with 2 Axes>"
      ]
     },
     "metadata": {
      "needs_background": "light"
     },
     "output_type": "display_data"
    }
   ],
   "source": [
    "import matplotlib.pyplot as plt\n",
    "import seaborn as sns\n",
    "\n",
    "class_names = ['Spruce/Fir', 'Lodgepole Pine', 'Ponderosa Pine', 'Cottonwood/Willow', 'Aspen', 'Douglas-fir', 'Krummholz']\n",
    "fig, ax = plt.subplots(figsize=(15, 15))\n",
    "heatmap = sns.heatmap(cm, fmt='g', cmap='Blues', annot=True, ax=ax)\n",
    "ax.set_xlabel('Predicted class')\n",
    "ax.set_ylabel('True class')\n",
    "ax.set_title('Confusion Matrix')\n",
    "ax.xaxis.set_ticklabels(class_names)\n",
    "ax.yaxis.set_ticklabels(class_names)"
   ]
  },
  {
   "cell_type": "code",
   "execution_count": null,
   "id": "53694d2b",
   "metadata": {},
   "outputs": [],
   "source": []
  }
 ],
 "metadata": {
  "kernelspec": {
   "display_name": "Python 3 (ipykernel)",
   "language": "python",
   "name": "python3"
  },
  "language_info": {
   "codemirror_mode": {
    "name": "ipython",
    "version": 3
   },
   "file_extension": ".py",
   "mimetype": "text/x-python",
   "name": "python",
   "nbconvert_exporter": "python",
   "pygments_lexer": "ipython3",
   "version": "3.9.12"
  }
 },
 "nbformat": 4,
 "nbformat_minor": 5
}
