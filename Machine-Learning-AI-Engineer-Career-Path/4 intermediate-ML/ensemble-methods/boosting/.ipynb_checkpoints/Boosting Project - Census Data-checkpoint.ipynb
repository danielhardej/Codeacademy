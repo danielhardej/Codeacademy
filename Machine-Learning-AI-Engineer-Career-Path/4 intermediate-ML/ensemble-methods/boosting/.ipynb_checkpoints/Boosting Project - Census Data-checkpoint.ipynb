{
 "cells": [
  {
   "cell_type": "markdown",
   "id": "c647b5a7",
   "metadata": {},
   "source": [
    "# Boosting Project - Census Data\n",
    "\n",
    "In this project, we will be using a dataset containing census information from UCI’s Machine Learning Repository.\n",
    "\n",
    "By using this census data with boosting algorithms, we will try to predict whether or not a person makes more than $50,000.\n",
    "\n",
    "The original data set is available at the UCI Machine Learning Repository: https://archive.ics.uci.edu/ml/datasets/census+income\n",
    "\n",
    "### What is Boosting?\n",
    "\n",
    "Boosting is an ensemble learning technique where simple, weak learners that tend to suffer from high bias are used. In  Boosting, the base models are decision trees with only one level, also known as a decision stump. Decision stumps can only make a decision based off of one feature at a time, causing them to underfit the data substantially.\n",
    "\n",
    "Base models are referred to \"weak learners\" as they tend to have high bias or high variance and on average perform only slightly better than choosing at random.\n",
    "\n",
    "The reason weak learners are used is because it makes the ensemble model implementation be computationally efficient. Combining strong learners doesn’t necessarily make the final ensemble model performan better, so it makes sense to choose learners that have a lower computational cost.\n",
    "\n",
    "Boosting is a sequential learning technique where each of the base models builds off the previous model. Each subsequent model aims to improve the performance of the final ensembled model by attempting to fix the errors of the previous model.\n",
    "\n",
    "For example, training instances that are misclassified by a previous decision stump are given more weight by the next decision stump. This is one method in which boosting methods may learn from their mistakes.\n",
    "\n",
    "Two common implementations of the boosting algorithm are Adaptive Boosting and Gradient Boosting, both of which we use here.\n",
    "\n",
    "\n"
   ]
  },
  {
   "cell_type": "code",
   "execution_count": 2,
   "id": "2a86d089",
   "metadata": {},
   "outputs": [],
   "source": [
    "import pandas as pd\n",
    "import numpy as np\n",
    "\n",
    "from sklearn.model_selection import train_test_split\n",
    "\n",
    "from sklearn.tree import DecisionTreeClassifier\n",
    "from sklearn.ensemble import AdaBoostClassifier\n",
    "from sklearn.ensemble import GradientBoostingClassifier\n",
    "from sklearn.model_selection import GridSearchCV\n",
    "import matplotlib.pyplot as plt\n",
    "import seaborn as sns\n",
    "\n",
    "from sklearn.metrics import accuracy_score, precision_score, recall_score, f1_score, confusion_matrix\n"
   ]
  },
  {
   "cell_type": "code",
   "execution_count": 3,
   "id": "c6c6be97",
   "metadata": {},
   "outputs": [],
   "source": [
    "path_to_data = \"https://archive.ics.uci.edu/ml/machine-learning-databases/adult/adult.data\"\n",
    "\n",
    "col_names = [\n",
    "    'age', 'workclass', 'fnlwgt','education', 'education-num', 'marital-status',\n",
    "    'occupation', 'relationship', 'race', 'sex', 'capital-gain','capital-loss',\n",
    "    'hours-per-week','native-country', 'income'\n",
    "]\n",
    "\n",
    "df = pd.read_csv(path_to_data, header=None, names = col_names)"
   ]
  },
  {
   "cell_type": "code",
   "execution_count": 4,
   "id": "f3700088",
   "metadata": {},
   "outputs": [],
   "source": [
    "#Clean columns by stripping extra whitespace for columns of type \"object\"\n",
    "for c in df.select_dtypes(include=['object']).columns:\n",
    "    df[c] = df[c].str.strip()\n",
    "\n",
    "target_column = \"income\"\n",
    "raw_feature_cols = [\n",
    "    'age',\n",
    "    'education-num',\n",
    "    'workclass',\n",
    "    'hours-per-week',\n",
    "    'sex',\n",
    "    'race'\n",
    "]"
   ]
  },
  {
   "cell_type": "code",
   "execution_count": 5,
   "id": "8f6ecbd8",
   "metadata": {},
   "outputs": [
    {
     "name": "stdout",
     "output_type": "stream",
     "text": [
      "<=50K    0.75919\n",
      ">50K     0.24081\n",
      "Name: income, dtype: float64\n"
     ]
    }
   ],
   "source": [
    "# Taking a look at the distribution of the target column (income)\n",
    "print(df[target_column].value_counts(normalize=True))"
   ]
  },
  {
   "cell_type": "code",
   "execution_count": 6,
   "id": "920dda4d",
   "metadata": {},
   "outputs": [
    {
     "name": "stdout",
     "output_type": "stream",
     "text": [
      "age                int64\n",
      "education-num      int64\n",
      "workclass         object\n",
      "hours-per-week     int64\n",
      "sex               object\n",
      "race              object\n",
      "dtype: object\n"
     ]
    }
   ],
   "source": [
    "# Taking a look at the datatypes of these columns\n",
    "print(df[raw_feature_cols].dtypes)"
   ]
  },
  {
   "cell_type": "code",
   "execution_count": 7,
   "id": "c968b808",
   "metadata": {},
   "outputs": [
    {
     "name": "stdout",
     "output_type": "stream",
     "text": [
      "   age  education-num  hours-per-week  workclass_Federal-gov  \\\n",
      "0   39             13              40                      0   \n",
      "1   50             13              13                      0   \n",
      "2   38              9              40                      0   \n",
      "3   53              7              40                      0   \n",
      "4   28             13              40                      0   \n",
      "\n",
      "   workclass_Local-gov  workclass_Never-worked  workclass_Private  \\\n",
      "0                    0                       0                  0   \n",
      "1                    0                       0                  0   \n",
      "2                    0                       0                  1   \n",
      "3                    0                       0                  1   \n",
      "4                    0                       0                  1   \n",
      "\n",
      "   workclass_Self-emp-inc  workclass_Self-emp-not-inc  workclass_State-gov  \\\n",
      "0                       0                           0                    1   \n",
      "1                       0                           1                    0   \n",
      "2                       0                           0                    0   \n",
      "3                       0                           0                    0   \n",
      "4                       0                           0                    0   \n",
      "\n",
      "   workclass_Without-pay  sex_Male  race_Asian-Pac-Islander  race_Black  \\\n",
      "0                      0         1                        0           0   \n",
      "1                      0         1                        0           0   \n",
      "2                      0         1                        0           0   \n",
      "3                      0         1                        0           1   \n",
      "4                      0         0                        0           1   \n",
      "\n",
      "   race_Other  race_White  \n",
      "0           0           1  \n",
      "1           0           1  \n",
      "2           0           1  \n",
      "3           0           0  \n",
      "4           0           0  \n"
     ]
    }
   ],
   "source": [
    "# Create the features dataframe and convert categorical variables to dummy variables and inspect the first few rows\n",
    "X = pd.get_dummies(df[raw_feature_cols], drop_first=True)\n",
    "print(X.head(n=5))"
   ]
  },
  {
   "cell_type": "code",
   "execution_count": 8,
   "id": "6b6d0177",
   "metadata": {},
   "outputs": [],
   "source": [
    "# Convert the target variable to a binary value. Setting it to 0 when income <= 50K and 1 when income > 50K.\n",
    "y = np.where(df.income=='<=50K', 0, 1)\n",
    "X_train, X_test, y_train, y_test = train_test_split(X,y, random_state=0, test_size=0.30)"
   ]
  },
  {
   "cell_type": "code",
   "execution_count": 9,
   "id": "f3cb5bca",
   "metadata": {},
   "outputs": [],
   "source": [
    "# Create the base estimator, a decision stump, with instances of AdaBoost and GradientBoost classifiers\n",
    "decision_stump = DecisionTreeClassifier(max_depth=1)\n",
    "ada_classifier = AdaBoostClassifier(base_estimator=decision_stump)\n",
    "grad_classifier = GradientBoostingClassifier()"
   ]
  },
  {
   "cell_type": "code",
   "execution_count": 10,
   "id": "c7d53770",
   "metadata": {},
   "outputs": [
    {
     "data": {
      "text/html": [
       "<style>#sk-container-id-1 {color: black;background-color: white;}#sk-container-id-1 pre{padding: 0;}#sk-container-id-1 div.sk-toggleable {background-color: white;}#sk-container-id-1 label.sk-toggleable__label {cursor: pointer;display: block;width: 100%;margin-bottom: 0;padding: 0.3em;box-sizing: border-box;text-align: center;}#sk-container-id-1 label.sk-toggleable__label-arrow:before {content: \"▸\";float: left;margin-right: 0.25em;color: #696969;}#sk-container-id-1 label.sk-toggleable__label-arrow:hover:before {color: black;}#sk-container-id-1 div.sk-estimator:hover label.sk-toggleable__label-arrow:before {color: black;}#sk-container-id-1 div.sk-toggleable__content {max-height: 0;max-width: 0;overflow: hidden;text-align: left;background-color: #f0f8ff;}#sk-container-id-1 div.sk-toggleable__content pre {margin: 0.2em;color: black;border-radius: 0.25em;background-color: #f0f8ff;}#sk-container-id-1 input.sk-toggleable__control:checked~div.sk-toggleable__content {max-height: 200px;max-width: 100%;overflow: auto;}#sk-container-id-1 input.sk-toggleable__control:checked~label.sk-toggleable__label-arrow:before {content: \"▾\";}#sk-container-id-1 div.sk-estimator input.sk-toggleable__control:checked~label.sk-toggleable__label {background-color: #d4ebff;}#sk-container-id-1 div.sk-label input.sk-toggleable__control:checked~label.sk-toggleable__label {background-color: #d4ebff;}#sk-container-id-1 input.sk-hidden--visually {border: 0;clip: rect(1px 1px 1px 1px);clip: rect(1px, 1px, 1px, 1px);height: 1px;margin: -1px;overflow: hidden;padding: 0;position: absolute;width: 1px;}#sk-container-id-1 div.sk-estimator {font-family: monospace;background-color: #f0f8ff;border: 1px dotted black;border-radius: 0.25em;box-sizing: border-box;margin-bottom: 0.5em;}#sk-container-id-1 div.sk-estimator:hover {background-color: #d4ebff;}#sk-container-id-1 div.sk-parallel-item::after {content: \"\";width: 100%;border-bottom: 1px solid gray;flex-grow: 1;}#sk-container-id-1 div.sk-label:hover label.sk-toggleable__label {background-color: #d4ebff;}#sk-container-id-1 div.sk-serial::before {content: \"\";position: absolute;border-left: 1px solid gray;box-sizing: border-box;top: 0;bottom: 0;left: 50%;z-index: 0;}#sk-container-id-1 div.sk-serial {display: flex;flex-direction: column;align-items: center;background-color: white;padding-right: 0.2em;padding-left: 0.2em;position: relative;}#sk-container-id-1 div.sk-item {position: relative;z-index: 1;}#sk-container-id-1 div.sk-parallel {display: flex;align-items: stretch;justify-content: center;background-color: white;position: relative;}#sk-container-id-1 div.sk-item::before, #sk-container-id-1 div.sk-parallel-item::before {content: \"\";position: absolute;border-left: 1px solid gray;box-sizing: border-box;top: 0;bottom: 0;left: 50%;z-index: -1;}#sk-container-id-1 div.sk-parallel-item {display: flex;flex-direction: column;z-index: 1;position: relative;background-color: white;}#sk-container-id-1 div.sk-parallel-item:first-child::after {align-self: flex-end;width: 50%;}#sk-container-id-1 div.sk-parallel-item:last-child::after {align-self: flex-start;width: 50%;}#sk-container-id-1 div.sk-parallel-item:only-child::after {width: 0;}#sk-container-id-1 div.sk-dashed-wrapped {border: 1px dashed gray;margin: 0 0.4em 0.5em 0.4em;box-sizing: border-box;padding-bottom: 0.4em;background-color: white;}#sk-container-id-1 div.sk-label label {font-family: monospace;font-weight: bold;display: inline-block;line-height: 1.2em;}#sk-container-id-1 div.sk-label-container {text-align: center;}#sk-container-id-1 div.sk-container {/* jupyter's `normalize.less` sets `[hidden] { display: none; }` but bootstrap.min.css set `[hidden] { display: none !important; }` so we also need the `!important` here to be able to override the default hidden behavior on the sphinx rendered scikit-learn.org. See: https://github.com/scikit-learn/scikit-learn/issues/21755 */display: inline-block !important;position: relative;}#sk-container-id-1 div.sk-text-repr-fallback {display: none;}</style><div id=\"sk-container-id-1\" class=\"sk-top-container\"><div class=\"sk-text-repr-fallback\"><pre>GradientBoostingClassifier()</pre><b>In a Jupyter environment, please rerun this cell to show the HTML representation or trust the notebook. <br />On GitHub, the HTML representation is unable to render, please try loading this page with nbviewer.org.</b></div><div class=\"sk-container\" hidden><div class=\"sk-item\"><div class=\"sk-estimator sk-toggleable\"><input class=\"sk-toggleable__control sk-hidden--visually\" id=\"sk-estimator-id-1\" type=\"checkbox\" checked><label for=\"sk-estimator-id-1\" class=\"sk-toggleable__label sk-toggleable__label-arrow\">GradientBoostingClassifier</label><div class=\"sk-toggleable__content\"><pre>GradientBoostingClassifier()</pre></div></div></div></div></div>"
      ],
      "text/plain": [
       "GradientBoostingClassifier()"
      ]
     },
     "execution_count": 10,
     "metadata": {},
     "output_type": "execute_result"
    }
   ],
   "source": [
    "# Fit the classifiers on the training data\n",
    "ada_classifier.fit(X_train, y_train)\n",
    "grad_classifier.fit(X_train, y_train)"
   ]
  },
  {
   "cell_type": "code",
   "execution_count": 11,
   "id": "3e914af3",
   "metadata": {},
   "outputs": [],
   "source": [
    "# Make our predictions using the classifiers\n",
    "y_pred_ada = ada_classifier.predict(X_test)\n",
    "y_pred_grad = grad_classifier.predict(X_test)"
   ]
  },
  {
   "cell_type": "code",
   "execution_count": 12,
   "id": "2dbfa5b8",
   "metadata": {},
   "outputs": [],
   "source": [
    "# Calculate accuracy and F1 scores\n",
    "ada_acc = accuracy_score(y_test, y_pred_ada)\n",
    "ada_f1 = f1_score(y_test, y_pred_ada)\n",
    "grad_acc = accuracy_score(y_test, y_pred_grad)\n",
    "grad_f1 = f1_score(y_test, y_pred_grad)"
   ]
  },
  {
   "cell_type": "markdown",
   "id": "2cda18ab",
   "metadata": {},
   "source": [
    "## Results with Default Hyperparameters"
   ]
  },
  {
   "cell_type": "code",
   "execution_count": 13,
   "id": "73e600ee",
   "metadata": {},
   "outputs": [
    {
     "name": "stdout",
     "output_type": "stream",
     "text": [
      "AdaBoost Classifier accuracy: 0.8072474152932746  F1: 0.5238938053097345\n",
      "GradBoost Classifier accuracy: 0.8125703756781656  F1: 0.5432776253429782\n"
     ]
    }
   ],
   "source": [
    "print(\"AdaBoost Classifier accuracy: {0}  F1: {1}\".format(ada_acc, ada_f1))\n",
    "print(\"GradBoost Classifier accuracy: {0}  F1: {1}\".format(grad_acc, grad_f1))"
   ]
  },
  {
   "cell_type": "markdown",
   "id": "621a2e82",
   "metadata": {},
   "source": [
    "## Hyperparameter Tuning\n",
    "\n",
    "For AdaBoost the default n_estimators is 50 and for Gradient Boosting it is 100.\n",
    "\n",
    "Here we'll explore different values for n_estimators for each of the models that use the AdaBoostClassifier, and then explore different values for the learning rate for the GradientBoostClassifier.\n",
    "\n",
    "We'll use Sklearn's GridSearchCV to search over a range specified hyperparameter values to find the one that performs the best:\n",
    "https://scikit-learn.org/stable/modules/generated/sklearn.model_selection.GridSearchCV.html\n",
    "\n",
    "We'll use F1 score to evaluate the performance of the cross-validated model on the test set."
   ]
  },
  {
   "cell_type": "code",
   "execution_count": 21,
   "id": "070b838d",
   "metadata": {},
   "outputs": [
    {
     "name": "stdout",
     "output_type": "stream",
     "text": [
      "Fitting 5 folds for each of 7 candidates, totalling 35 fits\n"
     ]
    },
    {
     "data": {
      "text/html": [
       "<style>#sk-container-id-4 {color: black;background-color: white;}#sk-container-id-4 pre{padding: 0;}#sk-container-id-4 div.sk-toggleable {background-color: white;}#sk-container-id-4 label.sk-toggleable__label {cursor: pointer;display: block;width: 100%;margin-bottom: 0;padding: 0.3em;box-sizing: border-box;text-align: center;}#sk-container-id-4 label.sk-toggleable__label-arrow:before {content: \"▸\";float: left;margin-right: 0.25em;color: #696969;}#sk-container-id-4 label.sk-toggleable__label-arrow:hover:before {color: black;}#sk-container-id-4 div.sk-estimator:hover label.sk-toggleable__label-arrow:before {color: black;}#sk-container-id-4 div.sk-toggleable__content {max-height: 0;max-width: 0;overflow: hidden;text-align: left;background-color: #f0f8ff;}#sk-container-id-4 div.sk-toggleable__content pre {margin: 0.2em;color: black;border-radius: 0.25em;background-color: #f0f8ff;}#sk-container-id-4 input.sk-toggleable__control:checked~div.sk-toggleable__content {max-height: 200px;max-width: 100%;overflow: auto;}#sk-container-id-4 input.sk-toggleable__control:checked~label.sk-toggleable__label-arrow:before {content: \"▾\";}#sk-container-id-4 div.sk-estimator input.sk-toggleable__control:checked~label.sk-toggleable__label {background-color: #d4ebff;}#sk-container-id-4 div.sk-label input.sk-toggleable__control:checked~label.sk-toggleable__label {background-color: #d4ebff;}#sk-container-id-4 input.sk-hidden--visually {border: 0;clip: rect(1px 1px 1px 1px);clip: rect(1px, 1px, 1px, 1px);height: 1px;margin: -1px;overflow: hidden;padding: 0;position: absolute;width: 1px;}#sk-container-id-4 div.sk-estimator {font-family: monospace;background-color: #f0f8ff;border: 1px dotted black;border-radius: 0.25em;box-sizing: border-box;margin-bottom: 0.5em;}#sk-container-id-4 div.sk-estimator:hover {background-color: #d4ebff;}#sk-container-id-4 div.sk-parallel-item::after {content: \"\";width: 100%;border-bottom: 1px solid gray;flex-grow: 1;}#sk-container-id-4 div.sk-label:hover label.sk-toggleable__label {background-color: #d4ebff;}#sk-container-id-4 div.sk-serial::before {content: \"\";position: absolute;border-left: 1px solid gray;box-sizing: border-box;top: 0;bottom: 0;left: 50%;z-index: 0;}#sk-container-id-4 div.sk-serial {display: flex;flex-direction: column;align-items: center;background-color: white;padding-right: 0.2em;padding-left: 0.2em;position: relative;}#sk-container-id-4 div.sk-item {position: relative;z-index: 1;}#sk-container-id-4 div.sk-parallel {display: flex;align-items: stretch;justify-content: center;background-color: white;position: relative;}#sk-container-id-4 div.sk-item::before, #sk-container-id-4 div.sk-parallel-item::before {content: \"\";position: absolute;border-left: 1px solid gray;box-sizing: border-box;top: 0;bottom: 0;left: 50%;z-index: -1;}#sk-container-id-4 div.sk-parallel-item {display: flex;flex-direction: column;z-index: 1;position: relative;background-color: white;}#sk-container-id-4 div.sk-parallel-item:first-child::after {align-self: flex-end;width: 50%;}#sk-container-id-4 div.sk-parallel-item:last-child::after {align-self: flex-start;width: 50%;}#sk-container-id-4 div.sk-parallel-item:only-child::after {width: 0;}#sk-container-id-4 div.sk-dashed-wrapped {border: 1px dashed gray;margin: 0 0.4em 0.5em 0.4em;box-sizing: border-box;padding-bottom: 0.4em;background-color: white;}#sk-container-id-4 div.sk-label label {font-family: monospace;font-weight: bold;display: inline-block;line-height: 1.2em;}#sk-container-id-4 div.sk-label-container {text-align: center;}#sk-container-id-4 div.sk-container {/* jupyter's `normalize.less` sets `[hidden] { display: none; }` but bootstrap.min.css set `[hidden] { display: none !important; }` so we also need the `!important` here to be able to override the default hidden behavior on the sphinx rendered scikit-learn.org. See: https://github.com/scikit-learn/scikit-learn/issues/21755 */display: inline-block !important;position: relative;}#sk-container-id-4 div.sk-text-repr-fallback {display: none;}</style><div id=\"sk-container-id-4\" class=\"sk-top-container\"><div class=\"sk-text-repr-fallback\"><pre>GridSearchCV(estimator=AdaBoostClassifier(base_estimator=DecisionTreeClassifier(max_depth=1)),\n",
       "             n_jobs=-1,\n",
       "             param_grid={&#x27;n_estimators&#x27;: [10, 50, 100, 150, 200, 250, 300]},\n",
       "             scoring=&#x27;f1&#x27;, verbose=3)</pre><b>In a Jupyter environment, please rerun this cell to show the HTML representation or trust the notebook. <br />On GitHub, the HTML representation is unable to render, please try loading this page with nbviewer.org.</b></div><div class=\"sk-container\" hidden><div class=\"sk-item sk-dashed-wrapped\"><div class=\"sk-label-container\"><div class=\"sk-label sk-toggleable\"><input class=\"sk-toggleable__control sk-hidden--visually\" id=\"sk-estimator-id-9\" type=\"checkbox\" ><label for=\"sk-estimator-id-9\" class=\"sk-toggleable__label sk-toggleable__label-arrow\">GridSearchCV</label><div class=\"sk-toggleable__content\"><pre>GridSearchCV(estimator=AdaBoostClassifier(base_estimator=DecisionTreeClassifier(max_depth=1)),\n",
       "             n_jobs=-1,\n",
       "             param_grid={&#x27;n_estimators&#x27;: [10, 50, 100, 150, 200, 250, 300]},\n",
       "             scoring=&#x27;f1&#x27;, verbose=3)</pre></div></div></div><div class=\"sk-parallel\"><div class=\"sk-parallel-item\"><div class=\"sk-item\"><div class=\"sk-label-container\"><div class=\"sk-label sk-toggleable\"><input class=\"sk-toggleable__control sk-hidden--visually\" id=\"sk-estimator-id-10\" type=\"checkbox\" ><label for=\"sk-estimator-id-10\" class=\"sk-toggleable__label sk-toggleable__label-arrow\">estimator: AdaBoostClassifier</label><div class=\"sk-toggleable__content\"><pre>AdaBoostClassifier(base_estimator=DecisionTreeClassifier(max_depth=1))</pre></div></div></div><div class=\"sk-serial\"><div class=\"sk-item sk-dashed-wrapped\"><div class=\"sk-parallel\"><div class=\"sk-parallel-item\"><div class=\"sk-item\"><div class=\"sk-label-container\"><div class=\"sk-label sk-toggleable\"><input class=\"sk-toggleable__control sk-hidden--visually\" id=\"sk-estimator-id-11\" type=\"checkbox\" ><label for=\"sk-estimator-id-11\" class=\"sk-toggleable__label sk-toggleable__label-arrow\">base_estimator: DecisionTreeClassifier</label><div class=\"sk-toggleable__content\"><pre>DecisionTreeClassifier(max_depth=1)</pre></div></div></div><div class=\"sk-serial\"><div class=\"sk-item\"><div class=\"sk-estimator sk-toggleable\"><input class=\"sk-toggleable__control sk-hidden--visually\" id=\"sk-estimator-id-12\" type=\"checkbox\" ><label for=\"sk-estimator-id-12\" class=\"sk-toggleable__label sk-toggleable__label-arrow\">DecisionTreeClassifier</label><div class=\"sk-toggleable__content\"><pre>DecisionTreeClassifier(max_depth=1)</pre></div></div></div></div></div></div></div></div></div></div></div></div></div></div></div>"
      ],
      "text/plain": [
       "GridSearchCV(estimator=AdaBoostClassifier(base_estimator=DecisionTreeClassifier(max_depth=1)),\n",
       "             n_jobs=-1,\n",
       "             param_grid={'n_estimators': [10, 50, 100, 150, 200, 250, 300]},\n",
       "             scoring='f1', verbose=3)"
      ]
     },
     "execution_count": 21,
     "metadata": {},
     "output_type": "execute_result"
    }
   ],
   "source": [
    "# Create a new instance of the AdaBoost classifier\n",
    "ada_clf = AdaBoostClassifier(base_estimator=DecisionTreeClassifier(max_depth=1))\n",
    "# Specify our list of hyperparam values (n_estimators) to test\n",
    "ada_params = {'n_estimators':[10,50,100,150,200,250,300]}\n",
    "\n",
    "ada_gs_clf = GridSearchCV(ada_clf, ada_params, verbose=3, scoring='f1', n_jobs=-1)\n",
    "ada_gs_clf.fit(X, y)"
   ]
  },
  {
   "cell_type": "code",
   "execution_count": 22,
   "id": "a59e00f5",
   "metadata": {},
   "outputs": [
    {
     "name": "stdout",
     "output_type": "stream",
     "text": [
      "Best AdaBoost parameters: \n",
      "{'n_estimators': 50}\n"
     ]
    }
   ],
   "source": [
    "# Print the AdaBoost hyperparameters that performed the best.\n",
    "print(\"Best AdaBoost parameters: \")\n",
    "print(ada_gs_clf.best_params_)"
   ]
  },
  {
   "cell_type": "code",
   "execution_count": 23,
   "id": "05207b87",
   "metadata": {},
   "outputs": [
    {
     "name": "stdout",
     "output_type": "stream",
     "text": [
      "Fitting 5 folds for each of 5 candidates, totalling 25 fits\n"
     ]
    },
    {
     "data": {
      "text/html": [
       "<style>#sk-container-id-5 {color: black;background-color: white;}#sk-container-id-5 pre{padding: 0;}#sk-container-id-5 div.sk-toggleable {background-color: white;}#sk-container-id-5 label.sk-toggleable__label {cursor: pointer;display: block;width: 100%;margin-bottom: 0;padding: 0.3em;box-sizing: border-box;text-align: center;}#sk-container-id-5 label.sk-toggleable__label-arrow:before {content: \"▸\";float: left;margin-right: 0.25em;color: #696969;}#sk-container-id-5 label.sk-toggleable__label-arrow:hover:before {color: black;}#sk-container-id-5 div.sk-estimator:hover label.sk-toggleable__label-arrow:before {color: black;}#sk-container-id-5 div.sk-toggleable__content {max-height: 0;max-width: 0;overflow: hidden;text-align: left;background-color: #f0f8ff;}#sk-container-id-5 div.sk-toggleable__content pre {margin: 0.2em;color: black;border-radius: 0.25em;background-color: #f0f8ff;}#sk-container-id-5 input.sk-toggleable__control:checked~div.sk-toggleable__content {max-height: 200px;max-width: 100%;overflow: auto;}#sk-container-id-5 input.sk-toggleable__control:checked~label.sk-toggleable__label-arrow:before {content: \"▾\";}#sk-container-id-5 div.sk-estimator input.sk-toggleable__control:checked~label.sk-toggleable__label {background-color: #d4ebff;}#sk-container-id-5 div.sk-label input.sk-toggleable__control:checked~label.sk-toggleable__label {background-color: #d4ebff;}#sk-container-id-5 input.sk-hidden--visually {border: 0;clip: rect(1px 1px 1px 1px);clip: rect(1px, 1px, 1px, 1px);height: 1px;margin: -1px;overflow: hidden;padding: 0;position: absolute;width: 1px;}#sk-container-id-5 div.sk-estimator {font-family: monospace;background-color: #f0f8ff;border: 1px dotted black;border-radius: 0.25em;box-sizing: border-box;margin-bottom: 0.5em;}#sk-container-id-5 div.sk-estimator:hover {background-color: #d4ebff;}#sk-container-id-5 div.sk-parallel-item::after {content: \"\";width: 100%;border-bottom: 1px solid gray;flex-grow: 1;}#sk-container-id-5 div.sk-label:hover label.sk-toggleable__label {background-color: #d4ebff;}#sk-container-id-5 div.sk-serial::before {content: \"\";position: absolute;border-left: 1px solid gray;box-sizing: border-box;top: 0;bottom: 0;left: 50%;z-index: 0;}#sk-container-id-5 div.sk-serial {display: flex;flex-direction: column;align-items: center;background-color: white;padding-right: 0.2em;padding-left: 0.2em;position: relative;}#sk-container-id-5 div.sk-item {position: relative;z-index: 1;}#sk-container-id-5 div.sk-parallel {display: flex;align-items: stretch;justify-content: center;background-color: white;position: relative;}#sk-container-id-5 div.sk-item::before, #sk-container-id-5 div.sk-parallel-item::before {content: \"\";position: absolute;border-left: 1px solid gray;box-sizing: border-box;top: 0;bottom: 0;left: 50%;z-index: -1;}#sk-container-id-5 div.sk-parallel-item {display: flex;flex-direction: column;z-index: 1;position: relative;background-color: white;}#sk-container-id-5 div.sk-parallel-item:first-child::after {align-self: flex-end;width: 50%;}#sk-container-id-5 div.sk-parallel-item:last-child::after {align-self: flex-start;width: 50%;}#sk-container-id-5 div.sk-parallel-item:only-child::after {width: 0;}#sk-container-id-5 div.sk-dashed-wrapped {border: 1px dashed gray;margin: 0 0.4em 0.5em 0.4em;box-sizing: border-box;padding-bottom: 0.4em;background-color: white;}#sk-container-id-5 div.sk-label label {font-family: monospace;font-weight: bold;display: inline-block;line-height: 1.2em;}#sk-container-id-5 div.sk-label-container {text-align: center;}#sk-container-id-5 div.sk-container {/* jupyter's `normalize.less` sets `[hidden] { display: none; }` but bootstrap.min.css set `[hidden] { display: none !important; }` so we also need the `!important` here to be able to override the default hidden behavior on the sphinx rendered scikit-learn.org. See: https://github.com/scikit-learn/scikit-learn/issues/21755 */display: inline-block !important;position: relative;}#sk-container-id-5 div.sk-text-repr-fallback {display: none;}</style><div id=\"sk-container-id-5\" class=\"sk-top-container\"><div class=\"sk-text-repr-fallback\"><pre>GridSearchCV(estimator=GradientBoostingClassifier(), n_jobs=-1,\n",
       "             param_grid={&#x27;learning_rate&#x27;: [0.001, 0.005, 0.01, 0.05, 0.1]},\n",
       "             scoring=&#x27;f1&#x27;, verbose=3)</pre><b>In a Jupyter environment, please rerun this cell to show the HTML representation or trust the notebook. <br />On GitHub, the HTML representation is unable to render, please try loading this page with nbviewer.org.</b></div><div class=\"sk-container\" hidden><div class=\"sk-item sk-dashed-wrapped\"><div class=\"sk-label-container\"><div class=\"sk-label sk-toggleable\"><input class=\"sk-toggleable__control sk-hidden--visually\" id=\"sk-estimator-id-13\" type=\"checkbox\" ><label for=\"sk-estimator-id-13\" class=\"sk-toggleable__label sk-toggleable__label-arrow\">GridSearchCV</label><div class=\"sk-toggleable__content\"><pre>GridSearchCV(estimator=GradientBoostingClassifier(), n_jobs=-1,\n",
       "             param_grid={&#x27;learning_rate&#x27;: [0.001, 0.005, 0.01, 0.05, 0.1]},\n",
       "             scoring=&#x27;f1&#x27;, verbose=3)</pre></div></div></div><div class=\"sk-parallel\"><div class=\"sk-parallel-item\"><div class=\"sk-item\"><div class=\"sk-label-container\"><div class=\"sk-label sk-toggleable\"><input class=\"sk-toggleable__control sk-hidden--visually\" id=\"sk-estimator-id-14\" type=\"checkbox\" ><label for=\"sk-estimator-id-14\" class=\"sk-toggleable__label sk-toggleable__label-arrow\">estimator: GradientBoostingClassifier</label><div class=\"sk-toggleable__content\"><pre>GradientBoostingClassifier()</pre></div></div></div><div class=\"sk-serial\"><div class=\"sk-item\"><div class=\"sk-estimator sk-toggleable\"><input class=\"sk-toggleable__control sk-hidden--visually\" id=\"sk-estimator-id-15\" type=\"checkbox\" ><label for=\"sk-estimator-id-15\" class=\"sk-toggleable__label sk-toggleable__label-arrow\">GradientBoostingClassifier</label><div class=\"sk-toggleable__content\"><pre>GradientBoostingClassifier()</pre></div></div></div></div></div></div></div></div></div></div>"
      ],
      "text/plain": [
       "GridSearchCV(estimator=GradientBoostingClassifier(), n_jobs=-1,\n",
       "             param_grid={'learning_rate': [0.001, 0.005, 0.01, 0.05, 0.1]},\n",
       "             scoring='f1', verbose=3)"
      ]
     },
     "execution_count": 23,
     "metadata": {},
     "output_type": "execute_result"
    }
   ],
   "source": [
    "# Create a new instance of a GradBoost classifier\n",
    "grad_clf = GradientBoostingClassifier()\n",
    "# Specify our list of hyperparam values (learning_rate) to test\n",
    "grad_params = {'learning_rate':[0.001, 0.005, 0.01, 0.05, 0.1]}\n",
    "\n",
    "grad_gs_clf = GridSearchCV(grad_clf, grad_params, verbose=3, scoring='f1', n_jobs=-1)\n",
    "grad_gs_clf.fit(X, y)"
   ]
  },
  {
   "cell_type": "code",
   "execution_count": 24,
   "id": "5bb9c968",
   "metadata": {},
   "outputs": [
    {
     "name": "stdout",
     "output_type": "stream",
     "text": [
      "Best GradBoost params: \n",
      "{'learning_rate': 0.1}\n",
      "[CV 1/5] END ...................n_estimators=10;, score=0.521 total time=   0.2s\n",
      "[CV 4/5] END ...................n_estimators=50;, score=0.540 total time=   0.8s\n",
      "[CV 2/5] END ..................n_estimators=150;, score=0.525 total time=   2.4s\n",
      "[CV 1/5] END ..................n_estimators=250;, score=0.533 total time=   3.9s\n",
      "[CV 4/5] END ..................n_estimators=300;, score=0.529 total time=   3.8s\n",
      "[CV 3/5] END ...............learning_rate=0.001;, score=0.000 total time=   1.9s\n",
      "[CV 1/5] END ................learning_rate=0.01;, score=0.316 total time=   1.9s\n",
      "[CV 4/5] END ................learning_rate=0.05;, score=0.526 total time=   1.8s\n",
      "[CV 3/5] END ...................n_estimators=10;, score=0.500 total time=   0.3s\n",
      "[CV 1/5] END ..................n_estimators=100;, score=0.504 total time=   2.6s\n",
      "[CV 4/5] END ..................n_estimators=150;, score=0.540 total time=   3.6s\n",
      "[CV 3/5] END ..................n_estimators=250;, score=0.536 total time=   6.1s\n",
      "[CV 1/5] END ...............learning_rate=0.001;, score=0.000 total time=   3.0s\n",
      "[CV 4/5] END ...............learning_rate=0.005;, score=0.000 total time=   3.1s\n",
      "[CV 3/5] END ................learning_rate=0.05;, score=0.529 total time=   2.9s\n",
      "[CV 2/5] END ...................n_estimators=50;, score=0.527 total time=   0.8s\n",
      "[CV 5/5] END ..................n_estimators=100;, score=0.527 total time=   1.6s\n",
      "[CV 3/5] END ..................n_estimators=200;, score=0.515 total time=   3.1s\n",
      "[CV 1/5] END ..................n_estimators=300;, score=0.534 total time=   4.5s\n",
      "[CV 4/5] END ...............learning_rate=0.001;, score=0.000 total time=   1.9s\n",
      "[CV 2/5] END ................learning_rate=0.01;, score=0.299 total time=   2.0s\n",
      "[CV 5/5] END ................learning_rate=0.05;, score=0.509 total time=   1.8s\n",
      "[CV 3/5] END ...................n_estimators=50;, score=0.543 total time=   1.3s\n",
      "[CV 5/5] END ..................n_estimators=100;, score=0.509 total time=   2.6s\n",
      "[CV 3/5] END ..................n_estimators=200;, score=0.539 total time=   4.7s\n",
      "[CV 1/5] END ..................n_estimators=300;, score=0.502 total time=   6.7s\n",
      "[CV 3/5] END ...............learning_rate=0.001;, score=0.000 total time=   3.0s\n",
      "[CV 1/5] END ................learning_rate=0.01;, score=0.366 total time=   3.1s\n",
      "[CV 4/5] END ................learning_rate=0.05;, score=0.521 total time=   2.9s\n",
      "[CV 3/5] END ...................n_estimators=50;, score=0.505 total time=   0.8s\n",
      "[CV 1/5] END ..................n_estimators=150;, score=0.535 total time=   2.4s\n",
      "[CV 4/5] END ..................n_estimators=200;, score=0.526 total time=   3.1s\n",
      "[CV 2/5] END ..................n_estimators=300;, score=0.521 total time=   4.3s\n",
      "[CV 5/5] END ...............learning_rate=0.001;, score=0.000 total time=   1.9s\n",
      "[CV 3/5] END ................learning_rate=0.01;, score=0.313 total time=   1.9s\n",
      "[CV 1/5] END .................learning_rate=0.1;, score=0.555 total time=   1.8s\n",
      "[CV 5/5] END ...................n_estimators=10;, score=0.506 total time=   0.3s\n",
      "[CV 3/5] END ..................n_estimators=100;, score=0.542 total time=   2.6s\n",
      "[CV 1/5] END ..................n_estimators=200;, score=0.502 total time=   4.7s\n",
      "[CV 4/5] END ..................n_estimators=250;, score=0.537 total time=   6.0s\n",
      "[CV 4/5] END ...............learning_rate=0.001;, score=0.000 total time=   3.0s\n",
      "[CV 2/5] END ................learning_rate=0.01;, score=0.319 total time=   3.1s\n",
      "[CV 5/5] END ................learning_rate=0.05;, score=0.507 total time=   2.9s\n",
      "[CV 1/5] END ...................n_estimators=50;, score=0.542 total time=   0.8s\n",
      "[CV 4/5] END ..................n_estimators=100;, score=0.533 total time=   1.6s\n",
      "[CV 2/5] END ..................n_estimators=200;, score=0.525 total time=   3.1s\n",
      "[CV 5/5] END ..................n_estimators=250;, score=0.527 total time=   4.0s\n",
      "[CV 1/5] END ...............learning_rate=0.005;, score=0.000 total time=   1.9s\n",
      "[CV 4/5] END ................learning_rate=0.01;, score=0.309 total time=   2.0s\n",
      "[CV 2/5] END .................learning_rate=0.1;, score=0.531 total time=   1.8s\n",
      "[CV 2/5] END ...................n_estimators=50;, score=0.516 total time=   1.3s\n",
      "[CV 1/5] END ..................n_estimators=150;, score=0.503 total time=   3.7s\n",
      "[CV 4/5] END ..................n_estimators=200;, score=0.538 total time=   4.9s\n",
      "[CV 2/5] END ..................n_estimators=300;, score=0.514 total time=   6.1s\n",
      "[CV 5/5] END ...............learning_rate=0.001;, score=0.000 total time=   3.0s\n",
      "[CV 3/5] END ................learning_rate=0.01;, score=0.386 total time=   3.1s\n",
      "[CV 1/5] END .................learning_rate=0.1;, score=0.515 total time=   2.9s\n",
      "[CV 4/5] END ...................n_estimators=10;, score=0.516 total time=   0.2s\n",
      "[CV 5/5] END ...................n_estimators=50;, score=0.516 total time=   0.8s\n",
      "[CV 3/5] END ..................n_estimators=150;, score=0.517 total time=   2.3s\n",
      "[CV 5/5] END ..................n_estimators=200;, score=0.529 total time=   3.2s\n",
      "[CV 3/5] END ..................n_estimators=300;, score=0.516 total time=   4.1s\n",
      "[CV 2/5] END ...............learning_rate=0.001;, score=0.000 total time=   1.9s\n",
      "[CV 5/5] END ...............learning_rate=0.005;, score=0.000 total time=   2.0s\n",
      "[CV 2/5] END ................learning_rate=0.05;, score=0.507 total time=   1.8s\n",
      "[CV 5/5] END .................learning_rate=0.1;, score=0.535 total time=   1.0s\n",
      "[CV 4/5] END ...................n_estimators=10;, score=0.499 total time=   0.3s\n",
      "[CV 2/5] END ..................n_estimators=100;, score=0.520 total time=   2.6s\n",
      "[CV 5/5] END ..................n_estimators=150;, score=0.512 total time=   3.5s\n",
      "[CV 2/5] END ..................n_estimators=250;, score=0.515 total time=   6.0s\n",
      "[CV 5/5] END ..................n_estimators=300;, score=0.512 total time=   4.7s\n",
      "[CV 1/5] END ...............learning_rate=0.005;, score=0.000 total time=   3.1s\n",
      "[CV 5/5] END ................learning_rate=0.01;, score=0.337 total time=   3.1s\n",
      "[CV 2/5] END .................learning_rate=0.1;, score=0.529 total time=   2.9s\n",
      "[CV 3/5] END ...................n_estimators=10;, score=0.472 total time=   0.2s\n",
      "[CV 2/5] END ..................n_estimators=100;, score=0.524 total time=   1.6s\n",
      "[CV 1/5] END ..................n_estimators=200;, score=0.538 total time=   3.1s\n",
      "[CV 4/5] END ..................n_estimators=250;, score=0.526 total time=   4.1s\n",
      "[CV 3/5] END ...............learning_rate=0.005;, score=0.000 total time=   1.9s\n",
      "[CV 1/5] END ................learning_rate=0.05;, score=0.532 total time=   2.0s\n",
      "[CV 4/5] END .................learning_rate=0.1;, score=0.531 total time=   1.7s\n",
      "[CV 2/5] END ...................n_estimators=10;, score=0.511 total time=   0.3s\n",
      "[CV 5/5] END ...................n_estimators=50;, score=0.514 total time=   1.3s\n",
      "[CV 3/5] END ..................n_estimators=150;, score=0.543 total time=   3.7s\n",
      "[CV 1/5] END ..................n_estimators=250;, score=0.503 total time=   6.0s\n",
      "[CV 4/5] END ..................n_estimators=300;, score=0.537 total time=   5.4s\n",
      "[CV 3/5] END ...............learning_rate=0.005;, score=0.000 total time=   3.1s\n",
      "[CV 1/5] END ................learning_rate=0.05;, score=0.497 total time=   3.1s\n",
      "[CV 3/5] END .................learning_rate=0.1;, score=0.556 total time=   2.9s\n",
      "[CV 2/5] END ...................n_estimators=10;, score=0.481 total time=   0.2s\n",
      "[CV 3/5] END ..................n_estimators=100;, score=0.514 total time=   1.6s\n",
      "[CV 4/5] END ..................n_estimators=150;, score=0.537 total time=   2.3s\n",
      "[CV 2/5] END ..................n_estimators=250;, score=0.520 total time=   4.1s\n",
      "[CV 1/5] END ...............learning_rate=0.001;, score=0.000 total time=   1.9s\n",
      "[CV 4/5] END ...............learning_rate=0.005;, score=0.000 total time=   2.0s\n",
      "[CV 3/5] END ................learning_rate=0.05;, score=0.495 total time=   1.8s\n",
      "[CV 1/5] END ...................n_estimators=10;, score=0.457 total time=   0.3s\n",
      "[CV 4/5] END ...................n_estimators=50;, score=0.542 total time=   1.3s\n",
      "[CV 2/5] END ..................n_estimators=150;, score=0.517 total time=   3.7s\n",
      "[CV 5/5] END ..................n_estimators=200;, score=0.512 total time=   4.9s\n",
      "[CV 3/5] END ..................n_estimators=300;, score=0.536 total time=   6.0s\n",
      "[CV 2/5] END ...............learning_rate=0.005;, score=0.000 total time=   3.1s\n",
      "[CV 4/5] END ................learning_rate=0.01;, score=0.322 total time=   3.1s\n",
      "[CV 4/5] END .................learning_rate=0.1;, score=0.553 total time=   2.9s\n"
     ]
    },
    {
     "name": "stdout",
     "output_type": "stream",
     "text": [
      "[CV 5/5] END ...................n_estimators=10;, score=0.500 total time=   0.2s\n",
      "[CV 1/5] END ..................n_estimators=100;, score=0.537 total time=   1.6s\n",
      "[CV 5/5] END ..................n_estimators=150;, score=0.527 total time=   2.3s\n",
      "[CV 3/5] END ..................n_estimators=250;, score=0.517 total time=   4.0s\n",
      "[CV 5/5] END ..................n_estimators=300;, score=0.526 total time=   3.3s\n",
      "[CV 2/5] END ...............learning_rate=0.005;, score=0.000 total time=   1.9s\n",
      "[CV 5/5] END ................learning_rate=0.01;, score=0.305 total time=   2.0s\n",
      "[CV 3/5] END .................learning_rate=0.1;, score=0.511 total time=   1.8s\n",
      "[CV 1/5] END ...................n_estimators=50;, score=0.517 total time=   1.3s\n",
      "[CV 4/5] END ..................n_estimators=100;, score=0.542 total time=   2.6s\n",
      "[CV 2/5] END ..................n_estimators=200;, score=0.516 total time=   4.7s\n",
      "[CV 5/5] END ..................n_estimators=250;, score=0.514 total time=   5.9s\n",
      "[CV 2/5] END ...............learning_rate=0.001;, score=0.000 total time=   3.0s\n",
      "[CV 5/5] END ...............learning_rate=0.005;, score=0.000 total time=   3.1s\n",
      "[CV 2/5] END ................learning_rate=0.05;, score=0.516 total time=   2.9s\n",
      "[CV 5/5] END .................learning_rate=0.1;, score=0.524 total time=   1.4s\n"
     ]
    }
   ],
   "source": [
    "# Print the GradBoost hyperparameters that performed the best.\n",
    "print(\"Best GradBoost params: \")\n",
    "print(grad_gs_clf.best_params_)"
   ]
  },
  {
   "cell_type": "code",
   "execution_count": null,
   "id": "cd01fccb",
   "metadata": {},
   "outputs": [],
   "source": []
  }
 ],
 "metadata": {
  "kernelspec": {
   "display_name": "Python 3 (ipykernel)",
   "language": "python",
   "name": "python3"
  },
  "language_info": {
   "codemirror_mode": {
    "name": "ipython",
    "version": 3
   },
   "file_extension": ".py",
   "mimetype": "text/x-python",
   "name": "python",
   "nbconvert_exporter": "python",
   "pygments_lexer": "ipython3",
   "version": "3.9.12"
  }
 },
 "nbformat": 4,
 "nbformat_minor": 5
}
