{
 "cells": [
  {
   "cell_type": "code",
   "execution_count": 1,
   "id": "aed586eb",
   "metadata": {},
   "outputs": [],
   "source": [
    "import numpy as np\n",
    "import pandas as pd\n",
    "\n",
    "from sklearn import svm, datasets\n",
    "from sklearn.linear_model import LinearRegression, Lasso, Ridge\n",
    "from sklearn.ensemble import RandomForestClassifier, RandomForestRegressor\n",
    "from sklearn.model_selection import train_test_split, GridSearchCV\n",
    "\n",
    "from sklearn.pipeline import Pipeline\n",
    "from sklearn.preprocessing import LabelEncoder, StandardScaler, OneHotEncoder\n",
    "from sklearn.compose import ColumnTransformer\n",
    "from sklearn.impute import SimpleImputer\n",
    "from sklearn import metrics"
   ]
  },
  {
   "cell_type": "code",
   "execution_count": 5,
   "id": "708a615e",
   "metadata": {},
   "outputs": [],
   "source": [
    "columns = [\"Age\", \"Gender\", \"Polyuria\", \"Polydipsia\", \"sudden weight loss\", \"weakness\", \"Polyphagia\", \n",
    "           \"Genital thrush\", \"visual blurring\", \"Itching\", \"Irritability\", \"delayed healing\", \n",
    "           \"partial paresis\", \"muscle stiffness\", \"Alopecia\", \"Obesity\"]\n",
    "\n",
    "df = pd.read_csv(\"https://archive.ics.uci.edu/ml/machine-learning-databases/00529/diabetes_data_upload.csv\", names=columns)"
   ]
  },
  {
   "cell_type": "code",
   "execution_count": 6,
   "id": "3c7fc636",
   "metadata": {},
   "outputs": [
    {
     "name": "stdout",
     "output_type": "stream",
     "text": [
      "        Age    Gender    Polyuria          Polydipsia sudden weight loss  \\\n",
      "Age  Gender  Polyuria  Polydipsia  sudden weight loss           weakness   \n",
      "40     Male        No         Yes                  No                Yes   \n",
      "58     Male        No          No                  No                Yes   \n",
      "41     Male       Yes          No                  No                Yes   \n",
      "45     Male        No          No                 Yes                Yes   \n",
      "\n",
      "       weakness      Polyphagia   Genital thrush visual blurring  \\\n",
      "Age  Polyphagia  Genital thrush  visual blurring         Itching   \n",
      "40           No              No               No             Yes   \n",
      "58           No              No              Yes              No   \n",
      "41          Yes              No               No             Yes   \n",
      "45          Yes             Yes               No             Yes   \n",
      "\n",
      "          Itching     Irritability  delayed healing   partial paresis  \\\n",
      "Age  Irritability  delayed healing  partial paresis  muscle stiffness   \n",
      "40             No              Yes               No               Yes   \n",
      "58             No               No              Yes                No   \n",
      "41             No              Yes               No               Yes   \n",
      "45             No              Yes               No                No   \n",
      "\n",
      "    muscle stiffness Alopecia   Obesity  \n",
      "Age         Alopecia  Obesity     class  \n",
      "40               Yes      Yes  Positive  \n",
      "58               Yes       No  Positive  \n",
      "41               Yes       No  Positive  \n",
      "45                No       No  Positive  \n"
     ]
    }
   ],
   "source": [
    "print(df.head())"
   ]
  },
  {
   "cell_type": "code",
   "execution_count": null,
   "id": "14b10349",
   "metadata": {},
   "outputs": [],
   "source": []
  }
 ],
 "metadata": {
  "kernelspec": {
   "display_name": "Python 3 (ipykernel)",
   "language": "python",
   "name": "python3"
  },
  "language_info": {
   "codemirror_mode": {
    "name": "ipython",
    "version": 3
   },
   "file_extension": ".py",
   "mimetype": "text/x-python",
   "name": "python",
   "nbconvert_exporter": "python",
   "pygments_lexer": "ipython3",
   "version": "3.9.12"
  }
 },
 "nbformat": 4,
 "nbformat_minor": 5
}
