{
 "cells": [
  {
   "cell_type": "code",
   "execution_count": 1,
   "id": "299af572",
   "metadata": {},
   "outputs": [],
   "source": [
    "import numpy as np\n",
    "import pandas as pd\n",
    "\n",
    "from sklearn import svm, datasets\n",
    "from sklearn.linear_model import LinearRegression, Lasso, Ridge\n",
    "from sklearn.ensemble import RandomForestClassifier, RandomForestRegressor\n",
    "from sklearn.model_selection import train_test_split, GridSearchCV\n",
    "\n",
    "from sklearn.pipeline import Pipeline\n",
    "from sklearn.preprocessing import LabelEncoder, StandardScaler, OneHotEncoder\n",
    "from sklearn.compose import ColumnTransformer\n",
    "from sklearn.impute import SimpleImputer\n",
    "from sklearn import metrics"
   ]
  },
  {
   "cell_type": "code",
   "execution_count": 16,
   "id": "3c79a9ee",
   "metadata": {},
   "outputs": [],
   "source": [
    "columns = [\"Age\", \"Gender\", \"Polyuria\", \"Polydipsia\", \"sudden weight loss\", \"weakness\", \"Polyphagia\", \n",
    "           \"Genital thrush\", \"visual blurring\", \"Itching\", \"Irritability\", \"delayed healing\", \n",
    "           \"partial paresis\", \"muscle stiffness\", \"Alopecia\", \"Obesity\", \"class\"]\n",
    "\n",
    "df = pd.read_csv(\"https://archive.ics.uci.edu/ml/machine-learning-databases/00529/diabetes_data_upload.csv\")"
   ]
  },
  {
   "cell_type": "code",
   "execution_count": 17,
   "id": "67f6dd8d",
   "metadata": {},
   "outputs": [
    {
     "name": "stdout",
     "output_type": "stream",
     "text": [
      "   Age Gender Polyuria Polydipsia sudden weight loss weakness Polyphagia  \\\n",
      "0   40   Male       No        Yes                 No      Yes         No   \n",
      "1   58   Male       No         No                 No      Yes         No   \n",
      "2   41   Male      Yes         No                 No      Yes        Yes   \n",
      "3   45   Male       No         No                Yes      Yes        Yes   \n",
      "4   60   Male      Yes        Yes                Yes      Yes        Yes   \n",
      "\n",
      "  Genital thrush visual blurring Itching Irritability delayed healing  \\\n",
      "0             No              No     Yes           No             Yes   \n",
      "1             No             Yes      No           No              No   \n",
      "2             No              No     Yes           No             Yes   \n",
      "3            Yes              No     Yes           No             Yes   \n",
      "4             No             Yes     Yes          Yes             Yes   \n",
      "\n",
      "  partial paresis muscle stiffness Alopecia Obesity     class  \n",
      "0              No              Yes      Yes     Yes  Positive  \n",
      "1             Yes               No      Yes      No  Positive  \n",
      "2              No              Yes      Yes      No  Positive  \n",
      "3              No               No       No      No  Positive  \n",
      "4             Yes              Yes      Yes     Yes  Positive  \n"
     ]
    }
   ],
   "source": [
    "print(df.head())"
   ]
  },
  {
   "cell_type": "code",
   "execution_count": 18,
   "id": "71b44d81",
   "metadata": {},
   "outputs": [
    {
     "name": "stdout",
     "output_type": "stream",
     "text": [
      "<class 'pandas.core.frame.DataFrame'>\n",
      "RangeIndex: 520 entries, 0 to 519\n",
      "Data columns (total 17 columns):\n",
      " #   Column              Non-Null Count  Dtype \n",
      "---  ------              --------------  ----- \n",
      " 0   Age                 520 non-null    int64 \n",
      " 1   Gender              520 non-null    object\n",
      " 2   Polyuria            520 non-null    object\n",
      " 3   Polydipsia          520 non-null    object\n",
      " 4   sudden weight loss  520 non-null    object\n",
      " 5   weakness            520 non-null    object\n",
      " 6   Polyphagia          520 non-null    object\n",
      " 7   Genital thrush      520 non-null    object\n",
      " 8   visual blurring     520 non-null    object\n",
      " 9   Itching             520 non-null    object\n",
      " 10  Irritability        520 non-null    object\n",
      " 11  delayed healing     520 non-null    object\n",
      " 12  partial paresis     520 non-null    object\n",
      " 13  muscle stiffness    520 non-null    object\n",
      " 14  Alopecia            520 non-null    object\n",
      " 15  Obesity             520 non-null    object\n",
      " 16  class               520 non-null    object\n",
      "dtypes: int64(1), object(16)\n",
      "memory usage: 69.2+ KB\n",
      "None\n"
     ]
    }
   ],
   "source": [
    "print(df.info())"
   ]
  },
  {
   "cell_type": "code",
   "execution_count": 19,
   "id": "3d22dee2",
   "metadata": {},
   "outputs": [
    {
     "name": "stdout",
     "output_type": "stream",
     "text": [
      "Counter({'Positive': 320, 'Negative': 200})\n"
     ]
    }
   ],
   "source": [
    "from collections import Counter\n",
    "print(Counter(df[\"class\"]))"
   ]
  },
  {
   "cell_type": "code",
   "execution_count": 21,
   "id": "cb663c2e",
   "metadata": {},
   "outputs": [],
   "source": [
    "y = df[\"class\"]\n",
    "X = df.drop(columns=[\"class\"])"
   ]
  },
  {
   "cell_type": "code",
   "execution_count": null,
   "id": "e766f9f8",
   "metadata": {},
   "outputs": [],
   "source": []
  }
 ],
 "metadata": {
  "kernelspec": {
   "display_name": "Python 3 (ipykernel)",
   "language": "python",
   "name": "python3"
  },
  "language_info": {
   "codemirror_mode": {
    "name": "ipython",
    "version": 3
   },
   "file_extension": ".py",
   "mimetype": "text/x-python",
   "name": "python",
   "nbconvert_exporter": "python",
   "pygments_lexer": "ipython3",
   "version": "3.9.12"
  }
 },
 "nbformat": 4,
 "nbformat_minor": 5
}
