{
 "cells": [
  {
   "cell_type": "code",
   "execution_count": 39,
   "id": "b6c13b6e",
   "metadata": {},
   "outputs": [],
   "source": [
    "import seaborn\n",
    "import pandas as pd\n",
    "import numpy as np\n",
    "import operator\n",
    "import matplotlib.pyplot as plt\n",
    "from sklearn.linear_model import LogisticRegression\n",
    "from sklearn.tree import DecisionTreeClassifier\n",
    "from sklearn.ensemble import RandomForestClassifier\n",
    "from sklearn.neighbors import KNeighborsClassifier\n",
    "from sklearn.model_selection import train_test_split\n",
    "from sklearn.preprocessing import StandardScaler\n",
    "from sklearn.metrics import accuracy_score, confusion_matrix, precision_score, recall_score"
   ]
  },
  {
   "cell_type": "code",
   "execution_count": 2,
   "id": "e80a7ca9",
   "metadata": {},
   "outputs": [],
   "source": [
    "# Load the data\n",
    "transactions = pd.read_csv('transactions.csv')"
   ]
  },
  {
   "cell_type": "code",
   "execution_count": 3,
   "id": "5f65985c",
   "metadata": {},
   "outputs": [
    {
     "name": "stdout",
     "output_type": "stream",
     "text": [
      "count    1.999990e+05\n",
      "mean     1.802425e+05\n",
      "std      6.255482e+05\n",
      "min      0.000000e+00\n",
      "25%      1.338746e+04\n",
      "50%      7.426695e+04\n",
      "75%      2.086376e+05\n",
      "max      5.204280e+07\n",
      "Name: amount, dtype: float64\n",
      "   step      type     amount     nameOrig  oldbalanceOrg  newbalanceOrig  \\\n",
      "0     8  CASH_OUT  158007.12   C424875646           0.00            0.00   \n",
      "1   236  CASH_OUT  457948.30  C1342616552           0.00            0.00   \n",
      "2    37   CASH_IN  153602.99   C900876541    11160428.67     11314031.67   \n",
      "3   331  CASH_OUT   49555.14   C177696810       10865.00            0.00   \n",
      "4   250  CASH_OUT   29648.02   C788941490           0.00            0.00   \n",
      "\n",
      "      nameDest  oldbalanceDest  newbalanceDest  isFraud  \n",
      "0  C1298177219       474016.32      1618631.97        0  \n",
      "1  C1323169990      2720411.37      3178359.67        0  \n",
      "2   C608741097      3274930.56      3121327.56        0  \n",
      "3   C462716348            0.00        49555.14        0  \n",
      "4  C1971700992        56933.09        86581.10        0  \n",
      "<class 'pandas.core.frame.DataFrame'>\n",
      "RangeIndex: 199999 entries, 0 to 199998\n",
      "Data columns (total 10 columns):\n",
      " #   Column          Non-Null Count   Dtype  \n",
      "---  ------          --------------   -----  \n",
      " 0   step            199999 non-null  int64  \n",
      " 1   type            199999 non-null  object \n",
      " 2   amount          199999 non-null  float64\n",
      " 3   nameOrig        199999 non-null  object \n",
      " 4   oldbalanceOrg   199999 non-null  float64\n",
      " 5   newbalanceOrig  199999 non-null  float64\n",
      " 6   nameDest        199999 non-null  object \n",
      " 7   oldbalanceDest  199999 non-null  float64\n",
      " 8   newbalanceDest  199999 non-null  float64\n",
      " 9   isFraud         199999 non-null  int64  \n",
      "dtypes: float64(5), int64(2), object(3)\n",
      "memory usage: 15.3+ MB\n",
      "None\n"
     ]
    }
   ],
   "source": [
    "# Summary statistics on amount column\n",
    "print(transactions['amount'].describe())\n",
    "print(transactions.head())\n",
    "print(transactions.info())"
   ]
  },
  {
   "cell_type": "code",
   "execution_count": 4,
   "id": "8d977ec2",
   "metadata": {},
   "outputs": [
    {
     "name": "stderr",
     "output_type": "stream",
     "text": [
      "/var/folders/rq/t1zwhw110z107g7z9_lt036m0000gn/T/ipykernel_20770/2682292587.py:3: SettingWithCopyWarning: \n",
      "A value is trying to be set on a copy of a slice from a DataFrame\n",
      "\n",
      "See the caveats in the documentation: https://pandas.pydata.org/pandas-docs/stable/user_guide/indexing.html#returning-a-view-versus-a-copy\n",
      "  transactions['isPayment'][transactions['type'].isin(['PAYMENT','DEBIT'])] = 1\n",
      "/var/folders/rq/t1zwhw110z107g7z9_lt036m0000gn/T/ipykernel_20770/2682292587.py:7: SettingWithCopyWarning: \n",
      "A value is trying to be set on a copy of a slice from a DataFrame\n",
      "\n",
      "See the caveats in the documentation: https://pandas.pydata.org/pandas-docs/stable/user_guide/indexing.html#returning-a-view-versus-a-copy\n",
      "  transactions['isMovement'][transactions['type'].isin(['CASH_OUT', 'TRANSFER'])] = 1\n"
     ]
    }
   ],
   "source": [
    "# Create isPayment field\n",
    "transactions['isPayment'] = 0\n",
    "transactions['isPayment'][transactions['type'].isin(['PAYMENT','DEBIT'])] = 1\n",
    "\n",
    "# Create isMovement field\n",
    "transactions['isMovement'] = 0\n",
    "transactions['isMovement'][transactions['type'].isin(['CASH_OUT', 'TRANSFER'])] = 1\n",
    "\n",
    "# Create accountDiff field\n",
    "transactions['accountDiff'] = abs(transactions['oldbalanceOrg'] - transactions['oldbalanceDest'])\n",
    "\n",
    "# Create features and label variables\n",
    "features = transactions[['amount', 'isPayment', 'isMovement', 'accountDiff']]\n",
    "labels = transactions[['isFraud']]"
   ]
  },
  {
   "cell_type": "code",
   "execution_count": 5,
   "id": "0e0c418a",
   "metadata": {},
   "outputs": [],
   "source": [
    "# Warning above is no problem (for now...)\n",
    "# Split dataset\n",
    "X_train, X_test, y_train, y_test = train_test_split(features, labels,  test_size=0.2, random_state = 100)"
   ]
  },
  {
   "cell_type": "code",
   "execution_count": 6,
   "id": "d1329b23",
   "metadata": {},
   "outputs": [],
   "source": [
    "# Normalize the features variables\n",
    "scaler = StandardScaler()\n",
    "X_train = scaler.fit_transform(X_train)\n",
    "X_test = scaler.transform(X_test)"
   ]
  },
  {
   "cell_type": "code",
   "execution_count": 9,
   "id": "bc2581c5",
   "metadata": {},
   "outputs": [],
   "source": [
    "# Normalize the features variables\n",
    "scaler = StandardScaler()\n",
    "X_train = scaler.fit_transform(X_train)\n",
    "X_test = scaler.transform(X_test)"
   ]
  },
  {
   "cell_type": "code",
   "execution_count": 12,
   "id": "96f00fdd",
   "metadata": {},
   "outputs": [
    {
     "name": "stdout",
     "output_type": "stream",
     "text": [
      "(159999, 4)\n",
      "(159999, 1)\n"
     ]
    }
   ],
   "source": [
    "print(X_train.shape)\n",
    "print(y_train.shape)"
   ]
  },
  {
   "cell_type": "code",
   "execution_count": 13,
   "id": "a245ff84",
   "metadata": {},
   "outputs": [
    {
     "name": "stderr",
     "output_type": "stream",
     "text": [
      "/Users/danielhardej/opt/anaconda3/lib/python3.9/site-packages/sklearn/utils/validation.py:993: DataConversionWarning: A column-vector y was passed when a 1d array was expected. Please change the shape of y to (n_samples, ), for example using ravel().\n",
      "  y = column_or_1d(y, warn=True)\n"
     ]
    },
    {
     "data": {
      "text/plain": [
       "LogisticRegression()"
      ]
     },
     "execution_count": 13,
     "metadata": {},
     "output_type": "execute_result"
    }
   ],
   "source": [
    "# Fit the model to the training data\n",
    "lrm = LogisticRegression()\n",
    "lrm.fit(X_train, y_train)"
   ]
  },
  {
   "cell_type": "code",
   "execution_count": 15,
   "id": "775652ad",
   "metadata": {},
   "outputs": [
    {
     "name": "stdout",
     "output_type": "stream",
     "text": [
      "Training score:\n",
      "0.9985937412108825\n",
      "Test score:\n",
      "0.99845\n",
      "Acc score: \n",
      "0.99845\n",
      "Confusion matrix\n",
      "[[39938     2]\n",
      " [   60     0]]\n"
     ]
    }
   ],
   "source": [
    "# Score the model on the training data\n",
    "print(\"Training score:\")\n",
    "print(lrm.score(X_train, y_train))\n",
    "\n",
    "# Score the model on the test data\n",
    "print(\"Test score:\")\n",
    "print(lrm.score(X_test, y_test))\n",
    "\n",
    "# Score the model's predictions\n",
    "y_pred = lrm.predict(X_test)\n",
    "print(\"Acc score: \")\n",
    "print(accuracy_score(y_test, y_pred))\n",
    "\n",
    "print(\"Confusion matrix\")\n",
    "print(confusion_matrix(y_test, y_pred))"
   ]
  },
  {
   "cell_type": "code",
   "execution_count": 16,
   "id": "ac35ce33",
   "metadata": {},
   "outputs": [
    {
     "name": "stdout",
     "output_type": "stream",
     "text": [
      "\n",
      "Feature coefficients\n",
      "   amount :  0.25172153785912527\n",
      "   isPayment :  -0.7489984538367392\n",
      "   isMovement :  2.3011341751061183\n",
      "   accountDiff :  -0.7391858599809772\n",
      "Most important:   isMovement\n",
      "Least important:  amount\n"
     ]
    }
   ],
   "source": [
    "# Print the model coefficients\n",
    "print(\"\\nFeature coefficients\")\n",
    "for i in range(len(lrm.coef_[0])):\n",
    "  print(\"  \", features.columns[i], \": \", lrm.coef_[0][i])\n",
    "\n",
    "abs_coefs = [abs(ele) for ele in lrm.coef_[0]]\n",
    "most = max(abs_coefs)\n",
    "least = min(abs_coefs)\n",
    "print(\"Most important:  \", features.columns[abs_coefs.index(most)])\n",
    "print(\"Least important: \", features.columns[abs_coefs.index(least)])"
   ]
  },
  {
   "cell_type": "markdown",
   "id": "50de8add",
   "metadata": {},
   "source": [
    "### Now trying KNN to classify fraudulent transactions\n",
    "\n",
    "First train a series of KNN clasifiers for a range of values of K between, measuring precision and accuracy."
   ]
  },
  {
   "cell_type": "code",
   "execution_count": 29,
   "id": "b78f5417",
   "metadata": {},
   "outputs": [
    {
     "name": "stderr",
     "output_type": "stream",
     "text": [
      "/Users/danielhardej/opt/anaconda3/lib/python3.9/site-packages/sklearn/neighbors/_classification.py:198: DataConversionWarning: A column-vector y was passed when a 1d array was expected. Please change the shape of y to (n_samples,), for example using ravel().\n",
      "  return self._fit(X, y)\n"
     ]
    },
    {
     "name": "stdout",
     "output_type": "stream",
     "text": [
      "K =  1   Accuracy :  0.998   Precision:  0.208   Recall:  0.183\n",
      "[[39898    42]\n",
      " [   49    11]]\n"
     ]
    },
    {
     "name": "stderr",
     "output_type": "stream",
     "text": [
      "/Users/danielhardej/opt/anaconda3/lib/python3.9/site-packages/sklearn/neighbors/_classification.py:198: DataConversionWarning: A column-vector y was passed when a 1d array was expected. Please change the shape of y to (n_samples,), for example using ravel().\n",
      "  return self._fit(X, y)\n"
     ]
    },
    {
     "name": "stdout",
     "output_type": "stream",
     "text": [
      "K =  2   Accuracy :  0.998   Precision:  0.429   Recall:  0.05\n",
      "[[39936     4]\n",
      " [   57     3]]\n"
     ]
    },
    {
     "name": "stderr",
     "output_type": "stream",
     "text": [
      "/Users/danielhardej/opt/anaconda3/lib/python3.9/site-packages/sklearn/neighbors/_classification.py:198: DataConversionWarning: A column-vector y was passed when a 1d array was expected. Please change the shape of y to (n_samples,), for example using ravel().\n",
      "  return self._fit(X, y)\n"
     ]
    },
    {
     "name": "stdout",
     "output_type": "stream",
     "text": [
      "K =  3   Accuracy :  0.998   Precision:  0.455   Recall:  0.083\n",
      "[[39934     6]\n",
      " [   55     5]]\n"
     ]
    },
    {
     "name": "stderr",
     "output_type": "stream",
     "text": [
      "/Users/danielhardej/opt/anaconda3/lib/python3.9/site-packages/sklearn/neighbors/_classification.py:198: DataConversionWarning: A column-vector y was passed when a 1d array was expected. Please change the shape of y to (n_samples,), for example using ravel().\n",
      "  return self._fit(X, y)\n"
     ]
    },
    {
     "name": "stdout",
     "output_type": "stream",
     "text": [
      "K =  4   Accuracy :  0.998   Precision:  0.5   Recall:  0.017\n",
      "[[39939     1]\n",
      " [   59     1]]\n"
     ]
    },
    {
     "name": "stderr",
     "output_type": "stream",
     "text": [
      "/Users/danielhardej/opt/anaconda3/lib/python3.9/site-packages/sklearn/neighbors/_classification.py:198: DataConversionWarning: A column-vector y was passed when a 1d array was expected. Please change the shape of y to (n_samples,), for example using ravel().\n",
      "  return self._fit(X, y)\n"
     ]
    },
    {
     "name": "stdout",
     "output_type": "stream",
     "text": [
      "K =  5   Accuracy :  0.999   Precision:  0.667   Recall:  0.033\n",
      "[[39939     1]\n",
      " [   58     2]]\n"
     ]
    },
    {
     "name": "stderr",
     "output_type": "stream",
     "text": [
      "/Users/danielhardej/opt/anaconda3/lib/python3.9/site-packages/sklearn/neighbors/_classification.py:198: DataConversionWarning: A column-vector y was passed when a 1d array was expected. Please change the shape of y to (n_samples,), for example using ravel().\n",
      "  return self._fit(X, y)\n"
     ]
    },
    {
     "name": "stdout",
     "output_type": "stream",
     "text": [
      "K =  6   Accuracy :  0.998   Precision:  1.0   Recall:  0.0\n",
      "[[39940     0]\n",
      " [   60     0]]\n"
     ]
    },
    {
     "name": "stderr",
     "output_type": "stream",
     "text": [
      "/Users/danielhardej/opt/anaconda3/lib/python3.9/site-packages/sklearn/neighbors/_classification.py:198: DataConversionWarning: A column-vector y was passed when a 1d array was expected. Please change the shape of y to (n_samples,), for example using ravel().\n",
      "  return self._fit(X, y)\n"
     ]
    },
    {
     "name": "stdout",
     "output_type": "stream",
     "text": [
      "K =  7   Accuracy :  0.999   Precision:  0.667   Recall:  0.033\n",
      "[[39939     1]\n",
      " [   58     2]]\n"
     ]
    },
    {
     "name": "stderr",
     "output_type": "stream",
     "text": [
      "/Users/danielhardej/opt/anaconda3/lib/python3.9/site-packages/sklearn/neighbors/_classification.py:198: DataConversionWarning: A column-vector y was passed when a 1d array was expected. Please change the shape of y to (n_samples,), for example using ravel().\n",
      "  return self._fit(X, y)\n"
     ]
    },
    {
     "name": "stdout",
     "output_type": "stream",
     "text": [
      "K =  8   Accuracy :  0.998   Precision:  1.0   Recall:  0.0\n",
      "[[39940     0]\n",
      " [   60     0]]\n"
     ]
    },
    {
     "name": "stderr",
     "output_type": "stream",
     "text": [
      "/Users/danielhardej/opt/anaconda3/lib/python3.9/site-packages/sklearn/neighbors/_classification.py:198: DataConversionWarning: A column-vector y was passed when a 1d array was expected. Please change the shape of y to (n_samples,), for example using ravel().\n",
      "  return self._fit(X, y)\n"
     ]
    },
    {
     "name": "stdout",
     "output_type": "stream",
     "text": [
      "K =  9   Accuracy :  0.998   Precision:  1.0   Recall:  0.0\n",
      "[[39940     0]\n",
      " [   60     0]]\n"
     ]
    },
    {
     "name": "stderr",
     "output_type": "stream",
     "text": [
      "/Users/danielhardej/opt/anaconda3/lib/python3.9/site-packages/sklearn/neighbors/_classification.py:198: DataConversionWarning: A column-vector y was passed when a 1d array was expected. Please change the shape of y to (n_samples,), for example using ravel().\n",
      "  return self._fit(X, y)\n"
     ]
    },
    {
     "name": "stdout",
     "output_type": "stream",
     "text": [
      "K =  10   Accuracy :  0.998   Precision:  1.0   Recall:  0.0\n",
      "[[39940     0]\n",
      " [   60     0]]\n"
     ]
    },
    {
     "name": "stderr",
     "output_type": "stream",
     "text": [
      "/Users/danielhardej/opt/anaconda3/lib/python3.9/site-packages/sklearn/neighbors/_classification.py:198: DataConversionWarning: A column-vector y was passed when a 1d array was expected. Please change the shape of y to (n_samples,), for example using ravel().\n",
      "  return self._fit(X, y)\n"
     ]
    },
    {
     "name": "stdout",
     "output_type": "stream",
     "text": [
      "K =  11   Accuracy :  0.998   Precision:  1.0   Recall:  0.0\n",
      "[[39940     0]\n",
      " [   60     0]]\n"
     ]
    },
    {
     "name": "stderr",
     "output_type": "stream",
     "text": [
      "/Users/danielhardej/opt/anaconda3/lib/python3.9/site-packages/sklearn/neighbors/_classification.py:198: DataConversionWarning: A column-vector y was passed when a 1d array was expected. Please change the shape of y to (n_samples,), for example using ravel().\n",
      "  return self._fit(X, y)\n"
     ]
    },
    {
     "name": "stdout",
     "output_type": "stream",
     "text": [
      "K =  12   Accuracy :  0.998   Precision:  1.0   Recall:  0.0\n",
      "[[39940     0]\n",
      " [   60     0]]\n"
     ]
    },
    {
     "name": "stderr",
     "output_type": "stream",
     "text": [
      "/Users/danielhardej/opt/anaconda3/lib/python3.9/site-packages/sklearn/neighbors/_classification.py:198: DataConversionWarning: A column-vector y was passed when a 1d array was expected. Please change the shape of y to (n_samples,), for example using ravel().\n",
      "  return self._fit(X, y)\n"
     ]
    },
    {
     "name": "stdout",
     "output_type": "stream",
     "text": [
      "K =  13   Accuracy :  0.998   Precision:  1.0   Recall:  0.0\n",
      "[[39940     0]\n",
      " [   60     0]]\n"
     ]
    },
    {
     "name": "stderr",
     "output_type": "stream",
     "text": [
      "/Users/danielhardej/opt/anaconda3/lib/python3.9/site-packages/sklearn/neighbors/_classification.py:198: DataConversionWarning: A column-vector y was passed when a 1d array was expected. Please change the shape of y to (n_samples,), for example using ravel().\n",
      "  return self._fit(X, y)\n"
     ]
    },
    {
     "name": "stdout",
     "output_type": "stream",
     "text": [
      "K =  14   Accuracy :  0.998   Precision:  1.0   Recall:  0.0\n",
      "[[39940     0]\n",
      " [   60     0]]\n"
     ]
    },
    {
     "name": "stderr",
     "output_type": "stream",
     "text": [
      "/Users/danielhardej/opt/anaconda3/lib/python3.9/site-packages/sklearn/neighbors/_classification.py:198: DataConversionWarning: A column-vector y was passed when a 1d array was expected. Please change the shape of y to (n_samples,), for example using ravel().\n",
      "  return self._fit(X, y)\n"
     ]
    },
    {
     "name": "stdout",
     "output_type": "stream",
     "text": [
      "K =  15   Accuracy :  0.998   Precision:  1.0   Recall:  0.0\n",
      "[[39940     0]\n",
      " [   60     0]]\n"
     ]
    },
    {
     "name": "stderr",
     "output_type": "stream",
     "text": [
      "/Users/danielhardej/opt/anaconda3/lib/python3.9/site-packages/sklearn/neighbors/_classification.py:198: DataConversionWarning: A column-vector y was passed when a 1d array was expected. Please change the shape of y to (n_samples,), for example using ravel().\n",
      "  return self._fit(X, y)\n"
     ]
    },
    {
     "name": "stdout",
     "output_type": "stream",
     "text": [
      "K =  16   Accuracy :  0.998   Precision:  1.0   Recall:  0.0\n",
      "[[39940     0]\n",
      " [   60     0]]\n"
     ]
    },
    {
     "name": "stderr",
     "output_type": "stream",
     "text": [
      "/Users/danielhardej/opt/anaconda3/lib/python3.9/site-packages/sklearn/neighbors/_classification.py:198: DataConversionWarning: A column-vector y was passed when a 1d array was expected. Please change the shape of y to (n_samples,), for example using ravel().\n",
      "  return self._fit(X, y)\n"
     ]
    },
    {
     "name": "stdout",
     "output_type": "stream",
     "text": [
      "K =  17   Accuracy :  0.998   Precision:  1.0   Recall:  0.0\n",
      "[[39940     0]\n",
      " [   60     0]]\n"
     ]
    },
    {
     "name": "stderr",
     "output_type": "stream",
     "text": [
      "/Users/danielhardej/opt/anaconda3/lib/python3.9/site-packages/sklearn/neighbors/_classification.py:198: DataConversionWarning: A column-vector y was passed when a 1d array was expected. Please change the shape of y to (n_samples,), for example using ravel().\n",
      "  return self._fit(X, y)\n"
     ]
    },
    {
     "name": "stdout",
     "output_type": "stream",
     "text": [
      "K =  18   Accuracy :  0.998   Precision:  1.0   Recall:  0.0\n",
      "[[39940     0]\n",
      " [   60     0]]\n"
     ]
    },
    {
     "name": "stderr",
     "output_type": "stream",
     "text": [
      "/Users/danielhardej/opt/anaconda3/lib/python3.9/site-packages/sklearn/neighbors/_classification.py:198: DataConversionWarning: A column-vector y was passed when a 1d array was expected. Please change the shape of y to (n_samples,), for example using ravel().\n",
      "  return self._fit(X, y)\n"
     ]
    },
    {
     "name": "stdout",
     "output_type": "stream",
     "text": [
      "K =  19   Accuracy :  0.998   Precision:  1.0   Recall:  0.0\n",
      "[[39940     0]\n",
      " [   60     0]]\n"
     ]
    },
    {
     "name": "stderr",
     "output_type": "stream",
     "text": [
      "/Users/danielhardej/opt/anaconda3/lib/python3.9/site-packages/sklearn/neighbors/_classification.py:198: DataConversionWarning: A column-vector y was passed when a 1d array was expected. Please change the shape of y to (n_samples,), for example using ravel().\n",
      "  return self._fit(X, y)\n"
     ]
    },
    {
     "name": "stdout",
     "output_type": "stream",
     "text": [
      "K =  20   Accuracy :  0.998   Precision:  1.0   Recall:  0.0\n",
      "[[39940     0]\n",
      " [   60     0]]\n"
     ]
    }
   ],
   "source": [
    "k_vals = {}\n",
    "for k in range(1, 21):\n",
    "    knn_clf = KNeighborsClassifier(n_neighbors = k)\n",
    "    knn_clf.fit(X_train, y_train)\n",
    "    knn_preds = knn_clf.predict(X_test)\n",
    "    acc_score = knn_clf.score(X_test, y_test)\n",
    "    precision = precision_score(y_test, knn_preds, zero_division=1)\n",
    "    recall = recall_score(y_test, knn_preds, zero_division=1)\n",
    "    print(\"K = \", k, \"  Accuracy : \", round(acc_score,3), \"  Precision: \", round(precision,3), \"  Recall: \", round(recall,3))\n",
    "    print(confusion_matrix(y_test, knn_preds))\n",
    "    k_vals[k] = [precision, recall]"
   ]
  },
  {
   "cell_type": "code",
   "execution_count": 18,
   "id": "aa0e9896",
   "metadata": {},
   "outputs": [
    {
     "name": "stdout",
     "output_type": "stream",
     "text": [
      "Best K = 5   Best precision: 0.6666666666666666\n"
     ]
    }
   ],
   "source": [
    "max_prec = max(k_vals.items(), key=operator.itemgetter(1))[1]\n",
    "best_k = max(k_vals.items(), key=operator.itemgetter(1))[0]\n",
    "print(\"Best K =\", best_k, \"  Best precision:\", max_prec)"
   ]
  },
  {
   "cell_type": "code",
   "execution_count": 19,
   "id": "f411b30d",
   "metadata": {},
   "outputs": [
    {
     "name": "stderr",
     "output_type": "stream",
     "text": [
      "/Users/danielhardej/opt/anaconda3/lib/python3.9/site-packages/sklearn/neighbors/_classification.py:198: DataConversionWarning: A column-vector y was passed when a 1d array was expected. Please change the shape of y to (n_samples,), for example using ravel().\n",
      "  return self._fit(X, y)\n"
     ]
    }
   ],
   "source": [
    "# Train a new KNN classifier with best performing K val\n",
    "knn_clf_best = KNeighborsClassifier(n_neighbors = best_k)\n",
    "knn_clf_best.fit(X_train, y_train)\n",
    "predictions = knn_clf.predict(X_test)"
   ]
  },
  {
   "cell_type": "code",
   "execution_count": 21,
   "id": "f128578c",
   "metadata": {},
   "outputs": [
    {
     "name": "stdout",
     "output_type": "stream",
     "text": [
      "[[39940     0]\n",
      " [   60     0]]\n"
     ]
    }
   ],
   "source": [
    "cm = confusion_matrix(y_test, predictions)\n",
    "print(cm)"
   ]
  },
  {
   "cell_type": "code",
   "execution_count": 22,
   "id": "1e5f0867",
   "metadata": {},
   "outputs": [
    {
     "data": {
      "text/plain": [
       "[Text(0, 0.5, 'Negative'), Text(0, 1.5, 'Positive')]"
      ]
     },
     "execution_count": 22,
     "metadata": {},
     "output_type": "execute_result"
    },
    {
     "data": {
      "image/png": "[encoded data removed]",
      "text/plain": [
       "<Figure size 288x288 with 2 Axes>"
      ]
     },
     "metadata": {
      "needs_background": "light"
     },
     "output_type": "display_data"
    }
   ],
   "source": [
    "class_names = ['Negative', 'Positive']\n",
    "fig, ax = plt.subplots(figsize=(4, 4))\n",
    "heatmap = seaborn.heatmap(cm, fmt='g', cmap='Blues', annot=True, ax=ax)\n",
    "ax.set_xlabel('Predicted class')\n",
    "ax.set_ylabel('True class')\n",
    "ax.xaxis.set_ticklabels(class_names)\n",
    "ax.yaxis.set_ticklabels(class_names)"
   ]
  },
  {
   "cell_type": "markdown",
   "id": "f2c1e2f9",
   "metadata": {},
   "source": [
    "### KNN still not good..."
   ]
  },
  {
   "cell_type": "code",
   "execution_count": null,
   "id": "b51dc14f",
   "metadata": {},
   "outputs": [],
   "source": []
  }
 ],
 "metadata": {
  "kernelspec": {
   "display_name": "Python 3 (ipykernel)",
   "language": "python",
   "name": "python3"
  },
  "language_info": {
   "codemirror_mode": {
    "name": "ipython",
    "version": 3
   },
   "file_extension": ".py",
   "mimetype": "text/x-python",
   "name": "python",
   "nbconvert_exporter": "python",
   "pygments_lexer": "ipython3",
   "version": "3.9.12"
  }
 },
 "nbformat": 4,
 "nbformat_minor": 5
}
