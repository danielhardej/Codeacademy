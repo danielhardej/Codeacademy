{
 "cells": [
  {
   "cell_type": "code",
   "execution_count": 14,
   "id": "b6c13b6e",
   "metadata": {},
   "outputs": [],
   "source": [
    "import seaborn\n",
    "import pandas as pd\n",
    "import numpy as np\n",
    "import operator\n",
    "import matplotlib.pyplot as plt\n",
    "from sklearn.linear_model import LogisticRegression\n",
    "from sklearn.tree import DecisionTreeClassifier\n",
    "from sklearn.ensemble import RandomForestClassifier\n",
    "from sklearn.neighbors import KNeighborsClassifier\n",
    "from sklearn.model_selection import train_test_split\n",
    "from sklearn.preprocessing import StandardScaler\n",
    "from sklearn.metrics import accuracy_score, confusion_matrix, precision_score, recall_score, classification_report"
   ]
  },
  {
   "cell_type": "code",
   "execution_count": 3,
   "id": "e80a7ca9",
   "metadata": {},
   "outputs": [],
   "source": [
    "# Load the data\n",
    "transactions = pd.read_csv('transactions.csv')"
   ]
  },
  {
   "cell_type": "code",
   "execution_count": 4,
   "id": "5f65985c",
   "metadata": {},
   "outputs": [
    {
     "name": "stdout",
     "output_type": "stream",
     "text": [
      "count    1.999990e+05\n",
      "mean     1.802425e+05\n",
      "std      6.255482e+05\n",
      "min      0.000000e+00\n",
      "25%      1.338746e+04\n",
      "50%      7.426695e+04\n",
      "75%      2.086376e+05\n",
      "max      5.204280e+07\n",
      "Name: amount, dtype: float64\n",
      "   step      type     amount     nameOrig  oldbalanceOrg  newbalanceOrig  \\\n",
      "0     8  CASH_OUT  158007.12   C424875646           0.00            0.00   \n",
      "1   236  CASH_OUT  457948.30  C1342616552           0.00            0.00   \n",
      "2    37   CASH_IN  153602.99   C900876541    11160428.67     11314031.67   \n",
      "3   331  CASH_OUT   49555.14   C177696810       10865.00            0.00   \n",
      "4   250  CASH_OUT   29648.02   C788941490           0.00            0.00   \n",
      "\n",
      "      nameDest  oldbalanceDest  newbalanceDest  isFraud  \n",
      "0  C1298177219       474016.32      1618631.97        0  \n",
      "1  C1323169990      2720411.37      3178359.67        0  \n",
      "2   C608741097      3274930.56      3121327.56        0  \n",
      "3   C462716348            0.00        49555.14        0  \n",
      "4  C1971700992        56933.09        86581.10        0  \n",
      "<class 'pandas.core.frame.DataFrame'>\n",
      "RangeIndex: 199999 entries, 0 to 199998\n",
      "Data columns (total 10 columns):\n",
      " #   Column          Non-Null Count   Dtype  \n",
      "---  ------          --------------   -----  \n",
      " 0   step            199999 non-null  int64  \n",
      " 1   type            199999 non-null  object \n",
      " 2   amount          199999 non-null  float64\n",
      " 3   nameOrig        199999 non-null  object \n",
      " 4   oldbalanceOrg   199999 non-null  float64\n",
      " 5   newbalanceOrig  199999 non-null  float64\n",
      " 6   nameDest        199999 non-null  object \n",
      " 7   oldbalanceDest  199999 non-null  float64\n",
      " 8   newbalanceDest  199999 non-null  float64\n",
      " 9   isFraud         199999 non-null  int64  \n",
      "dtypes: float64(5), int64(2), object(3)\n",
      "memory usage: 15.3+ MB\n",
      "None\n"
     ]
    }
   ],
   "source": [
    "# Summary statistics on amount column\n",
    "print(transactions['amount'].describe())\n",
    "print(transactions.head())\n",
    "print(transactions.info())"
   ]
  },
  {
   "cell_type": "code",
   "execution_count": 5,
   "id": "8d977ec2",
   "metadata": {},
   "outputs": [
    {
     "name": "stderr",
     "output_type": "stream",
     "text": [
      "/var/folders/rq/t1zwhw110z107g7z9_lt036m0000gn/T/ipykernel_21576/2682292587.py:3: SettingWithCopyWarning: \n",
      "A value is trying to be set on a copy of a slice from a DataFrame\n",
      "\n",
      "See the caveats in the documentation: https://pandas.pydata.org/pandas-docs/stable/user_guide/indexing.html#returning-a-view-versus-a-copy\n",
      "  transactions['isPayment'][transactions['type'].isin(['PAYMENT','DEBIT'])] = 1\n",
      "/var/folders/rq/t1zwhw110z107g7z9_lt036m0000gn/T/ipykernel_21576/2682292587.py:7: SettingWithCopyWarning: \n",
      "A value is trying to be set on a copy of a slice from a DataFrame\n",
      "\n",
      "See the caveats in the documentation: https://pandas.pydata.org/pandas-docs/stable/user_guide/indexing.html#returning-a-view-versus-a-copy\n",
      "  transactions['isMovement'][transactions['type'].isin(['CASH_OUT', 'TRANSFER'])] = 1\n"
     ]
    }
   ],
   "source": [
    "# Create isPayment field\n",
    "transactions['isPayment'] = 0\n",
    "transactions['isPayment'][transactions['type'].isin(['PAYMENT','DEBIT'])] = 1\n",
    "\n",
    "# Create isMovement field\n",
    "transactions['isMovement'] = 0\n",
    "transactions['isMovement'][transactions['type'].isin(['CASH_OUT', 'TRANSFER'])] = 1.0\n",
    "\n",
    "# Create accountDiff field\n",
    "transactions['accountDiff'] = abs(transactions['oldbalanceOrg'] - transactions['oldbalanceDest'])\n",
    "\n",
    "# Create features and label variables\n",
    "features = transactions[['amount', 'isPayment', 'isMovement', 'accountDiff']]\n",
    "labels = transactions[['isFraud']]"
   ]
  },
  {
   "cell_type": "code",
   "execution_count": 6,
   "id": "0e0c418a",
   "metadata": {},
   "outputs": [],
   "source": [
    "# Warning above is no problem (for now...)\n",
    "# Split dataset\n",
    "X_train, X_test, y_train, y_test = train_test_split(features, labels,  test_size=0.2, random_state = 100)"
   ]
  },
  {
   "cell_type": "code",
   "execution_count": 7,
   "id": "d1329b23",
   "metadata": {},
   "outputs": [],
   "source": [
    "# Normalize the features variables\n",
    "scaler = StandardScaler()\n",
    "X_train = scaler.fit_transform(X_train)\n",
    "X_test = scaler.transform(X_test)"
   ]
  },
  {
   "cell_type": "code",
   "execution_count": 8,
   "id": "96f00fdd",
   "metadata": {},
   "outputs": [
    {
     "name": "stdout",
     "output_type": "stream",
     "text": [
      "(159999, 4)\n",
      "(159999, 1)\n"
     ]
    }
   ],
   "source": [
    "print(X_train.shape)\n",
    "print(y_train.shape)"
   ]
  },
  {
   "cell_type": "markdown",
   "id": "50de8add",
   "metadata": {},
   "source": [
    "### Trying a Decision Tree to classify fraudulent transactions\n"
   ]
  },
  {
   "cell_type": "code",
   "execution_count": 38,
   "id": "f128578c",
   "metadata": {},
   "outputs": [
    {
     "data": {
      "text/plain": [
       "[Text(0, 0.5, 'Negative'), Text(0, 1.5, 'Positive')]"
      ]
     },
     "execution_count": 38,
     "metadata": {},
     "output_type": "execute_result"
    },
    {
     "data": {
      "image/png": "[encoded data removed]",
      "text/plain": [
       "<Figure size 720x720 with 2 Axes>"
      ]
     },
     "metadata": {
      "needs_background": "light"
     },
     "output_type": "display_data"
    }
   ],
   "source": [
    "dt_clf = DecisionTreeClassifier()\n",
    "dt_clf.fit(X_train, y_train)\n",
    "predictions = dt_clf.predict(X_test)\n",
    "cm = confusion_matrix(y_test, predictions)\n",
    "class_names = ['Negative', 'Positive']\n",
    "fig, ax = plt.subplots(figsize=(10, 10))\n",
    "heatmap = seaborn.heatmap(cm, fmt='g', cmap='Blues', annot=True, ax=ax)\n",
    "ax.set_xlabel('Predicted class')\n",
    "ax.set_ylabel('True class')\n",
    "ax.xaxis.set_ticklabels(class_names)\n",
    "ax.yaxis.set_ticklabels(class_names)"
   ]
  },
  {
   "cell_type": "markdown",
   "id": "17f3a2a0",
   "metadata": {},
   "source": [
    "### Trying a Random Forest Classifier"
   ]
  },
  {
   "cell_type": "code",
   "execution_count": 19,
   "id": "f2a64926",
   "metadata": {},
   "outputs": [
    {
     "name": "stderr",
     "output_type": "stream",
     "text": [
      "/var/folders/rq/t1zwhw110z107g7z9_lt036m0000gn/T/ipykernel_21576/4147315830.py:2: DataConversionWarning: A column-vector y was passed when a 1d array was expected. Please change the shape of y to (n_samples,), for example using ravel().\n",
      "  rf_clf.fit(X_train, y_train)\n"
     ]
    },
    {
     "name": "stdout",
     "output_type": "stream",
     "text": [
      "              precision    recall  f1-score   support\n",
      "\n",
      "           0       1.00      1.00      1.00     39940\n",
      "           1       0.33      0.05      0.09        60\n",
      "\n",
      "    accuracy                           1.00     40000\n",
      "   macro avg       0.67      0.52      0.54     40000\n",
      "weighted avg       1.00      1.00      1.00     40000\n",
      "\n"
     ]
    },
    {
     "data": {
      "image/png": "[encoded data removed]",
      "text/plain": [
       "<Figure size 720x720 with 2 Axes>"
      ]
     },
     "metadata": {
      "needs_background": "light"
     },
     "output_type": "display_data"
    }
   ],
   "source": [
    "rf_clf = RandomForestClassifier(n_estimators=50)\n",
    "rf_clf.fit(X_train, y_train)\n",
    "rf_predictions = rf_clf.predict(X_test)\n",
    "cm = confusion_matrix(y_test, rf_predictions)\n",
    "class_names = ['Negative', 'Positive']\n",
    "fig, ax = plt.subplots(figsize=(10, 10))\n",
    "heatmap = seaborn.heatmap(cm, fmt='g', cmap='Blues', annot=True, ax=ax)\n",
    "ax.set_xlabel('Predicted class')\n",
    "ax.set_ylabel('True class')\n",
    "ax.xaxis.set_ticklabels(class_names)\n",
    "ax.yaxis.set_ticklabels(class_names)\n",
    "print(classification_report(y_test, rf_predictions))"
   ]
  },
  {
   "cell_type": "code",
   "execution_count": 24,
   "id": "9694733a",
   "metadata": {},
   "outputs": [
    {
     "name": "stdout",
     "output_type": "stream",
     "text": [
      "Non Fraudulent Numbers :- 199717\n",
      "Fraudulent Numbers :- 282\n"
     ]
    }
   ],
   "source": [
    "label_counts = transactions['isFraud'].value_counts()\n",
    "non_fraud = label_counts[0]\n",
    "fraud = label_counts[1]\n",
    "print(f\"Non Fraudulent Numbers :- {non_fraud}\")\n",
    "print(f\"Fraudulent Numbers :- {fraud}\")"
   ]
  },
  {
   "cell_type": "code",
   "execution_count": 30,
   "id": "2714c63e",
   "metadata": {},
   "outputs": [],
   "source": [
    "from imblearn.over_sampling import SMOTE"
   ]
  },
  {
   "cell_type": "code",
   "execution_count": 35,
   "id": "535baaf7",
   "metadata": {},
   "outputs": [],
   "source": [
    "sm = SMOTE(sampling_strategy='minority', random_state=100)\n",
    "X_train_over, y_train_over = sm.fit_resample(X_train, y_train)"
   ]
  },
  {
   "cell_type": "code",
   "execution_count": 36,
   "id": "7c8097b5",
   "metadata": {},
   "outputs": [
    {
     "name": "stdout",
     "output_type": "stream",
     "text": [
      "              precision    recall  f1-score   support\n",
      "\n",
      "           0       1.00      0.97      0.98     39940\n",
      "           1       0.03      0.67      0.06        60\n",
      "\n",
      "    accuracy                           0.97     40000\n",
      "   macro avg       0.52      0.82      0.52     40000\n",
      "weighted avg       1.00      0.97      0.98     40000\n",
      "\n"
     ]
    },
    {
     "data": {
      "image/png": "[encoded data removed]",
      "text/plain": [
       "<Figure size 720x720 with 2 Axes>"
      ]
     },
     "metadata": {
      "needs_background": "light"
     },
     "output_type": "display_data"
    }
   ],
   "source": [
    "dt_clf = DecisionTreeClassifier()\n",
    "dt_clf.fit(X_train_over, y_train_over)\n",
    "dt_predictions = dt_clf.predict(X_test)\n",
    "cm = confusion_matrix(y_test, dt_predictions)\n",
    "class_names = ['Negative', 'Positive']\n",
    "fig, ax = plt.subplots(figsize=(10, 10))\n",
    "heatmap = seaborn.heatmap(cm, fmt='g', cmap='Blues', annot=True, ax=ax)\n",
    "ax.set_xlabel('Predicted class')\n",
    "ax.set_ylabel('True class')\n",
    "ax.xaxis.set_ticklabels(class_names)\n",
    "ax.yaxis.set_ticklabels(class_names)\n",
    "print(classification_report(y_test, dt_predictions))"
   ]
  },
  {
   "cell_type": "code",
   "execution_count": 37,
   "id": "dfa0e302",
   "metadata": {},
   "outputs": [
    {
     "name": "stderr",
     "output_type": "stream",
     "text": [
      "/var/folders/rq/t1zwhw110z107g7z9_lt036m0000gn/T/ipykernel_21576/1129792465.py:2: DataConversionWarning: A column-vector y was passed when a 1d array was expected. Please change the shape of y to (n_samples,), for example using ravel().\n",
      "  rf_clf.fit(X_train_over, y_train_over)\n"
     ]
    },
    {
     "name": "stdout",
     "output_type": "stream",
     "text": [
      "              precision    recall  f1-score   support\n",
      "\n",
      "           0       1.00      0.97      0.98     39940\n",
      "           1       0.03      0.68      0.06        60\n",
      "\n",
      "    accuracy                           0.97     40000\n",
      "   macro avg       0.52      0.83      0.52     40000\n",
      "weighted avg       1.00      0.97      0.98     40000\n",
      "\n"
     ]
    },
    {
     "data": {
      "image/png": "[encoded data removed]",
      "text/plain": [
       "<Figure size 720x720 with 2 Axes>"
      ]
     },
     "metadata": {
      "needs_background": "light"
     },
     "output_type": "display_data"
    }
   ],
   "source": [
    "rf_clf = RandomForestClassifier(n_estimators=50)\n",
    "rf_clf.fit(X_train_over, y_train_over)\n",
    "rf_predictions = rf_clf.predict(X_test)\n",
    "cm = confusion_matrix(y_test, rf_predictions)\n",
    "class_names = ['Negative', 'Positive']\n",
    "fig, ax = plt.subplots(figsize=(10, 10))\n",
    "heatmap = seaborn.heatmap(cm, fmt='g', cmap='Blues', annot=True, ax=ax)\n",
    "ax.set_xlabel('Predicted class')\n",
    "ax.set_ylabel('True class')\n",
    "ax.xaxis.set_ticklabels(class_names)\n",
    "ax.yaxis.set_ticklabels(class_names)\n",
    "print(classification_report(y_test, rf_predictions))"
   ]
  },
  {
   "cell_type": "code",
   "execution_count": null,
   "id": "596bbe66",
   "metadata": {},
   "outputs": [],
   "source": []
  }
 ],
 "metadata": {
  "kernelspec": {
   "display_name": "Python 3 (ipykernel)",
   "language": "python",
   "name": "python3"
  },
  "language_info": {
   "codemirror_mode": {
    "name": "ipython",
    "version": 3
   },
   "file_extension": ".py",
   "mimetype": "text/x-python",
   "name": "python",
   "nbconvert_exporter": "python",
   "pygments_lexer": "ipython3",
   "version": "3.9.12"
  }
 },
 "nbformat": 4,
 "nbformat_minor": 5
}
