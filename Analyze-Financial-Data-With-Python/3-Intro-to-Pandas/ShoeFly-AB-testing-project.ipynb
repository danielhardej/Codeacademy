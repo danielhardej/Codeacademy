{
 "cells": [
  {
   "attachments": {},
   "cell_type": "markdown",
   "metadata": {},
   "source": [
    "# A/B Testing for ShoeFly.com\n",
    "\n",
    "Our favorite online shoe store, ShoeFly.com is performing an A/B Test. They have two different versions of an ad, which they have placed in emails, as well as in banner ads on Facebook, Twitter, and Google. They want to know how the two ads are performing on each of the different platforms on each day of the week. Help them analyze the data using aggregate measures."
   ]
  },
  {
   "cell_type": "code",
   "execution_count": 2,
   "metadata": {},
   "outputs": [
    {
     "name": "stdout",
     "output_type": "stream",
     "text": [
      "                                user_id utm_source            day  \\\n",
      "0  008b7c6c-7272-471e-b90e-930d548bd8d7     google   6 - Saturday   \n",
      "1  009abb94-5e14-4b6c-bb1c-4f4df7aa7557   facebook     7 - Sunday   \n",
      "2  00f5d532-ed58-4570-b6d2-768df5f41aed    twitter    2 - Tuesday   \n",
      "3  011adc64-0f44-4fd9-a0bb-f1506d2ad439     google    2 - Tuesday   \n",
      "4  012137e6-7ae7-4649-af68-205b4702169c   facebook     7 - Sunday   \n",
      "5  013b0072-7b72-40e7-b698-98b4d0c9967f   facebook     1 - Monday   \n",
      "6  0153d85b-7660-4c39-92eb-1e1acd023280     google   4 - Thursday   \n",
      "7  01555297-d6e6-49ae-aeba-1b196fdbb09f     google  3 - Wednesday   \n",
      "8  018cea61-19ea-4119-895b-1a4309ccb148      email     1 - Monday   \n",
      "9  01a210c3-fde0-4e6f-8efd-4f0e38730ae6      email    2 - Tuesday   \n",
      "\n",
      "  ad_click_timestamp experimental_group  \n",
      "0               7:18                  A  \n",
      "1                NaN                  B  \n",
      "2                NaN                  A  \n",
      "3                NaN                  B  \n",
      "4                NaN                  B  \n",
      "5                NaN                  A  \n",
      "6                NaN                  A  \n",
      "7                NaN                  A  \n",
      "8              18:33                  A  \n",
      "9              15:21                  B  \n"
     ]
    }
   ],
   "source": [
    "import pandas as pd\n",
    "\n",
    "ad_clicks = pd.read_csv('ad_clicks.csv')\n",
    "print(ad_clicks.head(10))"
   ]
  },
  {
   "attachments": {},
   "cell_type": "markdown",
   "metadata": {},
   "source": [
    "How many views (i.e., rows of the table) came from each `utm_source`?"
   ]
  },
  {
   "cell_type": "code",
   "execution_count": 3,
   "metadata": {},
   "outputs": [
    {
     "name": "stdout",
     "output_type": "stream",
     "text": [
      "  utm_source  user_id\n",
      "0      email      255\n",
      "1   facebook      504\n",
      "2     google      680\n",
      "3    twitter      215\n"
     ]
    }
   ],
   "source": [
    "clicks_by_utm = ad_clicks.groupby('utm_source').user_id.count().reset_index()\n",
    "print(clicks_by_utm)"
   ]
  },
  {
   "attachments": {},
   "cell_type": "markdown",
   "metadata": {},
   "source": [
    "If the column `ad_click_timestamp` is not `null`, then someone actually clicked on the ad that was displayed.\n",
    "\n",
    "Create a new column called `is_click`, which is `True` if `ad_click_timestamp` is not `null` and `False` otherwise."
   ]
  },
  {
   "cell_type": "code",
   "execution_count": 4,
   "metadata": {},
   "outputs": [
    {
     "name": "stdout",
     "output_type": "stream",
     "text": [
      "                                user_id utm_source            day  \\\n",
      "0  008b7c6c-7272-471e-b90e-930d548bd8d7     google   6 - Saturday   \n",
      "1  009abb94-5e14-4b6c-bb1c-4f4df7aa7557   facebook     7 - Sunday   \n",
      "2  00f5d532-ed58-4570-b6d2-768df5f41aed    twitter    2 - Tuesday   \n",
      "3  011adc64-0f44-4fd9-a0bb-f1506d2ad439     google    2 - Tuesday   \n",
      "4  012137e6-7ae7-4649-af68-205b4702169c   facebook     7 - Sunday   \n",
      "5  013b0072-7b72-40e7-b698-98b4d0c9967f   facebook     1 - Monday   \n",
      "6  0153d85b-7660-4c39-92eb-1e1acd023280     google   4 - Thursday   \n",
      "7  01555297-d6e6-49ae-aeba-1b196fdbb09f     google  3 - Wednesday   \n",
      "8  018cea61-19ea-4119-895b-1a4309ccb148      email     1 - Monday   \n",
      "9  01a210c3-fde0-4e6f-8efd-4f0e38730ae6      email    2 - Tuesday   \n",
      "\n",
      "  ad_click_timestamp experimental_group  is_click  \n",
      "0               7:18                  A      True  \n",
      "1                NaN                  B     False  \n",
      "2                NaN                  A     False  \n",
      "3                NaN                  B     False  \n",
      "4                NaN                  B     False  \n",
      "5                NaN                  A     False  \n",
      "6                NaN                  A     False  \n",
      "7                NaN                  A     False  \n",
      "8              18:33                  A      True  \n",
      "9              15:21                  B      True  \n"
     ]
    }
   ],
   "source": [
    "ad_clicks['is_click'] = ~ad_clicks.ad_click_timestamp.isnull()\n",
    "print(ad_clicks.head(10))"
   ]
  },
  {
   "attachments": {},
   "cell_type": "markdown",
   "metadata": {},
   "source": [
    "\n",
    "We want to know the percent of people who clicked on ads from each `utm_source`.\n",
    "\n",
    "Start by grouping by `utm_source` and `is_click` and counting the number of `user_id`‘s in each of those groups. Save your answer to the variable clicks_by_source."
   ]
  },
  {
   "cell_type": "code",
   "execution_count": 5,
   "metadata": {},
   "outputs": [
    {
     "name": "stdout",
     "output_type": "stream",
     "text": [
      "  utm_source  is_click  user_id\n",
      "0      email     False      175\n",
      "1      email      True       80\n",
      "2   facebook     False      324\n",
      "3   facebook      True      180\n",
      "4     google     False      441\n",
      "5     google      True      239\n",
      "6    twitter     False      149\n",
      "7    twitter      True       66\n"
     ]
    }
   ],
   "source": [
    "clicks_by_source = ad_clicks.groupby(['utm_source', 'is_click']).user_id.count().reset_index()\n",
    "print(clicks_by_source)"
   ]
  },
  {
   "attachments": {},
   "cell_type": "markdown",
   "metadata": {},
   "source": [
    "\n",
    "Now let’s pivot the data so that the columns are is_click (either True or False), the index is utm_source, and the values are user_id.\n",
    "\n",
    "Save your results to the variable clicks_pivot."
   ]
  },
  {
   "cell_type": "code",
   "execution_count": 6,
   "metadata": {},
   "outputs": [],
   "source": [
    "clicks_pivot = clicks_by_source.pivot(\n",
    "  index='utm_source',\n",
    "  columns='is_click',\n",
    "  values='user_id'\n",
    ").reset_index()"
   ]
  },
  {
   "attachments": {},
   "cell_type": "markdown",
   "metadata": {},
   "source": [
    "\n",
    "Create a new column in `clicks_pivot` called `percent_clicked` which is equal to the percent of users who clicked on the ad from each utm_source.\n",
    "\n",
    "Was there a difference in click rates for each source?"
   ]
  },
  {
   "cell_type": "code",
   "execution_count": 7,
   "metadata": {},
   "outputs": [
    {
     "name": "stdout",
     "output_type": "stream",
     "text": [
      "is_click utm_source  False  True  percent_clicked\n",
      "0             email    175    80         0.313725\n",
      "1          facebook    324   180         0.357143\n",
      "2            google    441   239         0.351471\n",
      "3           twitter    149    66         0.306977\n"
     ]
    }
   ],
   "source": [
    "clicks_pivot['percent_clicked'] = clicks_pivot[True] / (clicks_pivot[True] + clicks_pivot[False])\n",
    "print(clicks_pivot)"
   ]
  },
  {
   "attachments": {},
   "cell_type": "markdown",
   "metadata": {},
   "source": [
    "## Analyzing an A/B Test\n",
    "\n",
    "The column `experimental_group` tells us whether the user was shown Ad A or Ad B.\n",
    "\n",
    "Were approximately the same number of people shown both ads?"
   ]
  },
  {
   "cell_type": "code",
   "execution_count": 8,
   "metadata": {},
   "outputs": [
    {
     "name": "stdout",
     "output_type": "stream",
     "text": [
      "  experimental_group  user_id\n",
      "0                  A      827\n",
      "1                  B      827\n"
     ]
    }
   ],
   "source": [
    "print(ad_clicks.groupby('experimental_group').user_id.count().reset_index())"
   ]
  },
  {
   "attachments": {},
   "cell_type": "markdown",
   "metadata": {},
   "source": [
    "Using the column `is_click` that we defined earlier, check to see if a greater percentage of users clicked on Ad A or Ad B."
   ]
  },
  {
   "cell_type": "code",
   "execution_count": 9,
   "metadata": {},
   "outputs": [
    {
     "name": "stdout",
     "output_type": "stream",
     "text": [
      "is_click experimental_group  False  True\n",
      "0                         A    517   310\n",
      "1                         B    572   255\n"
     ]
    }
   ],
   "source": [
    "clicks_by_group = ad_clicks.groupby(['experimental_group', 'is_click']).user_id.count().reset_index()\n",
    "clicks_by_group_pivot = clicks_by_group.pivot(index='experimental_group', columns='is_click', values='user_id').reset_index()\n",
    "print(clicks_by_group_pivot)"
   ]
  },
  {
   "cell_type": "code",
   "execution_count": 10,
   "metadata": {},
   "outputs": [
    {
     "name": "stdout",
     "output_type": "stream",
     "text": [
      "Group A clicked:  37.48%\n",
      "Group B clicked:  30.83%\n"
     ]
    }
   ],
   "source": [
    "a_clicks_true = ad_clicks[(ad_clicks.experimental_group == 'A') & (ad_clicks.is_click == True)].user_id.count()\n",
    "a_clicks_total = ad_clicks[(ad_clicks.experimental_group == 'A')].user_id.count()\n",
    "\n",
    "b_clicks_true = ad_clicks[(ad_clicks.experimental_group == 'B') & (ad_clicks.is_click == True)].user_id.count()\n",
    "b_clicks_total = ad_clicks[(ad_clicks.experimental_group == 'B')].user_id.count()\n",
    "\n",
    "# create a function to show a decimal as a percentage rounded to two decimal places\n",
    "def show_as_percent(x):\n",
    "    return str(round(x * 100, 2)) + '%'\n",
    "\n",
    "print(\"Group A clicked: \", show_as_percent(a_clicks_true/a_clicks_total))\n",
    "print(\"Group B clicked: \", show_as_percent(b_clicks_true/b_clicks_total))"
   ]
  },
  {
   "attachments": {},
   "cell_type": "markdown",
   "metadata": {},
   "source": [
    "\n",
    "The Product Manager for the A/B test thinks that the clicks might have changed by day of the week.\n",
    "\n",
    "Start by creating two DataFrames: `a_clicks` and `b_clicks`, which contain only the results for A group and B group, respectively."
   ]
  },
  {
   "cell_type": "code",
   "execution_count": 11,
   "metadata": {},
   "outputs": [],
   "source": [
    "a_clicks = ad_clicks[ad_clicks.experimental_group == 'A']\n",
    "b_clicks = ad_clicks[ad_clicks.experimental_group == 'B']"
   ]
  },
  {
   "attachments": {},
   "cell_type": "markdown",
   "metadata": {},
   "source": [
    "\n",
    "For each group (a_clicks and b_clicks), calculate the percent of users who clicked on the ad by day."
   ]
  },
  {
   "cell_type": "code",
   "execution_count": 12,
   "metadata": {},
   "outputs": [],
   "source": [
    "a_clicks_by_day = a_clicks.groupby(['is_click', 'day']).user_id.count().reset_index()\n",
    "a_clicks_by_day_pivot = a_clicks_by_day.pivot(\n",
    "  index='day',\n",
    "  columns='is_click',\n",
    "  values='user_id'\n",
    ").reset_index()\n",
    "a_clicks_by_day_pivot['percent_clicked'] = a_clicks_by_day_pivot[True] / (a_clicks_by_day_pivot[True] + a_clicks_by_day_pivot[False])\n",
    "\n",
    "b_clicks_by_day = b_clicks.groupby(['is_click', 'day']).user_id.count().reset_index()\n",
    "b_clicks_by_day_pivot = b_clicks_by_day.pivot(\n",
    "  index='day',\n",
    "  columns='is_click',\n",
    "  values='user_id'\n",
    ").reset_index()\n",
    "b_clicks_by_day_pivot['percent_clicked'] = b_clicks_by_day_pivot[True] / (b_clicks_by_day_pivot[True] + b_clicks_by_day_pivot[False])"
   ]
  },
  {
   "attachments": {},
   "cell_type": "markdown",
   "metadata": {},
   "source": [
    "\n",
    "Compare the results for A and B. What happened over the course of the week?\n",
    "\n",
    "Do you recommend that your company use Ad A or Ad B?"
   ]
  },
  {
   "cell_type": "code",
   "execution_count": 13,
   "metadata": {},
   "outputs": [
    {
     "name": "stdout",
     "output_type": "stream",
     "text": [
      "is_click            day  False  True  percent_clicked\n",
      "0            1 - Monday     70    43         0.380531\n",
      "1           2 - Tuesday     76    43         0.361345\n",
      "2         3 - Wednesday     86    38         0.306452\n",
      "3          4 - Thursday     69    47         0.405172\n",
      "4            5 - Friday     77    51         0.398438\n",
      "5          6 - Saturday     73    45         0.381356\n",
      "6            7 - Sunday     66    43         0.394495\n"
     ]
    }
   ],
   "source": [
    "print(a_clicks_by_day_pivot)"
   ]
  },
  {
   "cell_type": "code",
   "execution_count": 14,
   "metadata": {},
   "outputs": [
    {
     "name": "stdout",
     "output_type": "stream",
     "text": [
      "is_click            day  False  True  percent_clicked\n",
      "0            1 - Monday     81    32         0.283186\n",
      "1           2 - Tuesday     74    45         0.378151\n",
      "2         3 - Wednesday     89    35         0.282258\n",
      "3          4 - Thursday     87    29         0.250000\n",
      "4            5 - Friday     90    38         0.296875\n",
      "5          6 - Saturday     76    42         0.355932\n",
      "6            7 - Sunday     75    34         0.311927\n"
     ]
    }
   ],
   "source": [
    "print(b_clicks_by_day_pivot)"
   ]
  },
  {
   "cell_type": "code",
   "execution_count": 15,
   "metadata": {},
   "outputs": [],
   "source": [
    "import matplotlib.pyplot as plt\n",
    "%matplotlib inline"
   ]
  },
  {
   "cell_type": "code",
   "execution_count": 16,
   "metadata": {},
   "outputs": [],
   "source": [
    "a_clicks_pc_by_day = a_clicks_by_day_pivot[['day', 'percent_clicked']]\n",
    "b_clicks_pc_by_day = b_clicks_by_day_pivot[['day', 'percent_clicked']]"
   ]
  },
  {
   "cell_type": "code",
   "execution_count": 25,
   "metadata": {},
   "outputs": [
    {
     "data": {
      "image/png": "[encoded data removed]",
      "text/plain": [
       "<Figure size 640x480 with 1 Axes>"
      ]
     },
     "metadata": {},
     "output_type": "display_data"
    }
   ],
   "source": [
    "width = 0.4\n",
    "rects1 = plt.bar(a_clicks_pc_by_day['day'], a_clicks_pc_by_day['percent_clicked'], -width, align='edge', label='A')\n",
    "rects2 = plt.bar(b_clicks_pc_by_day['day'], b_clicks_pc_by_day['percent_clicked'], +width, align='edge', label='B')\n",
    "plt.xticks(rotation=30, ha='right')\n",
    "plt.xlabel('Day')\n",
    "plt.ylabel('Percent Clicked')\n",
    "plt.legend(['Group A', 'Group B'])\n",
    "plt.title('Percent Clicked by Day (A vs B)')\n",
    "plt.show()"
   ]
  },
  {
   "cell_type": "code",
   "execution_count": null,
   "metadata": {},
   "outputs": [],
   "source": []
  }
 ],
 "metadata": {
  "kernelspec": {
   "display_name": "Python 3",
   "language": "python",
   "name": "python3"
  },
  "language_info": {
   "codemirror_mode": {
    "name": "ipython",
    "version": 3
   },
   "file_extension": ".py",
   "mimetype": "text/x-python",
   "name": "python",
   "nbconvert_exporter": "python",
   "pygments_lexer": "ipython3",
   "version": "3.9.16"
  },
  "orig_nbformat": 4
 },
 "nbformat": 4,
 "nbformat_minor": 2
}
