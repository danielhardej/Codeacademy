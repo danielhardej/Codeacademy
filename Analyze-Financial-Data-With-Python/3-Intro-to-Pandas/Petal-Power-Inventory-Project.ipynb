{
 "cells": [
  {
   "attachments": {},
   "cell_type": "markdown",
   "metadata": {},
   "source": [
    "# Petal Power Inventory\n",
    "\n",
    "You’re the lead data analyst for a chain of gardening stores called Petal Power. Help them analyze their inventory!"
   ]
  },
  {
   "attachments": {},
   "cell_type": "markdown",
   "metadata": {},
   "source": [
    "Data for all of the locations of Petal Power is in the file `inventory.csv`. Load the data into a DataFrame called `inventory`."
   ]
  },
  {
   "cell_type": "code",
   "execution_count": 2,
   "metadata": {},
   "outputs": [
    {
     "name": "stdout",
     "output_type": "stream",
     "text": [
      "        location  product_type         product_description  quantity  price\n",
      "0  Staten Island         seeds                       daisy         4   6.99\n",
      "1  Staten Island         seeds                  calla lily        46  19.99\n",
      "2  Staten Island         seeds                      tomato        85  13.99\n",
      "3  Staten Island  garden tools                        rake         4  13.99\n",
      "4  Staten Island  garden tools                 wheelbarrow         0  89.99\n",
      "5  Staten Island  garden tools                       spade        93  19.99\n",
      "6  Staten Island  pest_control               insect killer        74  12.99\n",
      "7  Staten Island  pest_control                 weed killer         8  23.99\n",
      "8  Staten Island       planter  20 inch terracotta planter         0  17.99\n",
      "9  Staten Island       planter      8 inch plastic planter        53   3.99\n"
     ]
    }
   ],
   "source": [
    "import pandas as pd\n",
    "\n",
    "inventory = pd.read_csv('inventory.csv')\n",
    "print(inventory.head(10))"
   ]
  },
  {
   "attachments": {},
   "cell_type": "markdown",
   "metadata": {},
   "source": [
    "The first 10 rows represent data from your Staten Island location. Select these rows and save them to `staten_island`."
   ]
  },
  {
   "cell_type": "code",
   "execution_count": 3,
   "metadata": {},
   "outputs": [
    {
     "name": "stdout",
     "output_type": "stream",
     "text": [
      "        location  product_type         product_description  quantity  price\n",
      "0  Staten Island         seeds                       daisy         4   6.99\n",
      "1  Staten Island         seeds                  calla lily        46  19.99\n",
      "2  Staten Island         seeds                      tomato        85  13.99\n",
      "3  Staten Island  garden tools                        rake         4  13.99\n",
      "4  Staten Island  garden tools                 wheelbarrow         0  89.99\n",
      "5  Staten Island  garden tools                       spade        93  19.99\n",
      "6  Staten Island  pest_control               insect killer        74  12.99\n",
      "7  Staten Island  pest_control                 weed killer         8  23.99\n",
      "8  Staten Island       planter  20 inch terracotta planter         0  17.99\n",
      "9  Staten Island       planter      8 inch plastic planter        53   3.99\n"
     ]
    }
   ],
   "source": [
    "staten_island = inventory.iloc[:10,]\n",
    "print(staten_island)"
   ]
  },
  {
   "attachments": {},
   "cell_type": "markdown",
   "metadata": {},
   "source": [
    "A customer just emailed you asking what products are sold at your Staten Island location. Select the column product_description from staten_island and save it to the variable `product_request`."
   ]
  },
  {
   "cell_type": "code",
   "execution_count": 4,
   "metadata": {},
   "outputs": [
    {
     "name": "stdout",
     "output_type": "stream",
     "text": [
      "0                         daisy\n",
      "1                    calla lily\n",
      "2                        tomato\n",
      "3                          rake\n",
      "4                   wheelbarrow\n",
      "5                         spade\n",
      "6                 insect killer\n",
      "7                   weed killer\n",
      "8    20 inch terracotta planter\n",
      "9        8 inch plastic planter\n",
      "Name: product_description, dtype: object\n"
     ]
    }
   ],
   "source": [
    "product_request = staten_island.product_description\n",
    "print(product_request)"
   ]
  },
  {
   "attachments": {},
   "cell_type": "markdown",
   "metadata": {},
   "source": [
    "Another customer emails to ask what types of seeds are sold at the Brooklyn location.\n",
    "\n",
    "Select all rows where `location` is equal to `Brooklyn` and `product_type` is equal to `seeds` and save them to the variable `seed_request`."
   ]
  },
  {
   "cell_type": "code",
   "execution_count": 5,
   "metadata": {},
   "outputs": [
    {
     "name": "stdout",
     "output_type": "stream",
     "text": [
      "    location product_type product_description  quantity  price\n",
      "10  Brooklyn        seeds               daisy        50   6.99\n",
      "11  Brooklyn        seeds          calla lily         0  19.99\n",
      "12  Brooklyn        seeds              tomato         0  13.99\n"
     ]
    }
   ],
   "source": [
    "seed_request = inventory[(inventory.location == 'Brooklyn') & (inventory.product_type == 'seeds')]\n",
    "print(seed_request)"
   ]
  },
  {
   "attachments": {},
   "cell_type": "markdown",
   "metadata": {},
   "source": [
    "Add a column to inventory called `in_stock` which is `True` if `quantity` is greater than 0 and `False` if `quantity` equals 0."
   ]
  },
  {
   "cell_type": "code",
   "execution_count": 6,
   "metadata": {},
   "outputs": [],
   "source": [
    "inventory['in_stock'] = inventory.apply(lambda row: True if row['quantity'] > 0 else False, axis=1)"
   ]
  },
  {
   "attachments": {},
   "cell_type": "markdown",
   "metadata": {},
   "source": [
    "Petal Power wants to know how valuable their current inventory is.\n",
    "\n",
    "Create a column called `total_value` that is equal to `price` multiplied by `quantity`."
   ]
  },
  {
   "cell_type": "code",
   "execution_count": 7,
   "metadata": {},
   "outputs": [],
   "source": [
    "inventory['total_value'] = inventory.apply(lambda row: row['price'] * row['quantity'], axis=1)"
   ]
  },
  {
   "attachments": {},
   "cell_type": "markdown",
   "metadata": {},
   "source": [
    "The Marketing department wants a complete description of each product for their catalog.\n",
    "\n",
    "Using `combine_lambda`, create a new column in `inventory` called `full_description` that has the complete description of each product."
   ]
  },
  {
   "cell_type": "code",
   "execution_count": 8,
   "metadata": {},
   "outputs": [],
   "source": [
    "combine_lambda = lambda row: '{} - {}'.format(row.product_type, row.product_description)\n",
    "inventory['full_description'] = inventory.apply(combine_lambda, axis=1)"
   ]
  },
  {
   "cell_type": "code",
   "execution_count": 9,
   "metadata": {},
   "outputs": [
    {
     "name": "stdout",
     "output_type": "stream",
     "text": [
      "        location  product_type         product_description  quantity  price  \\\n",
      "0  Staten Island         seeds                       daisy         4   6.99   \n",
      "1  Staten Island         seeds                  calla lily        46  19.99   \n",
      "2  Staten Island         seeds                      tomato        85  13.99   \n",
      "3  Staten Island  garden tools                        rake         4  13.99   \n",
      "4  Staten Island  garden tools                 wheelbarrow         0  89.99   \n",
      "5  Staten Island  garden tools                       spade        93  19.99   \n",
      "6  Staten Island  pest_control               insect killer        74  12.99   \n",
      "7  Staten Island  pest_control                 weed killer         8  23.99   \n",
      "8  Staten Island       planter  20 inch terracotta planter         0  17.99   \n",
      "9  Staten Island       planter      8 inch plastic planter        53   3.99   \n",
      "\n",
      "   in_stock  total_value                      full_description  \n",
      "0      True        27.96                         seeds - daisy  \n",
      "1      True       919.54                    seeds - calla lily  \n",
      "2      True      1189.15                        seeds - tomato  \n",
      "3      True        55.96                   garden tools - rake  \n",
      "4     False         0.00            garden tools - wheelbarrow  \n",
      "5      True      1859.07                  garden tools - spade  \n",
      "6      True       961.26          pest_control - insect killer  \n",
      "7      True       191.92            pest_control - weed killer  \n",
      "8     False         0.00  planter - 20 inch terracotta planter  \n",
      "9      True       211.47      planter - 8 inch plastic planter  \n"
     ]
    }
   ],
   "source": [
    "print(inventory.head(10))"
   ]
  },
  {
   "cell_type": "code",
   "execution_count": null,
   "metadata": {},
   "outputs": [],
   "source": []
  }
 ],
 "metadata": {
  "kernelspec": {
   "display_name": "base",
   "language": "python",
   "name": "python3"
  },
  "language_info": {
   "codemirror_mode": {
    "name": "ipython",
    "version": 3
   },
   "file_extension": ".py",
   "mimetype": "text/x-python",
   "name": "python",
   "nbconvert_exporter": "python",
   "pygments_lexer": "ipython3",
   "version": "3.9.13"
  },
  "orig_nbformat": 4
 },
 "nbformat": 4,
 "nbformat_minor": 2
}
