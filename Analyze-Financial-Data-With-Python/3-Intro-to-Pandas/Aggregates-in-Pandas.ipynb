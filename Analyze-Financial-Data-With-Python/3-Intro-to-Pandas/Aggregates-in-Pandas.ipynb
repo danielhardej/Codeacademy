{
 "cells": [
  {
   "attachments": {},
   "cell_type": "markdown",
   "metadata": {},
   "source": [
    "# Aggregates in Pandas"
   ]
  },
  {
   "cell_type": "code",
   "execution_count": 11,
   "metadata": {},
   "outputs": [],
   "source": [
    "import pandas as pd\n",
    "import numpy as np"
   ]
  },
  {
   "attachments": {},
   "cell_type": "markdown",
   "metadata": {},
   "source": [
    "### Calculating Column Statistics\n",
    "\n",
    "Aggregate functions summarize many data points (i.e., a column of a dataframe) into a smaller set of values.\n",
    "\n",
    "The following table summarizes some common commands:\n",
    "\n",
    "| Command             |              Description          |\n",
    "|---------------------|-----------------------------------|\n",
    "| mean                | Average of all values in column   |\n",
    "| std                 | Standard deviation                |\n",
    "| median              | Median                            |\n",
    "| max                 | Maximum value in column           |\n",
    "| min                 | Minimum value in column           |\n",
    "| count               | Number of values in column        |\n",
    "| nunique             | Number of unique values in column |\n",
    "| unique              | List of unique values in column   |\n"
   ]
  },
  {
   "cell_type": "code",
   "execution_count": 13,
   "metadata": {},
   "outputs": [
    {
     "name": "stdout",
     "output_type": "stream",
     "text": [
      "      id first_name    last_name                         email     shoe_type  \\\n",
      "0  41874       Kyle         Peck          KylePeck71@gmail.com  ballet flats   \n",
      "1  31349  Elizabeth    Velazquez      EVelazquez1971@gmail.com         boots   \n",
      "2  43416      Keith     Saunders              KS4047@gmail.com       sandals   \n",
      "3  56054       Ryan      Sweeney     RyanSweeney14@outlook.com       sandals   \n",
      "4  77402      Donna  Blankenship              DB3807@gmail.com     stilettos   \n",
      "5  97148     Albert       Dillon       Albert.Dillon@gmail.com        wedges   \n",
      "6  19998     Judith       Hewitt      JudithHewitt98@gmail.com     stilettos   \n",
      "7  83290      Kayla       Hardin        Kayla.Hardin@gmail.com     stilettos   \n",
      "8  77867     Steven  Blankenship  Steven.Blankenship@gmail.com        wedges   \n",
      "9  54885      Carol   Mclaughlin              CM3415@gmail.com  ballet flats   \n",
      "\n",
      "  shoe_material shoe_color  price  \n",
      "0  faux-leather      black  385.0  \n",
      "1        fabric      brown  388.0  \n",
      "2       leather       navy  346.0  \n",
      "3        fabric      brown  344.0  \n",
      "4        fabric      brown  289.0  \n",
      "5        fabric      brown  266.0  \n",
      "6       leather      black  395.0  \n",
      "7       leather      white  241.0  \n",
      "8       leather       navy  266.0  \n",
      "9  faux-leather      brown  440.0  \n"
     ]
    }
   ],
   "source": [
    "orders = pd.read_csv('orders.csv')\n",
    "print(orders.head(10))"
   ]
  },
  {
   "attachments": {},
   "cell_type": "markdown",
   "metadata": {},
   "source": [
    "Our finance department wants to know the price of the most expensive pair of shoes purchased. Save your answer to the variable `most_expensive`."
   ]
  },
  {
   "cell_type": "code",
   "execution_count": 14,
   "metadata": {},
   "outputs": [
    {
     "name": "stdout",
     "output_type": "stream",
     "text": [
      "498.0\n"
     ]
    }
   ],
   "source": [
    "most_expensive = orders.price.max()\n",
    "print(most_expensive)"
   ]
  },
  {
   "attachments": {},
   "cell_type": "markdown",
   "metadata": {},
   "source": [
    "Our fashion department wants to know how many different colors of shoes we are selling. Save your answer to the variable `num_colors`."
   ]
  },
  {
   "cell_type": "code",
   "execution_count": 15,
   "metadata": {},
   "outputs": [
    {
     "name": "stdout",
     "output_type": "stream",
     "text": [
      "5\n"
     ]
    }
   ],
   "source": [
    "num_colors = orders.shoe_color.nunique()\n",
    "print(num_colors)"
   ]
  },
  {
   "attachments": {},
   "cell_type": "markdown",
   "metadata": {},
   "source": [
    "### Calculating Aggregate Functions I\n",
    "\n",
    "When we have a bunch of data, we often want to calculate aggregate statistics (mean, standard deviation, median, percentiles, etc.) over certain subsets of the data.\n",
    "\n",
    "In the previous exercise, our finance department wanted to know the most expensive shoe that we sold.\n",
    "\n",
    "Now, they want to know the most expensive shoe for each `shoe_type` (i.e., the most expensive boot, the most expensive ballet flat, etc.).\n",
    "\n",
    "Save your answer to the variable `pricey_shoes`. What type of object is `pricey_shoes`?"
   ]
  },
  {
   "cell_type": "code",
   "execution_count": 16,
   "metadata": {},
   "outputs": [
    {
     "name": "stdout",
     "output_type": "stream",
     "text": [
      "shoe_type\n",
      "ballet flats    498.0\n",
      "boots           478.0\n",
      "clogs           493.0\n",
      "sandals         498.0\n",
      "stilettos       487.0\n",
      "wedges          488.0\n",
      "Name: price, dtype: float64\n",
      "<class 'pandas.core.series.Series'>\n"
     ]
    }
   ],
   "source": [
    "pricey_shoes = orders.groupby('shoe_type').price.max()\n",
    "print(pricey_shoes)\n",
    "print(type(pricey_shoes))"
   ]
  },
  {
   "attachments": {},
   "cell_type": "markdown",
   "metadata": {},
   "source": [
    "### Calculating Aggregate Functions II\n",
    "\n",
    "After using `groupby`, we often need to clean our resulting data.\n",
    "\n",
    "Modify your code from the previous exercise so that it ends with `reset_index`, which will change pricey_shoes into a DataFrame. "
   ]
  },
  {
   "cell_type": "code",
   "execution_count": 17,
   "metadata": {},
   "outputs": [
    {
     "name": "stdout",
     "output_type": "stream",
     "text": [
      "      shoe_type  price\n",
      "0  ballet flats  498.0\n",
      "1         boots  478.0\n",
      "2         clogs  493.0\n",
      "3       sandals  498.0\n",
      "4     stilettos  487.0\n",
      "5        wedges  488.0\n",
      "<class 'pandas.core.frame.DataFrame'>\n"
     ]
    }
   ],
   "source": [
    "pricey_shoes = orders.groupby('shoe_type').price.max().reset_index()\n",
    "print(pricey_shoes)\n",
    "print(type(pricey_shoes))"
   ]
  },
  {
   "attachments": {},
   "cell_type": "markdown",
   "metadata": {},
   "source": [
    "### Calculating Aggregate Functions III\n",
    "\n",
    "Sometimes, the operation that you want to perform is more complicated than mean or count. In those cases, you can use the apply method and lambda functions, just like we did for individual column operations. Note that the input to our lambda function will always be a list of values.\n",
    "\n",
    "Let’s calculate the 25th percentile for shoe price for each `shoe_color` to help Marketing decide if we have enough cheap shoes on sale. Save the data to the variable `cheap_shoes`."
   ]
  },
  {
   "cell_type": "code",
   "execution_count": 18,
   "metadata": {},
   "outputs": [
    {
     "name": "stdout",
     "output_type": "stream",
     "text": [
      "  shoe_color  price\n",
      "0      black    NaN\n",
      "1      brown  215.0\n",
      "2       navy  204.5\n",
      "3        red  180.5\n",
      "4      white  194.5\n"
     ]
    }
   ],
   "source": [
    "cheap_shoes = orders.groupby('shoe_color').price.apply(lambda x: np.percentile(x, 25)).reset_index()\n",
    "print(cheap_shoes)"
   ]
  },
  {
   "attachments": {},
   "cell_type": "markdown",
   "metadata": {},
   "source": [
    "### Calculating Aggregate Functions IV\n",
    "\n",
    "Sometimes, we want to group by more than one column. We can easily do this by passing a list of column names into the groupby method.\n",
    "\n",
    "Create a DataFrame with the total number of shoes of each `shoe_type`/`shoe_color` combination purchased. Save it to the variable `shoe_counts`.\n",
    "\n",
    "Note: When we’re using `count()`, it doesn’t really matter which column we perform the calculation on. You should use id in this example, but we would get the same answer if we used `shoe_type` or `last_name`."
   ]
  },
  {
   "cell_type": "code",
   "execution_count": 19,
   "metadata": {},
   "outputs": [
    {
     "name": "stdout",
     "output_type": "stream",
     "text": [
      "       shoe_type shoe_color  id\n",
      "0   ballet flats      black   4\n",
      "1   ballet flats      brown  16\n",
      "2   ballet flats       navy  17\n",
      "3   ballet flats        red  16\n",
      "4   ballet flats      white  12\n",
      "5          boots      black   3\n",
      "6          boots      brown   5\n",
      "7          boots       navy   6\n",
      "8          boots        red   2\n",
      "9          boots      white   3\n",
      "10         clogs      black   4\n",
      "11         clogs      brown   6\n",
      "12         clogs       navy   1\n",
      "13         clogs        red   4\n",
      "14         clogs      white   1\n",
      "15       sandals      black   4\n",
      "16       sandals      brown  14\n",
      "17       sandals       navy  18\n",
      "18       sandals        red  17\n",
      "19       sandals      white  14\n",
      "20     stilettos      black  13\n",
      "21     stilettos      brown  17\n",
      "22     stilettos       navy   9\n",
      "23     stilettos        red  18\n",
      "24     stilettos      white   7\n",
      "25        wedges      black   3\n",
      "26        wedges      brown  17\n",
      "27        wedges       navy  20\n",
      "28        wedges        red   9\n",
      "29        wedges      white  19\n"
     ]
    }
   ],
   "source": [
    "shoe_counts = orders.groupby(['shoe_type', 'shoe_color'])['id'].count().reset_index()\n",
    "print(shoe_counts)"
   ]
  },
  {
   "attachments": {},
   "cell_type": "markdown",
   "metadata": {},
   "source": [
    "### Pivot Tables\n",
    "\n",
    "When we perform a `groupby` across multiple columns, we often want to change how our data is stored. Reorganizing a table in this way is called pivoting. The new table is called a pivot table.\n",
    "\n",
    "Make it easier for her to compare purchases of different shoe colors of the same shoe type by creating a pivot table. Save your results to the variable `shoe_counts_pivot`."
   ]
  },
  {
   "cell_type": "code",
   "execution_count": 20,
   "metadata": {},
   "outputs": [
    {
     "name": "stdout",
     "output_type": "stream",
     "text": [
      "shoe_color     shoe_type  black  brown  navy  red  white\n",
      "0           ballet flats      4     16    17   16     12\n",
      "1                  boots      3      5     6    2      3\n",
      "2                  clogs      4      6     1    4      1\n",
      "3                sandals      4     14    18   17     14\n",
      "4              stilettos     13     17     9   18      7\n",
      "5                 wedges      3     17    20    9     19\n"
     ]
    }
   ],
   "source": [
    "shoe_counts_pivot = shoe_counts.pivot(\n",
    "  columns = 'shoe_color',\n",
    "  index = 'shoe_type',\n",
    "  values = 'id'\n",
    ").reset_index()\n",
    "\n",
    "print(shoe_counts_pivot)"
   ]
  },
  {
   "attachments": {},
   "cell_type": "markdown",
   "metadata": {},
   "source": [
    "### Review\n",
    "\n",
    "Let’s examine some more data from ShoeFly.com. This time, we’ll be looking at data about user visits to the website (the same dataset that you saw in the introduction to this lesson).\n",
    "\n",
    "The data is a DataFrame called `user_visits`. Use `print` and `head()` to examine the first few rows of the DataFrame."
   ]
  },
  {
   "cell_type": "code",
   "execution_count": 21,
   "metadata": {},
   "outputs": [
    {
     "name": "stdout",
     "output_type": "stream",
     "text": [
      "      id first_name   last_name                       email         month  \\\n",
      "0  10043      Louis        Koch       LouisKoch43@gmail.com     3 - March   \n",
      "1  10150      Bruce        Webb     BruceWebb44@outlook.com     3 - March   \n",
      "2  10155   Nicholas     Hoffman  Nicholas.Hoffman@gmail.com  2 - February   \n",
      "3  10178    William         Key     William.Key@outlook.com     3 - March   \n",
      "4  10208      Karen        Bass            KB4971@gmail.com  2 - February   \n",
      "5  10260   Benjamin       Ochoa  Benjamin.Ochoa@outlook.com   1 - January   \n",
      "6  10271     Gerald     Aguilar    Gerald.Aguilar@gmail.com     3 - March   \n",
      "7  10278    Melissa     Lambert   Melissa.Lambert@gmail.com  2 - February   \n",
      "8  10320       Adam  Strickland   Adam.Strickland@gmail.com     3 - March   \n",
      "9  10389      Ethan       Payne    EthanPayne26@outlook.com  2 - February   \n",
      "\n",
      "  utm_source  \n",
      "0      yahoo  \n",
      "1    twitter  \n",
      "2     google  \n",
      "3      yahoo  \n",
      "4     google  \n",
      "5    twitter  \n",
      "6     google  \n",
      "7      email  \n",
      "8      email  \n",
      "9   facebook  \n"
     ]
    }
   ],
   "source": [
    "user_visits = pd.read_csv('page_visits.csv')\n",
    "\n",
    "print(user_visits.head(10))"
   ]
  },
  {
   "attachments": {},
   "cell_type": "markdown",
   "metadata": {},
   "source": [
    "The column `utm_source` contains information about how users got to ShoeFly’s homepage. For instance, if `utm_source` = `Facebook`, then the user came to ShoeFly by clicking on an ad on Facebook.com.\n",
    "\n",
    "Use a `groupby` statement to calculate how many visits came from each of the different sources. Save your answer to the variable `click_source`."
   ]
  },
  {
   "cell_type": "code",
   "execution_count": 22,
   "metadata": {},
   "outputs": [
    {
     "name": "stdout",
     "output_type": "stream",
     "text": [
      "  utm_source   id  first_name  last_name  email  month\n",
      "0      email  462         462        462    462    462\n",
      "1   facebook  823         823        823    823    823\n",
      "2     google  543         543        543    543    543\n",
      "3    twitter  415         415        415    415    415\n",
      "4      yahoo  757         757        757    757    757\n"
     ]
    }
   ],
   "source": [
    "click_source = user_visits.groupby('utm_source').count().reset_index()\n",
    "print(click_source)"
   ]
  },
  {
   "attachments": {},
   "cell_type": "markdown",
   "metadata": {},
   "source": [
    "Our Marketing department thinks that the traffic to our site has been changing over the past few months. Use `groupby` to calculate the number of visits to our site from each `utm_source` for each month.\n",
    "\n",
    "Save your answer to the variable `click_source_by_month`."
   ]
  },
  {
   "cell_type": "code",
   "execution_count": 23,
   "metadata": {},
   "outputs": [
    {
     "name": "stdout",
     "output_type": "stream",
     "text": [
      "   utm_source         month   id\n",
      "0       email   1 - January   43\n",
      "1       email  2 - February  147\n",
      "2       email     3 - March  272\n",
      "3    facebook   1 - January  404\n",
      "4    facebook  2 - February  263\n",
      "5    facebook     3 - March  156\n",
      "6      google   1 - January  127\n",
      "7      google  2 - February  196\n",
      "8      google     3 - March  220\n",
      "9     twitter   1 - January  164\n",
      "10    twitter  2 - February  154\n",
      "11    twitter     3 - March   97\n",
      "12      yahoo   1 - January  262\n",
      "13      yahoo  2 - February  240\n",
      "14      yahoo     3 - March  255\n"
     ]
    }
   ],
   "source": [
    "click_source_by_month = user_visits.groupby(['utm_source', 'month']).id.count().reset_index()\n",
    "print(click_source_by_month)"
   ]
  },
  {
   "attachments": {},
   "cell_type": "markdown",
   "metadata": {},
   "source": [
    "The head of Marketing is complaining that this table is hard to read. Use pivot to create a pivot table where the rows are `utm_source` and the columns are month.\n",
    "\n",
    "Save your results to the variable `click_source_by_month_pivot`.\n",
    "\n"
   ]
  },
  {
   "cell_type": "code",
   "execution_count": 24,
   "metadata": {},
   "outputs": [
    {
     "name": "stdout",
     "output_type": "stream",
     "text": [
      "month utm_source  1 - January  2 - February  3 - March\n",
      "0          email           43           147        272\n",
      "1       facebook          404           263        156\n",
      "2         google          127           196        220\n",
      "3        twitter          164           154         97\n",
      "4          yahoo          262           240        255\n"
     ]
    }
   ],
   "source": [
    "click_source_by_month_pivot = click_source_by_month.pivot(\n",
    "  columns = 'month',\n",
    "  index = 'utm_source',\n",
    "  values = 'id'\n",
    ").reset_index()\n",
    "\n",
    "print(click_source_by_month_pivot)"
   ]
  },
  {
   "cell_type": "code",
   "execution_count": null,
   "metadata": {},
   "outputs": [],
   "source": []
  }
 ],
 "metadata": {
  "kernelspec": {
   "display_name": "Python 3",
   "language": "python",
   "name": "python3"
  },
  "language_info": {
   "codemirror_mode": {
    "name": "ipython",
    "version": 3
   },
   "file_extension": ".py",
   "mimetype": "text/x-python",
   "name": "python",
   "nbconvert_exporter": "python",
   "pygments_lexer": "ipython3",
   "version": "3.9.13"
  },
  "orig_nbformat": 4
 },
 "nbformat": 4,
 "nbformat_minor": 2
}
