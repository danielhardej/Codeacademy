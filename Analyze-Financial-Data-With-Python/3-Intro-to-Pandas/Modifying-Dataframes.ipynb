{
 "cells": [
  {
   "attachments": {},
   "cell_type": "markdown",
   "metadata": {},
   "source": [
    "# Modifying DataFrames\n",
    "\n",
    "In the previous lesson, you learned what a DataFrame is and how to select subsets of data from one.\n",
    "\n",
    "In this lesson, you’ll learn how to modify an existing DataFrame. Some of the skills you’ll learn include:\n",
    " - Adding columns to a DataFrame\n",
    " - Using lambda functions to calculate complex quantities\n",
    " - Renaming columns\n",
    "\n",
    " ### Adding a Column I\n",
    "\n",
    "Sometimes, we want to add a column to an existing DataFrame. We might want to add new information or perform a calculation based on the data that we already have.\n",
    "\n",
    "One way that we can add a new column is by giving a list of the same length as the existing DataFrame.\n",
    "\n",
    "The DataFrame `df` contains information on products sold at a hardware store. Add a column to df called `'Sold in Bulk?'`, which indicates if the product is sold in bulk or individually."
   ]
  },
  {
   "cell_type": "code",
   "execution_count": 1,
   "metadata": {},
   "outputs": [
    {
     "name": "stdout",
     "output_type": "stream",
     "text": [
      "   Product ID   Description  Cost to Manufacture  Price Sold in Bulk?\n",
      "0           1  3 inch screw                  0.5   0.75           Yes\n",
      "1           2   2 inch nail                  0.1   0.25           Yes\n",
      "2           3        hammer                  3.0   5.50            No\n",
      "3           4   screwdriver                  2.5   3.00            No\n"
     ]
    }
   ],
   "source": [
    "import pandas as pd\n",
    "\n",
    "df = pd.DataFrame([\n",
    "  [1, '3 inch screw', 0.5, 0.75],\n",
    "  [2, '2 inch nail', 0.10, 0.25],\n",
    "  [3, 'hammer', 3.00, 5.50],\n",
    "  [4, 'screwdriver', 2.50, 3.00]\n",
    "],\n",
    "  columns=['Product ID', 'Description', 'Cost to Manufacture', 'Price']\n",
    ")\n",
    "\n",
    "# Add columns here\n",
    "df['Sold in Bulk?'] = ['Yes', 'Yes', 'No', 'No']\n",
    "print(df)"
   ]
  },
  {
   "attachments": {},
   "cell_type": "markdown",
   "metadata": {},
   "source": [
    "### Adding a Column II\n",
    "\n",
    "We can also add a new column that is the same for all rows in the DataFrame.\n",
    "\n",
    "Add a column to df called Is taxed?, which indicates whether or not to collect sales tax on the product."
   ]
  },
  {
   "cell_type": "code",
   "execution_count": 2,
   "metadata": {},
   "outputs": [
    {
     "name": "stdout",
     "output_type": "stream",
     "text": [
      "   Product ID   Description  Cost to Manufacture  Price Is taxed?\n",
      "0           1  3 inch screw                  0.5   0.75       Yes\n",
      "1           2   2 inch nail                  0.1   0.25       Yes\n",
      "2           3        hammer                  3.0   5.50       Yes\n",
      "3           4   screwdriver                  2.5   3.00       Yes\n"
     ]
    }
   ],
   "source": [
    "df = pd.DataFrame([\n",
    "  [1, '3 inch screw', 0.5, 0.75],\n",
    "  [2, '2 inch nail', 0.10, 0.25],\n",
    "  [3, 'hammer', 3.00, 5.50],\n",
    "  [4, 'screwdriver', 2.50, 3.00]\n",
    "],\n",
    "  columns=['Product ID', 'Description', 'Cost to Manufacture', 'Price']\n",
    ")\n",
    "\n",
    "# Add columns here\n",
    "df[\"Is taxed?\"] = 'Yes'\n",
    "print(df)"
   ]
  },
  {
   "attachments": {},
   "cell_type": "markdown",
   "metadata": {},
   "source": [
    "### Adding a Column III\n",
    "\n",
    "Finally, you can add a new column by performing a function on the existing columns."
   ]
  },
  {
   "cell_type": "code",
   "execution_count": 3,
   "metadata": {},
   "outputs": [
    {
     "name": "stdout",
     "output_type": "stream",
     "text": [
      "   Product ID   Description  Cost to Manufacture  Price  Margin\n",
      "0           1  3 inch screw                  0.5   0.75    0.25\n",
      "1           2   2 inch nail                  0.1   0.25    0.15\n",
      "2           3        hammer                  3.0   5.50    2.50\n",
      "3           4   screwdriver                  2.5   3.00    0.50\n"
     ]
    }
   ],
   "source": [
    "df = pd.DataFrame([\n",
    "  [1, '3 inch screw', 0.5, 0.75],\n",
    "  [2, '2 inch nail', 0.10, 0.25],\n",
    "  [3, 'hammer', 3.00, 5.50],\n",
    "  [4, 'screwdriver', 2.50, 3.00]\n",
    "],\n",
    "  columns=['Product ID', 'Description', 'Cost to Manufacture', 'Price']\n",
    ")\n",
    "\n",
    "# Add column here\n",
    "df['Margin'] = df.Price - df['Cost to Manufacture']\n",
    "print(df)"
   ]
  },
  {
   "attachments": {},
   "cell_type": "markdown",
   "metadata": {},
   "source": [
    "### Performing Column Operations\n",
    "\n",
    "In the previous exercise, we learned how to add columns to a DataFrame.\n",
    "\n",
    "Often, the column that we want to add is related to existing columns, but requires a calculation more complex than multiplication or addition."
   ]
  },
  {
   "cell_type": "code",
   "execution_count": 4,
   "metadata": {},
   "outputs": [
    {
     "name": "stdout",
     "output_type": "stream",
     "text": [
      "         Name                 Email Lowercase Name\n",
      "0  JOHN SMITH  john.smith@gmail.com     john smith\n",
      "1    Jane Doe        jdoe@yahoo.com       jane doe\n",
      "2   joe schmo  joeschmo@hotmail.com      joe schmo\n"
     ]
    }
   ],
   "source": [
    "df = pd.DataFrame([\n",
    "  ['JOHN SMITH', 'john.smith@gmail.com'],\n",
    "  ['Jane Doe', 'jdoe@yahoo.com'],\n",
    "  ['joe schmo', 'joeschmo@hotmail.com']\n",
    "],\n",
    "columns=['Name', 'Email'])\n",
    "\n",
    "# Add columns here\n",
    "df['Lowercase Name'] = df.Name.apply(str.lower)\n",
    "print(df)"
   ]
  },
  {
   "attachments": {},
   "cell_type": "markdown",
   "metadata": {},
   "source": [
    "### Reviewing Lambda Function\n",
    "\n",
    "A lambda function is a way of defining a function in a single line of code. Usually, we would assign them to a variable."
   ]
  },
  {
   "cell_type": "code",
   "execution_count": 5,
   "metadata": {},
   "outputs": [
    {
     "name": "stdout",
     "output_type": "stream",
     "text": [
      "Tg\n"
     ]
    }
   ],
   "source": [
    "mylambda = lambda x: x[0] + x[-1]\n",
    "print(mylambda('This is a string'))"
   ]
  },
  {
   "attachments": {},
   "cell_type": "markdown",
   "metadata": {},
   "source": [
    "### Reviewing Lambda Function: If Statements\n",
    "\n",
    "We can make our lambdas more complex by using a modified form of an if statement."
   ]
  },
  {
   "cell_type": "code",
   "execution_count": 7,
   "metadata": {},
   "outputs": [
    {
     "name": "stdout",
     "output_type": "stream",
     "text": [
      "You must be 13 or older\n",
      "Welcome to BattleCity!\n"
     ]
    }
   ],
   "source": [
    "mylambda = lambda age: \"Welcome to BattleCity!\" if age >= 13 else \"You must be 13 or older\"\n",
    "\n",
    "print(mylambda(12))\n",
    "print(mylambda(13))"
   ]
  },
  {
   "attachments": {},
   "cell_type": "markdown",
   "metadata": {},
   "source": [
    "### Applying a Lambda to a Column\n",
    "\n",
    "In Pandas, we often use lambda functions to perform complex operations on columns."
   ]
  },
  {
   "cell_type": "code",
   "execution_count": 9,
   "metadata": {},
   "outputs": [
    {
     "name": "stdout",
     "output_type": "stream",
     "text": [
      "       id               name  hourly_wage  hours_worked  last_name\n",
      "0   10310      Lauren Durham           19            43     Durham\n",
      "1   18656      Grace Sellers           17            40    Sellers\n",
      "2   61254  Shirley Rasmussen           16            30  Rasmussen\n",
      "3   16886        Brian Rojas           18            47      Rojas\n",
      "4   89010    Samantha Mosley           11            38     Mosley\n",
      "5   87246       Louis Guzman           14            39     Guzman\n",
      "6   20578     Denise Mcclure           15            40    Mcclure\n",
      "7   12869      James Raymond           15            32    Raymond\n",
      "8   53461       Noah Collier           18            35    Collier\n",
      "9   14746    Donna Frederick           20            41  Frederick\n",
      "10  71127       Shirley Beck           14            32       Beck\n",
      "11  92522    Christina Kelly            8            44      Kelly\n",
      "12  22447        Brian Noble           11            39      Noble\n",
      "13  61654          Randy Key           16            38        Key\n",
      "14  16988      Diana Stewart           14            48    Stewart\n",
      "15  68619       Timothy Sosa           14            42       Sosa\n",
      "16  59949      Betty Skinner           11            48    Skinner\n",
      "17  81418      Janet Maxwell           12            38    Maxwell\n",
      "18  27267   Madison Johnston           20            37   Johnston\n",
      "19  19985   Virginia Nichols           13            49    Nichols\n"
     ]
    }
   ],
   "source": [
    "df = pd.read_csv('employees.csv')\n",
    "\n",
    "get_last_name = lambda name: name.split()[-1]\n",
    "df[\"last_name\"] = df.name.apply(get_last_name)\n",
    "print(df)"
   ]
  },
  {
   "attachments": {},
   "cell_type": "markdown",
   "metadata": {},
   "source": [
    "### Applying a Lambda to a Row\n",
    "\n",
    "We can also operate on multiple columns at once. If we use apply without specifying a single column and add the argument `axis=1`, the input to our lambda function will be an entire row, not a column. To access particular values of the row, we use the syntax `row.column_name` or `row['column_name']`."
   ]
  },
  {
   "cell_type": "code",
   "execution_count": 10,
   "metadata": {},
   "outputs": [
    {
     "name": "stdout",
     "output_type": "stream",
     "text": [
      "       id               name  hourly_wage  hours_worked  total_earned\n",
      "0   10310      Lauren Durham           19            43         845.5\n",
      "1   18656      Grace Sellers           17            40         680.0\n",
      "2   61254  Shirley Rasmussen           16            30         480.0\n",
      "3   16886        Brian Rojas           18            47         909.0\n",
      "4   89010    Samantha Mosley           11            38         418.0\n",
      "5   87246       Louis Guzman           14            39         546.0\n",
      "6   20578     Denise Mcclure           15            40         600.0\n",
      "7   12869      James Raymond           15            32         480.0\n",
      "8   53461       Noah Collier           18            35         630.0\n",
      "9   14746    Donna Frederick           20            41         830.0\n",
      "10  71127       Shirley Beck           14            32         448.0\n",
      "11  92522    Christina Kelly            8            44         368.0\n",
      "12  22447        Brian Noble           11            39         429.0\n",
      "13  61654          Randy Key           16            38         608.0\n",
      "14  16988      Diana Stewart           14            48         728.0\n",
      "15  68619       Timothy Sosa           14            42         602.0\n",
      "16  59949      Betty Skinner           11            48         572.0\n",
      "17  81418      Janet Maxwell           12            38         456.0\n",
      "18  27267   Madison Johnston           20            37         740.0\n",
      "19  19985   Virginia Nichols           13            49         695.5\n"
     ]
    }
   ],
   "source": [
    "df = pd.read_csv('employees.csv')\n",
    "\n",
    "total_earned = lambda row: ((40 * row['hourly_wage']) + ((row['hours_worked']-40)*row['hourly_wage'] * 1.5)) if row['hours_worked'] > 40 else (row['hourly_wage'] * row['hours_worked'])\n",
    "\n",
    "df['total_earned'] = df.apply(total_earned, axis=1)\n",
    "print(df)"
   ]
  },
  {
   "attachments": {},
   "cell_type": "markdown",
   "metadata": {},
   "source": [
    "### Renaming Columns\n",
    "When we get our data from other sources, we often want to change the column names. For example, we might want all of the column names to follow variable name rules, so that we can use `df.column_name` (which tab-completes) rather than `df['column_name']` (which takes up extra space).\n",
    "\n",
    "You can change all of the column names at once by setting the .columns property to a different list. This is great when you need to change all of the column names at once, but be careful! You can easily mislabel columns if you get the ordering wrong."
   ]
  },
  {
   "cell_type": "code",
   "execution_count": 11,
   "metadata": {},
   "outputs": [
    {
     "name": "stdout",
     "output_type": "stream",
     "text": [
      "      ID                                      Title Category  Year Released  \\\n",
      "0      1                                     Avatar   action           2009   \n",
      "1      2                             Jurassic World   action           2015   \n",
      "2      3                               The Avengers   action           2012   \n",
      "3      4                            The Dark Knight   action           2008   \n",
      "4      5  Star Wars: Episode I - The Phantom Menace   action           1999   \n",
      "..   ...                                        ...      ...            ...   \n",
      "215  216                                   Hannibal    drama           2001   \n",
      "216  217                        Catch Me If You Can    drama           2002   \n",
      "217  218                                  Big Daddy    drama           1999   \n",
      "218  219                                      Se7en    drama           1995   \n",
      "219  220                                      Seven    drama           1979   \n",
      "\n",
      "     Rating  \n",
      "0       7.9  \n",
      "1       7.3  \n",
      "2       8.1  \n",
      "3       9.0  \n",
      "4       6.6  \n",
      "..      ...  \n",
      "215     6.7  \n",
      "216     8.0  \n",
      "217     6.4  \n",
      "218     8.6  \n",
      "219     6.1  \n",
      "\n",
      "[220 rows x 5 columns]\n"
     ]
    }
   ],
   "source": [
    "df = pd.read_csv('imdb.csv')\n",
    "\n",
    "# Rename columns here\n",
    "df.columns = ['ID', 'Title', 'Category', 'Year Released', 'Rating']\n",
    "print(df)"
   ]
  },
  {
   "attachments": {},
   "cell_type": "markdown",
   "metadata": {},
   "source": [
    "### Renaming Columns II\n",
    "\n",
    "You also can rename individual columns by using the `.rename` method. Pass a dictionary to the columns keyword argument."
   ]
  },
  {
   "cell_type": "code",
   "execution_count": 12,
   "metadata": {},
   "outputs": [
    {
     "name": "stdout",
     "output_type": "stream",
     "text": [
      "      id                                movie_title   genre  year  imdb_rating\n",
      "0      1                                     Avatar  action  2009          7.9\n",
      "1      2                             Jurassic World  action  2015          7.3\n",
      "2      3                               The Avengers  action  2012          8.1\n",
      "3      4                            The Dark Knight  action  2008          9.0\n",
      "4      5  Star Wars: Episode I - The Phantom Menace  action  1999          6.6\n",
      "..   ...                                        ...     ...   ...          ...\n",
      "215  216                                   Hannibal   drama  2001          6.7\n",
      "216  217                        Catch Me If You Can   drama  2002          8.0\n",
      "217  218                                  Big Daddy   drama  1999          6.4\n",
      "218  219                                      Se7en   drama  1995          8.6\n",
      "219  220                                      Seven   drama  1979          6.1\n",
      "\n",
      "[220 rows x 5 columns]\n"
     ]
    }
   ],
   "source": [
    "df = pd.read_csv('imdb.csv')\n",
    "\n",
    "# Rename columns here\n",
    "df.rename(columns={'name': 'movie_title'}, inplace=True)\n",
    "print(df)"
   ]
  },
  {
   "attachments": {},
   "cell_type": "markdown",
   "metadata": {},
   "source": [
    "### Review"
   ]
  },
  {
   "cell_type": "code",
   "execution_count": 15,
   "metadata": {},
   "outputs": [
    {
     "name": "stdout",
     "output_type": "stream",
     "text": [
      "      id first_name last_name  gender                         email  \\\n",
      "0  54791    Rebecca   Lindsay  female  RebeccaLindsay57@hotmail.com   \n",
      "1  53450      Emily     Joyce  female        EmilyJoyce25@gmail.com   \n",
      "2  91987      Joyce    Waller  female        Joyce.Waller@gmail.com   \n",
      "3  14437     Justin  Erickson    male   Justin.Erickson@outlook.com   \n",
      "4  79357     Andrew     Banks    male              AB4318@gmail.com   \n",
      "\n",
      "      shoe_type shoe_material shoe_color  \n",
      "0         clogs  faux-leather      black  \n",
      "1  ballet flats  faux-leather       navy  \n",
      "2       sandles        fabric      black  \n",
      "3         clogs  faux-leather        red  \n",
      "4         boots       leather      brown  \n",
      "      id first_name last_name  gender                         email  \\\n",
      "0  54791    Rebecca   Lindsay  female  RebeccaLindsay57@hotmail.com   \n",
      "1  53450      Emily     Joyce  female        EmilyJoyce25@gmail.com   \n",
      "2  91987      Joyce    Waller  female        Joyce.Waller@gmail.com   \n",
      "3  14437     Justin  Erickson    male   Justin.Erickson@outlook.com   \n",
      "4  79357     Andrew     Banks    male              AB4318@gmail.com   \n",
      "\n",
      "      shoe_type shoe_material shoe_color shoe_source         salutation  \n",
      "0         clogs  faux-leather      black       vegan   Dear Ms. Lindsay  \n",
      "1  ballet flats  faux-leather       navy       vegan     Dear Ms. Joyce  \n",
      "2       sandles        fabric      black       vegan    Dear Ms. Waller  \n",
      "3         clogs  faux-leather        red       vegan  Dear Mr. Erickson  \n",
      "4         boots       leather      brown      animal     Dear Mr. Banks  \n"
     ]
    }
   ],
   "source": [
    "orders = pd.read_csv('shoefly2.csv')\n",
    "print(orders.head(5))\n",
    "\n",
    "vegan_lambda = lambda x: 'animal' if x == 'leather' else 'vegan'\n",
    "orders['shoe_source'] = orders.shoe_material.apply(vegan_lambda)\n",
    "\n",
    "salutation_lambda = lambda row: 'Dear Mr. {}'.format(row.last_name) if row.gender == 'male' else 'Dear Ms. {}'.format(row.last_name)\n",
    "\n",
    "orders['salutation'] = orders.apply(salutation_lambda, axis=1)\n",
    "\n",
    "print(orders.head(5))"
   ]
  }
 ],
 "metadata": {
  "kernelspec": {
   "display_name": "base",
   "language": "python",
   "name": "python3"
  },
  "language_info": {
   "codemirror_mode": {
    "name": "ipython",
    "version": 3
   },
   "file_extension": ".py",
   "mimetype": "text/x-python",
   "name": "python",
   "nbconvert_exporter": "python",
   "pygments_lexer": "ipython3",
   "version": "3.9.13"
  },
  "orig_nbformat": 4
 },
 "nbformat": 4,
 "nbformat_minor": 2
}
