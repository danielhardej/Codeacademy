{
 "cells": [
  {
   "attachments": {},
   "cell_type": "markdown",
   "metadata": {},
   "source": [
    "# Importing Finance Data"
   ]
  },
  {
   "cell_type": "code",
   "execution_count": 29,
   "metadata": {},
   "outputs": [],
   "source": [
    "import pandas_datareader.data as web\n",
    "from pandas_datareader import wb"
   ]
  },
  {
   "cell_type": "code",
   "execution_count": 6,
   "metadata": {},
   "outputs": [],
   "source": [
    "from datetime import datetime"
   ]
  },
  {
   "cell_type": "code",
   "execution_count": 12,
   "metadata": {},
   "outputs": [],
   "source": [
    "import pandas as pd"
   ]
  },
  {
   "attachments": {},
   "cell_type": "markdown",
   "metadata": {},
   "source": [
    "### Importing CSV Data Manually\n",
    "\n",
    "In order to import data from a csv like this, the pandas module has a useful function: `read_csv`.\n",
    "\n",
    "This function takes as an argument the location of the csv file you want to import, and outputs a pandas DataFrame containing the data from the file."
   ]
  },
  {
   "cell_type": "code",
   "execution_count": 27,
   "metadata": {},
   "outputs": [
    {
     "name": "stdout",
     "output_type": "stream",
     "text": [
      "          date   close      volume    open      high     low\n",
      "0   2019/08/13  208.97  47539790.0  201.02  212.1400  200.83\n",
      "1   2019/08/12  200.48  22481890.0  199.62  202.0516  199.15\n",
      "2   2019/08/09  200.99  24619750.0  201.30  202.7600  199.29\n",
      "3   2019/08/08  203.43  27009520.0  200.20  203.5300  199.39\n",
      "4   2019/08/07  199.04  33364400.0  195.41  199.5600  193.82\n",
      "..         ...     ...         ...     ...       ...     ...\n",
      "60  2019/05/17  189.00  32879090.0  186.93  190.9000  186.76\n",
      "61  2019/05/16  190.08  33031360.0  189.91  192.4689  188.84\n",
      "62  2019/05/15  190.92  26544720.0  186.27  191.7500  186.02\n",
      "63  2019/05/14  188.66  36529680.0  186.41  189.7000  185.41\n",
      "64  2019/05/13  185.72  57430620.0  187.71  189.4800  182.85\n",
      "\n",
      "[65 rows x 6 columns]\n"
     ]
    }
   ],
   "source": [
    "apple_prices = pd.read_csv(\"aapl_prices.csv\")\n",
    "\n",
    "print(apple_prices)"
   ]
  },
  {
   "attachments": {},
   "cell_type": "markdown",
   "metadata": {},
   "source": [
    "### Importing Data Using Datareader\n",
    "\n",
    "Many financial institutions, stock markets, and world banks provide large amounts of the data they store to the public.\n",
    "\n",
    "Most of this data is well organized, live updated, and accessible through the use of an application programming interface (API), which gives programming languages like Python a way to download and import it.\n",
    "\n",
    "### Pandas-Datareader Module\n",
    "\n",
    "The `pandas-datareader` module is designed specifically to interact with some of the world’s most popular finance data APIs, and import their data into an easily digestible pandas DataFrame.\n",
    "\n",
    "Each finance API is accessed using a different function exposed by `pandas-datareader`. Generally accessing each API requires a different set of arguments and information that needs to be provided by the programmer."
   ]
  },
  {
   "cell_type": "code",
   "execution_count": 31,
   "metadata": {},
   "outputs": [
    {
     "name": "stdout",
     "output_type": "stream",
     "text": [
      "                    NY.GDP.PCAP.KD\n",
      "country       year                \n",
      "Canada        2008    42063.633052\n",
      "Mexico        2008     9276.054837\n",
      "United States 2008    53854.160612\n"
     ]
    }
   ],
   "source": [
    "start = datetime(2005, 1, 1)\n",
    "end = datetime(2008, 1, 1)\n",
    "indicator_id = 'NY.GDP.PCAP.KD'\n",
    "\n",
    "gdp_per_capita = wb.download(indicator=indicator_id, start=start, end=end, country=['US', 'CA', 'MX'])\n",
    "\n",
    "print(gdp_per_capita)\n"
   ]
  },
  {
   "attachments": {},
   "cell_type": "markdown",
   "metadata": {},
   "source": [
    "### Getting NASDAQ Symbols\n",
    "\n",
    "The NASDAQ stock exchange identifies each of it’s stocks using a unique symbol. It also provides a useful API for accessing the symbols that are currently trading on it.\n",
    "\n",
    "Pandas-datareader provides several functions for importing data from NASDAQ’s API through it’s `nasdaq_trader` sub-module."
   ]
  },
  {
   "cell_type": "code",
   "execution_count": 32,
   "metadata": {},
   "outputs": [
    {
     "name": "stdout",
     "output_type": "stream",
     "text": [
      "        Nasdaq Traded                                      Security Name  \\\n",
      "Symbol                                                                     \n",
      "A                True            Agilent Technologies, Inc. Common Stock   \n",
      "AA               True                    Alcoa Corporation Common Stock    \n",
      "AAA              True  Investment Managers Series Trust II AXS First ...   \n",
      "AAAU             True             Goldman Sachs Physical Gold ETF Shares   \n",
      "AAC              True  Ares Acquisition Corporation Class A Ordinary ...   \n",
      "...               ...                                                ...   \n",
      "ZXYZ.A           True                 Nasdaq Symbology Test Common Stock   \n",
      "ZXZZT            True                                  NASDAQ TEST STOCK   \n",
      "ZYME             True                      Zymeworks Inc. - Common Stock   \n",
      "ZYNE             True       Zynerba Pharmaceuticals, Inc. - Common Stock   \n",
      "ZYXI             True                         Zynex, Inc. - Common Stock   \n",
      "\n",
      "       Listing Exchange Market Category    ETF  Round Lot Size  Test Issue  \\\n",
      "Symbol                                                                       \n",
      "A                     N                  False           100.0       False   \n",
      "AA                    N                  False           100.0       False   \n",
      "AAA                   P                   True           100.0       False   \n",
      "AAAU                  Z                   True           100.0       False   \n",
      "AAC                   N                  False           100.0       False   \n",
      "...                 ...             ...    ...             ...         ...   \n",
      "ZXYZ.A                Q               Q  False           100.0        True   \n",
      "ZXZZT                 Q               G  False           100.0        True   \n",
      "ZYME                  Q               Q  False           100.0       False   \n",
      "ZYNE                  Q               G  False           100.0       False   \n",
      "ZYXI                  Q               Q  False           100.0       False   \n",
      "\n",
      "       Financial Status CQS Symbol NASDAQ Symbol  NextShares  \n",
      "Symbol                                                        \n",
      "A                   NaN          A             A       False  \n",
      "AA                  NaN         AA            AA       False  \n",
      "AAA                 NaN        AAA           AAA       False  \n",
      "AAAU                NaN       AAAU          AAAU       False  \n",
      "AAC                 NaN        AAC           AAC       False  \n",
      "...                 ...        ...           ...         ...  \n",
      "ZXYZ.A                N        NaN        ZXYZ.A       False  \n",
      "ZXZZT                 N        NaN         ZXZZT       False  \n",
      "ZYME                  N        NaN          ZYME       False  \n",
      "ZYNE                  D        NaN          ZYNE       False  \n",
      "ZYXI                  N        NaN          ZYXI       False  \n",
      "\n",
      "[11613 rows x 11 columns]\n"
     ]
    }
   ],
   "source": [
    "from pandas_datareader.nasdaq_trader import get_nasdaq_symbols\n",
    "\n",
    "symbols = get_nasdaq_symbols()\n",
    "print(symbols)"
   ]
  },
  {
   "attachments": {},
   "cell_type": "markdown",
   "metadata": {},
   "source": [
    "### Filtering Data by Date\n",
    "\n",
    "Many of the APIs pandas-datareader connects with allow us to filter the data we get back by time.\n",
    "\n",
    "Financial institutions tend to keep track of data dating back several decades, and when we’re importing that data, it’s useful to be able to specify exactly when we want it to be from.\n",
    "\n",
    "One API that does just that is the Federal Reserve Bank of St. Louis (FRED), which we can access by first importing the pandas_datareader.data sub-module and then calling it’s DataReader function:"
   ]
  },
  {
   "cell_type": "code",
   "execution_count": 33,
   "metadata": {},
   "outputs": [
    {
     "name": "stdout",
     "output_type": "stream",
     "text": [
      "              SP500\n",
      "DATE               \n",
      "2019-01-01      NaN\n",
      "2019-01-02  2510.03\n",
      "2019-01-03  2447.89\n",
      "2019-01-04  2531.94\n",
      "2019-01-07  2549.69\n",
      "2019-01-08  2574.41\n",
      "2019-01-09  2584.96\n",
      "2019-01-10  2596.64\n",
      "2019-01-11  2596.26\n",
      "2019-01-14  2582.61\n",
      "2019-01-15  2610.30\n",
      "2019-01-16  2616.10\n",
      "2019-01-17  2635.96\n",
      "2019-01-18  2670.71\n",
      "2019-01-21      NaN\n",
      "2019-01-22  2632.90\n",
      "2019-01-23  2638.70\n",
      "2019-01-24  2642.33\n",
      "2019-01-25  2664.76\n",
      "2019-01-28  2643.85\n",
      "2019-01-29  2640.00\n",
      "2019-01-30  2681.05\n",
      "2019-01-31  2704.10\n",
      "2019-02-01  2706.53\n",
      "<class 'pandas.core.frame.DataFrame'>\n"
     ]
    }
   ],
   "source": [
    "start = datetime(2019, 1, 1)\n",
    "end = datetime(2019, 2, 1)\n",
    "\n",
    "sap_data = web.DataReader('SP500', 'fred', start, end)\n",
    "print(sap_data)\n",
    "print(type(sap_data))"
   ]
  },
  {
   "attachments": {},
   "cell_type": "markdown",
   "metadata": {},
   "source": [
    "### API Keys\n",
    "\n",
    "Many finance APIs require us to pass along extra information when requesting data, one common argument is an API key.\n",
    "\n",
    "An API key is a unique string used to identify and authenticate entities requesting data."
   ]
  },
  {
   "cell_type": "code",
   "execution_count": null,
   "metadata": {},
   "outputs": [],
   "source": [
    "print(dr.get_data_tiingo('AAPL', api_key='my-api-key'))     # won't run without api key"
   ]
  },
  {
   "attachments": {},
   "cell_type": "markdown",
   "metadata": {},
   "source": [
    "### Using the Shift Operation\n",
    "\n",
    "Once we’ve imported a DataFrame full of finance data, there’s some pretty cool ways we can manipulate it.\n",
    "\n",
    "In this exercise we’ll look at the shift operation, a DataFrame function which shifts all the rows in a column up or down.\n",
    "\n",
    "<img src=\"https://content.codecademy.com/programs/python-for-finance/importing-finance-data/data-frame-shift.gif\"  width=\"30%\" height=\"30%\">"
   ]
  },
  {
   "attachments": {},
   "cell_type": "markdown",
   "metadata": {},
   "source": [
    "To demonstrate shift’s power, let’s use it on some financial data. Using data from the FRED API we’ll calculate the amount of GDP growth over the last 10 years.\n",
    "\n",
    "Start by creating two datetime variables, `start` and `end`. Set start as January 1 2008, and end as January 1, 2018."
   ]
  },
  {
   "cell_type": "code",
   "execution_count": 7,
   "metadata": {},
   "outputs": [],
   "source": [
    "start = datetime(2008, 1, 1)\n",
    "end = datetime(2018, 1, 1)"
   ]
  },
  {
   "attachments": {},
   "cell_type": "markdown",
   "metadata": {},
   "source": [
    "Now call the `web.DataReader` function to get the GDP data from FRED, and store it in a variable called `gdp`."
   ]
  },
  {
   "cell_type": "code",
   "execution_count": 8,
   "metadata": {},
   "outputs": [
    {
     "name": "stdout",
     "output_type": "stream",
     "text": [
      "                  GDP\n",
      "DATE                 \n",
      "2008-01-01  14706.538\n",
      "2008-04-01  14865.701\n",
      "2008-07-01  14898.999\n",
      "2008-10-01  14608.208\n",
      "2009-01-01  14430.901\n",
      "2009-04-01  14381.236\n",
      "2009-07-01  14448.882\n",
      "2009-10-01  14651.248\n",
      "2010-01-01  14764.611\n",
      "2010-04-01  14980.193\n",
      "2010-07-01  15141.605\n",
      "2010-10-01  15309.471\n",
      "2011-01-01  15351.444\n",
      "2011-04-01  15557.535\n",
      "2011-07-01  15647.681\n",
      "2011-10-01  15842.267\n",
      "2012-01-01  16068.824\n",
      "2012-04-01  16207.130\n",
      "2012-07-01  16319.540\n",
      "2012-10-01  16420.386\n",
      "2013-01-01  16629.050\n",
      "2013-04-01  16699.551\n",
      "2013-07-01  16911.068\n",
      "2013-10-01  17133.114\n",
      "2014-01-01  17144.281\n",
      "2014-04-01  17462.703\n",
      "2014-07-01  17743.227\n",
      "2014-10-01  17852.540\n",
      "2015-01-01  17991.348\n",
      "2015-04-01  18193.707\n",
      "2015-07-01  18306.960\n",
      "2015-10-01  18332.079\n",
      "2016-01-01  18425.306\n",
      "2016-04-01  18611.617\n",
      "2016-07-01  18775.459\n",
      "2016-10-01  18968.041\n",
      "2017-01-01  19148.194\n",
      "2017-04-01  19304.506\n",
      "2017-07-01  19561.896\n",
      "2017-10-01  19894.750\n",
      "2018-01-01  20155.486\n"
     ]
    }
   ],
   "source": [
    "gdp = web.DataReader('GDP', 'fred', start, end)\n",
    "print(gdp)"
   ]
  },
  {
   "attachments": {},
   "cell_type": "markdown",
   "metadata": {},
   "source": [
    "To calculate the growth over each three month period, we’ll want to subtract each increment’s GDP data from the data in the next increment.\n",
    "\n",
    "To do this, subtract the result of shifting the GDP column by 1, from the unshifted GDP column, and store it in a new column on the DataFrame called `growth`."
   ]
  },
  {
   "cell_type": "code",
   "execution_count": 10,
   "metadata": {},
   "outputs": [
    {
     "name": "stdout",
     "output_type": "stream",
     "text": [
      "                  GDP   growth\n",
      "DATE                          \n",
      "2008-01-01  14706.538      NaN\n",
      "2008-04-01  14865.701  159.163\n",
      "2008-07-01  14898.999   33.298\n",
      "2008-10-01  14608.208 -290.791\n",
      "2009-01-01  14430.901 -177.307\n",
      "2009-04-01  14381.236  -49.665\n",
      "2009-07-01  14448.882   67.646\n",
      "2009-10-01  14651.248  202.366\n",
      "2010-01-01  14764.611  113.363\n",
      "2010-04-01  14980.193  215.582\n",
      "2010-07-01  15141.605  161.412\n",
      "2010-10-01  15309.471  167.866\n",
      "2011-01-01  15351.444   41.973\n",
      "2011-04-01  15557.535  206.091\n",
      "2011-07-01  15647.681   90.146\n",
      "2011-10-01  15842.267  194.586\n",
      "2012-01-01  16068.824  226.557\n",
      "2012-04-01  16207.130  138.306\n",
      "2012-07-01  16319.540  112.410\n",
      "2012-10-01  16420.386  100.846\n",
      "2013-01-01  16629.050  208.664\n",
      "2013-04-01  16699.551   70.501\n",
      "2013-07-01  16911.068  211.517\n",
      "2013-10-01  17133.114  222.046\n",
      "2014-01-01  17144.281   11.167\n",
      "2014-04-01  17462.703  318.422\n",
      "2014-07-01  17743.227  280.524\n",
      "2014-10-01  17852.540  109.313\n",
      "2015-01-01  17991.348  138.808\n",
      "2015-04-01  18193.707  202.359\n",
      "2015-07-01  18306.960  113.253\n",
      "2015-10-01  18332.079   25.119\n",
      "2016-01-01  18425.306   93.227\n",
      "2016-04-01  18611.617  186.311\n",
      "2016-07-01  18775.459  163.842\n",
      "2016-10-01  18968.041  192.582\n",
      "2017-01-01  19148.194  180.153\n",
      "2017-04-01  19304.506  156.312\n",
      "2017-07-01  19561.896  257.390\n",
      "2017-10-01  19894.750  332.854\n",
      "2018-01-01  20155.486  260.736\n"
     ]
    }
   ],
   "source": [
    "gdp['growth'] = gdp['GDP'] - gdp['GDP'].shift(1)\n",
    "print(gdp)"
   ]
  },
  {
   "attachments": {},
   "cell_type": "markdown",
   "metadata": {},
   "source": [
    "### Calculating Basic Financial Statistics\n",
    "Two useful calculations that can be made on financial data are variance and covariance.\n",
    "\n",
    "To illustrate these concepts, let’s use the example of a DataFrame which measures stock and bond prices over time.\n",
    "\n",
    "##### Variance\n",
    "Variance measures how far a set of numbers are spread out from their average. In finance, this is used to determine the volatility of investments.\n",
    "\n",
    "```\n",
    "        dataframe['stocks'].var()\n",
    "        dataframe['bonds'].var()\n",
    "```\n",
    "\n",
    "In variance calculations, stocks tend to have a larger value than bonds.\n",
    "\n",
    "That’s because the stock prices are more spread out than bonds, indicating that stocks are a more volatile investment.\n",
    "\n",
    "##### Covariance\n",
    "\n",
    "Covariance, in a financial context, describes the relationship between the returns on two different investments over a period of time, and can be used to help balance a portfolio.\n",
    "\n",
    "```\n",
    "        dataframe.cov()\n",
    "```        \n",
    "\n",
    "Calling `cov()` on our stocks/bonds produces a matrix which defines the covariance values between each column pair in the DataFrame.\n",
    "\n",
    "In our example data, when stock prices go up, bonds go down. We can use the covariance function to see this numerically.\n",
    "\n",
    "In the code editor, there is some data that was originally obtained from the Thrift Savings Plan (TSP) API..."
   ]
  },
  {
   "cell_type": "code",
   "execution_count": 15,
   "metadata": {},
   "outputs": [
    {
     "name": "stdout",
     "output_type": "stream",
     "text": [
      "                    L Income   L 2020   L 2030   L 2040   L 2050   G Fund  \\\n",
      "Date                                                                        \n",
      "2019-01-02 0:00:00   19.6889  26.7883  29.6180  31.8164  18.2119  15.9949   \n",
      "2019-01-03 0:00:00   19.6271  26.6553  29.3183  31.4315  17.9603  15.9961   \n",
      "2019-01-04 0:00:00   19.7511  26.9151  29.8906  32.1665  18.4410  15.9973   \n",
      "2019-01-07 0:00:00   19.7808  26.9710  30.0121  32.3227  18.5436  16.0009   \n",
      "2019-01-08 0:00:00   19.8170  27.0415  30.1738  32.5311  18.6806  16.0021   \n",
      "2019-01-09 0:00:00   19.8508  27.1066  30.3210  32.7207  18.8050  16.0033   \n",
      "2019-01-10 0:00:00   19.8655  27.1350  30.3851  32.8031  18.8590  16.0045   \n",
      "2019-01-11 0:00:00   19.8683  27.1385  30.3880  32.8062  18.8607  16.0057   \n",
      "2019-01-14 0:00:00   19.8503  27.1011  30.2959  32.6858  18.7810  16.0093   \n",
      "2019-01-15 0:00:00   19.8835  27.1651  30.4403  32.8710  18.9019  16.0105   \n",
      "\n",
      "                     F Fund   C Fund   S Fund   I Fund  \n",
      "Date                                                    \n",
      "2019-01-02 0:00:00  18.1687  35.9983  43.9762  26.5338  \n",
      "2019-01-03 0:00:00  18.2683  35.1161  43.2176  26.4053  \n",
      "2019-01-04 0:00:00  18.1837  36.3220  44.7812  27.1899  \n",
      "2019-01-07 0:00:00  18.1788  36.5768  45.5472  27.2332  \n",
      "2019-01-08 0:00:00  18.1561  36.9320  46.2188  27.3880  \n",
      "2019-01-09 0:00:00  18.1562  37.0950  46.6288  27.7435  \n",
      "2019-01-10 0:00:00  18.1457  37.2626  46.8996  27.7763  \n",
      "2019-01-11 0:00:00  18.1767  37.2572  46.9537  27.7630  \n",
      "2019-01-14 0:00:00  18.1661  37.0654  46.5818  27.6554  \n",
      "2019-01-15 0:00:00  18.1667  37.4633  46.9927  27.7500  \n"
     ]
    }
   ],
   "source": [
    "tsp_data = pd.read_csv(\"tsp_data.csv\", header = 0, index_col = 0)\n",
    "\n",
    "print(tsp_data.head(10))"
   ]
  },
  {
   "attachments": {},
   "cell_type": "markdown",
   "metadata": {},
   "source": [
    "Print the result of calling the variance function on the entire tsp_data DataFrame, notice how it outputs a DataFrame with the variance for each column."
   ]
  },
  {
   "cell_type": "code",
   "execution_count": 17,
   "metadata": {},
   "outputs": [
    {
     "name": "stdout",
     "output_type": "stream",
     "text": [
      "L Income    0.062194\n",
      "L 2020      0.179628\n",
      "L 2030      0.670104\n",
      "L 2040      1.053787\n",
      "L 2050      0.434321\n",
      "G Fund      0.005991\n",
      "F Fund      0.237778\n",
      "C Fund      3.319402\n",
      "S Fund      3.631685\n",
      "I Fund      0.793820\n",
      "dtype: float64\n"
     ]
    }
   ],
   "source": [
    "print(tsp_data.var())"
   ]
  },
  {
   "attachments": {},
   "cell_type": "markdown",
   "metadata": {},
   "source": [
    "Print out the result of calling the `cov()` function on the DataFrame and see if you can spot any trends among the columns."
   ]
  },
  {
   "cell_type": "code",
   "execution_count": 18,
   "metadata": {},
   "outputs": [
    {
     "name": "stdout",
     "output_type": "stream",
     "text": [
      "          L Income    L 2020    L 2030    L 2040    L 2050    G Fund  \\\n",
      "L Income  0.062194  0.105525  0.200417  0.249990  0.159678  0.017801   \n",
      "L 2020    0.105525  0.179628  0.343624  0.429226  0.274497  0.029519   \n",
      "L 2030    0.200417  0.343624  0.670104  0.840046  0.538868  0.052727   \n",
      "L 2040    0.249990  0.429226  0.840046  1.053787  0.676359  0.064969   \n",
      "L 2050    0.159678  0.274497  0.538868  0.676359  0.434321  0.041061   \n",
      "G Fund    0.017801  0.029519  0.052727  0.064969  0.041061  0.005991   \n",
      "F Fund    0.101581  0.166371  0.286665  0.350549  0.220029  0.036658   \n",
      "C Fund    0.447764  0.766153  1.487608  1.863328  1.194421  0.119597   \n",
      "S Fund    0.406779  0.712232  1.450433  1.833292  1.184367  0.089845   \n",
      "I Fund    0.193118  0.336594  0.685383  0.865807  0.558977  0.043314   \n",
      "\n",
      "            F Fund    C Fund    S Fund    I Fund  \n",
      "L Income  0.101581  0.447764  0.406779  0.193118  \n",
      "L 2020    0.166371  0.766153  0.712232  0.336594  \n",
      "L 2030    0.286665  1.487608  1.450433  0.685383  \n",
      "L 2040    0.350549  1.863328  1.833292  0.865807  \n",
      "L 2050    0.220029  1.194421  1.184367  0.558977  \n",
      "G Fund    0.036658  0.119597  0.089845  0.043314  \n",
      "F Fund    0.237778  0.657265  0.428743  0.207755  \n",
      "C Fund    0.657265  3.319402  3.193075  1.491383  \n",
      "S Fund    0.428743  3.193075  3.631685  1.573206  \n",
      "I Fund    0.207755  1.491383  1.573206  0.793820  \n"
     ]
    }
   ],
   "source": [
    "print(tsp_data.cov())"
   ]
  },
  {
   "attachments": {},
   "cell_type": "markdown",
   "metadata": {},
   "source": [
    "## Review\n",
    "\n",
    "Let’s review importing a csv file. In the workspace we have an apple_prices.csv file which has historical stock price data for Apple.\n",
    "\n",
    "Use pandas to import this file into a variable called `apple_prices` and print out the resulting DataFrame."
   ]
  },
  {
   "cell_type": "code",
   "execution_count": 22,
   "metadata": {},
   "outputs": [
    {
     "name": "stdout",
     "output_type": "stream",
     "text": [
      "         date   close      volume    open      high       low\n",
      "0  2019/08/13  208.97  47539790.0  201.02  212.1400  200.8300\n",
      "1  2019/08/12  200.48  22481890.0  199.62  202.0516  199.1500\n",
      "2  2019/08/09  200.99  24619750.0  201.30  202.7600  199.2900\n",
      "3  2019/08/08  203.43  27009520.0  200.20  203.5300  199.3900\n",
      "4  2019/08/07  199.04  33364400.0  195.41  199.5600  193.8200\n",
      "5  2019/08/06  197.00  35824790.0  196.31  198.0670  194.0400\n",
      "6  2019/08/05  193.34  52392970.0  197.99  198.6490  192.5800\n",
      "7  2019/08/02  204.02  40862120.0  205.53  206.4300  201.6300\n",
      "8  2019/08/01  208.43  54017920.0  213.90  218.0300  206.7435\n",
      "9  2019/07/31  213.04  69281360.0  216.42  221.3700  211.3000\n"
     ]
    }
   ],
   "source": [
    "apple_prices = pd.read_csv(\"aapl_prices.csv\")\n",
    "print(apple_prices.head(10))"
   ]
  },
  {
   "attachments": {},
   "cell_type": "markdown",
   "metadata": {},
   "source": [
    "Now, let’s calculate the variance on our Apple stock data to see how volatile the stock is..."
   ]
  },
  {
   "cell_type": "code",
   "execution_count": 23,
   "metadata": {},
   "outputs": [
    {
     "name": "stdout",
     "output_type": "stream",
     "text": [
      "Variance:  103.82291877403847\n"
     ]
    }
   ],
   "source": [
    "print(\"Variance: \", apple_prices['open'].var())"
   ]
  },
  {
   "attachments": {},
   "cell_type": "markdown",
   "metadata": {},
   "source": [
    "Finally, let’s grab some finance data from the FRED API.\n",
    "\n",
    "FRED stores historical prices on gasoline for New York State identified by the code `APUS12A74714`. Use the web.DataReader function to grab historical data between January 1, 2008 and January 1, 2018 and store it in a variable called `gas_prices`.\n",
    "\n"
   ]
  },
  {
   "cell_type": "code",
   "execution_count": 26,
   "metadata": {},
   "outputs": [
    {
     "name": "stdout",
     "output_type": "stream",
     "text": [
      "            gas_price\n",
      "DATE                 \n",
      "2008-01-01      3.125\n",
      "2008-02-01      3.081\n",
      "2008-03-01      3.221\n",
      "2008-04-01      3.411\n",
      "2008-05-01      3.856\n",
      "2008-06-01      4.131\n",
      "2008-07-01      4.175\n",
      "2008-08-01      3.855\n",
      "2008-09-01      3.634\n",
      "2008-10-01      3.148\n",
      "<class 'pandas.core.frame.DataFrame'>\n"
     ]
    }
   ],
   "source": [
    "start = datetime(2008, 1, 1)\n",
    "end = datetime(2018, 1, 1)\n",
    "\n",
    "gas_prices = web.DataReader('APUS12A74714', 'fred', start, end)\n",
    "gas_prices.rename(columns={'APUS12A74714': 'gas_price'}, inplace=True)\n",
    "print(gas_prices.head(10))\n",
    "print(type(gas_prices))"
   ]
  }
 ],
 "metadata": {
  "kernelspec": {
   "display_name": "base",
   "language": "python",
   "name": "python3"
  },
  "language_info": {
   "codemirror_mode": {
    "name": "ipython",
    "version": 3
   },
   "file_extension": ".py",
   "mimetype": "text/x-python",
   "name": "python",
   "nbconvert_exporter": "python",
   "pygments_lexer": "ipython3",
   "version": "3.9.16"
  },
  "orig_nbformat": 4
 },
 "nbformat": 4,
 "nbformat_minor": 2
}
