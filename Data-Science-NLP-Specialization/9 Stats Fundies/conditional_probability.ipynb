{
 "cells": [
  {
   "attachments": {},
   "cell_type": "markdown",
   "metadata": {},
   "source": [
    "## Conditional Probability"
   ]
  },
  {
   "cell_type": "code",
   "execution_count": 1,
   "metadata": {},
   "outputs": [],
   "source": [
    "# write a function to calculate the conditional probability of an event\n",
    "# given that another event has occurred\n",
    "# P(A|B) = P(A and B) / P(B)\n",
    "\n",
    "def joint_probability(A, B):\n",
    "    return A * B\n",
    "\n",
    "def marginal_probability(B):\n",
    "    return B\n",
    "\n",
    "def conditional_probability(A, B):\n",
    "    return joint_probability(A, B) / marginal_probability(B)\n",
    "\n"
   ]
  },
  {
   "cell_type": "code",
   "execution_count": 2,
   "metadata": {},
   "outputs": [],
   "source": [
    "# write a function to calculate the conditional probability of an event using bayes theorem\n",
    "# P(A|B) = P(B|A) * P(A) / P(B)\n",
    "\n",
    "def bayes_theorem(P_A, P_B_given_A, P_B):\n",
    "    return P_B_given_A * P_A / P_B\n",
    "\n"
   ]
  },
  {
   "cell_type": "code",
   "execution_count": null,
   "metadata": {},
   "outputs": [],
   "source": []
  }
 ],
 "metadata": {
  "kernelspec": {
   "display_name": "Python 3",
   "language": "python",
   "name": "python3"
  },
  "language_info": {
   "codemirror_mode": {
    "name": "ipython",
    "version": 3
   },
   "file_extension": ".py",
   "mimetype": "text/x-python",
   "name": "python",
   "nbconvert_exporter": "python",
   "pygments_lexer": "ipython3",
   "version": "3.9.13"
  },
  "orig_nbformat": 4
 },
 "nbformat": 4,
 "nbformat_minor": 2
}
