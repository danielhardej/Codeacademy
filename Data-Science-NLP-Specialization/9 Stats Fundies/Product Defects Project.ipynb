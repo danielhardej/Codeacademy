{
 "cells": [
  {
   "attachments": {},
   "cell_type": "markdown",
   "id": "4b2cd154",
   "metadata": {},
   "source": [
    "# Product Defects"
   ]
  },
  {
   "attachments": {},
   "cell_type": "markdown",
   "id": "9fb46377",
   "metadata": {},
   "source": [
    "You are in charge of monitoring the number of products from a specific factory. You've been told that the number of defects on a given day follows the Poisson distribution with the rate parameter (lambda) equal to 7. You're new here, so you want to get a feel for what it means to follow the Poisson(7) distribution. You remember that the Poisson distribution is special because the rate parameter represents the expected value of the distribution, so in this case, the expected value of the Poisson(7) distribution is 7 defects per day.\n",
    "\n",
    "You will investigate certain attributes of the Poisson(7) distribution to get an intuition for how many defective objects you should expect to see in a given amount of time. You will also practice and apply what you know about the Poisson distribution on a practice data set that you will simulate yourself."
   ]
  },
  {
   "attachments": {},
   "cell_type": "markdown",
   "id": "24b7687a",
   "metadata": {},
   "source": [
    "## Distribution in Theory"
   ]
  },
  {
   "attachments": {},
   "cell_type": "markdown",
   "id": "6507ea83",
   "metadata": {},
   "source": [
    "1. Create a variable called `lam` that represents the rate parameter of our distribution."
   ]
  },
  {
   "cell_type": "code",
   "execution_count": 87,
   "id": "5004fed3",
   "metadata": {},
   "outputs": [],
   "source": [
    "import scipy.stats as stats\n",
    "import numpy as np\n",
    "\n",
    "## Task 1:\n",
    "lam = 7"
   ]
  },
  {
   "attachments": {},
   "cell_type": "markdown",
   "id": "74c409d6",
   "metadata": {},
   "source": [
    "2. You know that the rate parameter of a Poisson distribution is equal to the expected value. So in our factory, the rate parameter would equal the expected number of defects on a given day. You are curious about how often we might observe the exact expected number of defects.\n",
    "\n",
    "   Calculate and print the probability of observing exactly `lam` defects on a given day."
   ]
  },
  {
   "cell_type": "code",
   "execution_count": 88,
   "id": "9460b5b8",
   "metadata": {},
   "outputs": [
    {
     "name": "stdout",
     "output_type": "stream",
     "text": [
      "0.14900277967433773\n"
     ]
    }
   ],
   "source": [
    "## Task 2: probability of observing exactly lam defects on a given day.\n",
    "prob_lam = stats.poisson.pmf(lam, lam)\n",
    "print(prob_lam)\n"
   ]
  },
  {
   "attachments": {},
   "cell_type": "markdown",
   "id": "2f2e2d1f",
   "metadata": {},
   "source": [
    "3. Our boss said that having 4 or fewer defects on a given day is an exceptionally good day. You are curious about how often that might happen.\n",
    "\n",
    "   Calculate and print the probability of having one of those days."
   ]
  },
  {
   "cell_type": "code",
   "execution_count": 89,
   "id": "f4ebb772",
   "metadata": {},
   "outputs": [
    {
     "name": "stdout",
     "output_type": "stream",
     "text": [
      "0.0817654162447216\n"
     ]
    }
   ],
   "source": [
    "## Task 3: probability of fewer than 4 defects on a given day.\n",
    "prob_less_than_4 = stats.poisson.cdf(3, lam)\n",
    "print(prob_less_than_4)\n"
   ]
  },
  {
   "attachments": {},
   "cell_type": "markdown",
   "id": "53d28c8f",
   "metadata": {},
   "source": [
    "4. On the other hand, our boss said that having more than 9 defects on a given day is considered a bad day.\n",
    "\n",
    "   Calculate and print the probability of having one of these bad days."
   ]
  },
  {
   "cell_type": "code",
   "execution_count": 90,
   "id": "a2e52583",
   "metadata": {},
   "outputs": [
    {
     "name": "stdout",
     "output_type": "stream",
     "text": [
      "0.16950406276132668\n"
     ]
    }
   ],
   "source": [
    "## Task 4:\n",
    "prob_more_than_9 = 1 - stats.poisson.cdf(9, lam)\n",
    "print(prob_more_than_9)"
   ]
  },
  {
   "attachments": {},
   "cell_type": "markdown",
   "id": "51b70b96",
   "metadata": {},
   "source": [
    "## Distribution in Practice"
   ]
  },
  {
   "attachments": {},
   "cell_type": "markdown",
   "id": "64c0a33e",
   "metadata": {},
   "source": [
    "5. You've familiarized yourself a little bit about how the Poisson distribution works in theory by calculating different probabilities. But let's look at what this might look like in practice.\n",
    "\n",
    "   Create a variable called `year_defects` that has 365 random values from the Poisson distribution."
   ]
  },
  {
   "cell_type": "code",
   "execution_count": 91,
   "id": "ca2113e6",
   "metadata": {},
   "outputs": [
    {
     "data": {
      "image/png": "[encoded data removed]",
      "text/plain": [
       "<Figure size 640x480 with 1 Axes>"
      ]
     },
     "metadata": {},
     "output_type": "display_data"
    }
   ],
   "source": [
    "## Task 5:  Create a variable called `year_defects` that has 365 random values from the Poisson distribution\n",
    "year_defects = stats.poisson.rvs(lam, size=365)\n",
    "\n",
    "import matplotlib.pyplot as plt\n",
    "\n",
    "def histogram_function(rand_vars):\n",
    "  plt.hist(rand_vars, bins = np.arange(len(set(rand_vars)))-0.5, edgecolor = \"black\")\n",
    "  plt.xticks(list(range(rand_vars.max())))\n",
    "  plt.show()\n",
    "\n",
    "histogram_function(year_defects)"
   ]
  },
  {
   "attachments": {},
   "cell_type": "markdown",
   "id": "d7f3dce8",
   "metadata": {},
   "source": [
    "6. Let's take a look at our new dataset. Print the first 20 values in this dataset."
   ]
  },
  {
   "cell_type": "code",
   "execution_count": 92,
   "id": "b1d5f0c1",
   "metadata": {},
   "outputs": [
    {
     "name": "stdout",
     "output_type": "stream",
     "text": [
      "[5 2 5 6 8 4 3 7 7 5 5 8 8 7 6 3 9 6 8 7]\n"
     ]
    }
   ],
   "source": [
    "## Task 6: print first 20 values of `year_defects`\n",
    "print(year_defects[:20])\n"
   ]
  },
  {
   "attachments": {},
   "cell_type": "markdown",
   "id": "eedc358b",
   "metadata": {},
   "source": [
    "7. If we expect 7 defects on a given day, what is the total number of defects we would expect over 365 days?\n",
    "\n",
    "   Calculate and print this value to the output terminal."
   ]
  },
  {
   "cell_type": "code",
   "execution_count": 93,
   "id": "75d2f0e0",
   "metadata": {},
   "outputs": [
    {
     "name": "stdout",
     "output_type": "stream",
     "text": [
      "2555\n"
     ]
    }
   ],
   "source": [
    "## Task 7: using E(X) = np, calculate the expected number of defects per year\n",
    "total_defects_one_year = lam * 365\n",
    "print(total_defects_one_year)"
   ]
  },
  {
   "attachments": {},
   "cell_type": "markdown",
   "id": "ad96cdf6",
   "metadata": {},
   "source": [
    "8. Calculate and print the total sum of the dataset `year_defects`. How does this compare to the total number of defects we expected over 365 days?"
   ]
  },
  {
   "cell_type": "code",
   "execution_count": 94,
   "id": "da304786",
   "metadata": {},
   "outputs": [
    {
     "name": "stdout",
     "output_type": "stream",
     "text": [
      "2459\n"
     ]
    }
   ],
   "source": [
    "## Task 8:\n",
    "sum_year_defects = sum(year_defects)\n",
    "print(sum_year_defects)"
   ]
  },
  {
   "attachments": {},
   "cell_type": "markdown",
   "id": "c05c30ec",
   "metadata": {},
   "source": [
    "**It's pretty close!!**"
   ]
  },
  {
   "attachments": {},
   "cell_type": "markdown",
   "id": "aefa9e09",
   "metadata": {},
   "source": [
    "9. Calculate and print the average number of defects per day from our simulated dataset.\n",
    "\n",
    "   How does this compare to the expected average number of defects each day that we know from the given rate parameter of the Poisson distribution?"
   ]
  },
  {
   "cell_type": "code",
   "execution_count": 95,
   "id": "febc26d4",
   "metadata": {},
   "outputs": [
    {
     "name": "stdout",
     "output_type": "stream",
     "text": [
      "6.736986301369863\n"
     ]
    }
   ],
   "source": [
    "## Task 9:\n",
    "mean_year_defects = np.mean(year_defects)\n",
    "print(mean_year_defects)"
   ]
  },
  {
   "attachments": {},
   "cell_type": "markdown",
   "id": "31308a48",
   "metadata": {},
   "source": [
    "10. You're worried about what the highest amount of defects in a single day might be because that would be a hectic day.\n",
    "\n",
    "    Print the maximum value of `year_defects`."
   ]
  },
  {
   "cell_type": "code",
   "execution_count": 96,
   "id": "18feb435",
   "metadata": {},
   "outputs": [
    {
     "name": "stdout",
     "output_type": "stream",
     "text": [
      "15\n"
     ]
    }
   ],
   "source": [
    "## Task 10:\n",
    "max_year_defects = max(year_defects)\n",
    "print(max_year_defects)"
   ]
  },
  {
   "attachments": {},
   "cell_type": "markdown",
   "id": "64b6a84a",
   "metadata": {},
   "source": [
    "11. Wow, it would probably be super busy if there were that many defects on a single day. Hopefully, it is a rare event!\n",
    "\n",
    "    Calculate and print the probability of observing that maximum value or more from the Poisson(7) distribution."
   ]
  },
  {
   "cell_type": "code",
   "execution_count": 97,
   "id": "a63b1329",
   "metadata": {},
   "outputs": [
    {
     "name": "stdout",
     "output_type": "stream",
     "text": [
      "0.0024065803473980463\n"
     ]
    }
   ],
   "source": [
    "## Task 11: probability of observing that maximum value or more from the Poisson(7) distribution\n",
    "probability_max_defects = 1 - stats.poisson.cdf(max_year_defects, lam)\n",
    "print(probability_max_defects)"
   ]
  },
  {
   "attachments": {},
   "cell_type": "markdown",
   "id": "b45f0bab",
   "metadata": {},
   "source": [
    "## Extra"
   ]
  },
  {
   "attachments": {},
   "cell_type": "markdown",
   "id": "5060f0ec",
   "metadata": {},
   "source": [
    "12. Congratulations! At this point, you have now explored the Poisson distribution and even worked with some simulated data. We have a couple of extra tasks if you would like an extra challenge. Feel free to try them out or move onto the next topic!\n",
    "\n",
    "    Let's say we want to know how many defects in a given day would put us in the 90th percentile of the Poisson(7) distribution. One way we could calculate this is by using the following method:\n",
    "    \n",
    "    ```py\n",
    "    stats.poisson.ppf(percentile, lambda)\n",
    "    ```\n",
    "    \n",
    "    `percentile` is equal to the desired percentile (a decimal between 0 and 1), and `lambda` is the lambda parameter of the Poisson distribution. This function is essentially the inverse of the CDF.\n",
    "    \n",
    "    Use this method to calculate and print the number of defects that would put us in the 90th percentile for a given day. In other words, on 90% of days, we will observe fewer defects than this number."
   ]
  },
  {
   "cell_type": "code",
   "execution_count": 98,
   "id": "e6156c3e",
   "metadata": {},
   "outputs": [
    {
     "name": "stdout",
     "output_type": "stream",
     "text": [
      "10.0\n"
     ]
    }
   ],
   "source": [
    "## Task 12:\n",
    "n_defects_90_percentile = stats.poisson.ppf(0.9, lam)\n",
    "print(n_defects_90_percentile)\n"
   ]
  },
  {
   "attachments": {},
   "cell_type": "markdown",
   "id": "0d86d9d0",
   "metadata": {},
   "source": [
    "13. Now let's see what proportion of our simulated dataset `year_defects` is greater than or equal to the number we calculated in the previous step.\n",
    "\n",
    "    By definition of a percentile, we would expect 1 - .90, or about 10% of days to be in this range.\n",
    "    \n",
    "    To calculate this:\n",
    "    \n",
    "     1) Count the number of values in the dataset that are greater than or equal to the 90th percentile value.\n",
    "     \n",
    "     2) Divide this number by the length of the dataset."
   ]
  },
  {
   "cell_type": "code",
   "execution_count": 99,
   "id": "c80c6e6a",
   "metadata": {},
   "outputs": [
    {
     "name": "stdout",
     "output_type": "stream",
     "text": [
      "[12 11 12 14 11 12 11 11 13 11 11 12 14 15 12 12 11 12 11 11 11 11 12 13\n",
      " 13 11 11 12 11 15 11 13 12 11 12]\n",
      "35\n",
      "0.0958904109589041\n"
     ]
    }
   ],
   "source": [
    "## Task 13: find n values that are larger than the 90th percentile of the Poisson(7) distribution\n",
    "values_more_than_90_percentile = year_defects[year_defects > n_defects_90_percentile]\n",
    "print(values_more_than_90_percentile)\n",
    "\n",
    "n_values_more_than_90_percentile = len(values_more_than_90_percentile)\n",
    "print(n_values_more_than_90_percentile)\n",
    "\n",
    "## proportion of values that are larger than the 90th percentile distribution\n",
    "prob_more_than_90_percentile = n_values_more_than_90_percentile / len(year_defects)\n",
    "print(prob_more_than_90_percentile)"
   ]
  }
 ],
 "metadata": {
  "kernelspec": {
   "display_name": "Python 3 (ipykernel)",
   "language": "python",
   "name": "python3"
  },
  "language_info": {
   "codemirror_mode": {
    "name": "ipython",
    "version": 3
   },
   "file_extension": ".py",
   "mimetype": "text/x-python",
   "name": "python",
   "nbconvert_exporter": "python",
   "pygments_lexer": "ipython3",
   "version": "3.9.13"
  }
 },
 "nbformat": 4,
 "nbformat_minor": 5
}
