{
 "cells": [
  {
   "cell_type": "markdown",
   "metadata": {},
   "source": [
    "# Introduction to Probability\n",
    "\n",
    "### Set Theory\n",
    "\n",
    "In probability theory, a set is a collection of outcomes. For example, the set of all possible outcomes when flipping a coin is {heads, tails}. A subset is a set that is contained within another set. For example, {heads} is a subset of {heads, tails}.\n",
    "\n",
    "The empty set, denoted by $∅$, is the set containing no elements.\n",
    "\n",
    "The universal set is the set containing all possible outcomes. For example, when flipping a coin, the universal set is {heads, tails}. The complement of a set $A$, denoted by $A'$, is the set of all outcomes in the universal set that are not in $A$. For example, if $A$ = {$heads$}, then $A'$ = {$tails$}.\n",
    "\n",
    "### The Law of Large Numbers\n",
    "\n",
    " - The Law of Large Numbers is a theorem that describes the result of performing the same experiment a large number of times.\n",
    " - According to the law, _the average of the results obtained from a large number of trials should be close to the expected value, and will tend to become closer as more trials are performed._\n",
    "\n",
    "Indeed, we can’t repeat a random experiment an infinite amount of times; however, we can still conduct an experiment like flipping a coin a large number of times. As we flip the coins more and more, the observed proportion of times each event occurs will converge to its true probability. This is an example of the law of large numbers."
   ]
  },
  {
   "cell_type": "markdown",
   "metadata": {},
   "source": [
    "### Union\n",
    "\n",
    "The union of two events $A$ and $B$ is the set of outcomes that are included in event $A$ or event $B$ or both. The union of events $A$ and $B$ is denoted as $A \\cup B$.\n",
    "\n",
    "### Intersection\n",
    "\n",
    "The intersection of two events $A$ and $B$ is the set of outcomes that are included in both $A$ and $B$. The intersection of events $A$ and $B$ is denoted as $A \\cap B$.\n",
    "\n",
    "### Complement\n",
    "\n",
    "The complement of an event $A$ is the set of all outcomes in the sample space that are not included in the outcomes of event $A$. The complement of event $A$ is denoted as $A^c$.\n",
    "\n",
    "### Mutually Exclusive\n",
    "\n",
    "When two events $A$ and $B$ have no outcomes in common, they are said to be _mutually exclusive_. This means that $A \\cap B = \\emptyset$."
   ]
  },
  {
   "cell_type": "code",
   "execution_count": null,
   "metadata": {},
   "outputs": [],
   "source": []
  }
 ],
 "metadata": {
  "language_info": {
   "name": "python"
  },
  "orig_nbformat": 4
 },
 "nbformat": 4,
 "nbformat_minor": 2
}
