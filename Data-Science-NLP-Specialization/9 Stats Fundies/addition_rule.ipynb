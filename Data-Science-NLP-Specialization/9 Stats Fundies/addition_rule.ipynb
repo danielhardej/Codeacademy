{
 "cells": [
  {
   "attachments": {},
   "cell_type": "markdown",
   "metadata": {},
   "source": [
    "## Addition Rule\n",
    "\n",
    "Now, it’s time to apply these concepts to calculate probabilities.\n",
    "\n",
    "Let’s go back to one of our first examples: event A is rolling an odd number on a six-sided die and event B is rolling a number greater than two. What if we want to find the probability of one or both events occurring? This is the probability of the union of A and B:\n",
    "\n",
    "$$\n",
    "P(A \\ or \\ B)\n",
    "$$\n",
    "\n",
    "We can visualize this calculation as follows:\n",
    "\n",
    "<img src=\"https://static-assets.codecademy.com/skillpaths/master-stats-ii/intro-probability/addition-rule-independent-venndiagram.gif\" alt=\"Probability A or B\" width=\"20%\">"
   ]
  },
  {
   "cell_type": "code",
   "execution_count": 1,
   "metadata": {},
   "outputs": [],
   "source": [
    "def prob_a_or_b(a, b, all_possible_outcomes):\n",
    "  # probability of event a\n",
    "  prob_a = len(a)/len(all_possible_outcomes)\n",
    "\t\n",
    "\t# probability of event b\n",
    "  prob_b = len(b)/len(all_possible_outcomes)\n",
    "\t\n",
    "\t# intersection of events a and b\n",
    "  inter = a.intersection(b)\n",
    "\t\n",
    "\t# probability of intersection of events a and b\n",
    "  prob_inter = len(inter)/len(all_possible_outcomes)\n",
    "\n",
    "\t# add return statement here\n",
    "  return prob_a + prob_b - prob_inter"
   ]
  },
  {
   "cell_type": "code",
   "execution_count": 2,
   "metadata": {},
   "outputs": [
    {
     "name": "stdout",
     "output_type": "stream",
     "text": [
      "1.0\n"
     ]
    }
   ],
   "source": [
    "# rolling a die once and getting an even number or an odd number\n",
    "evens = {2, 4, 6}\n",
    "odds = {1, 3, 5}\n",
    "all_possible_rolls = {1, 2, 3, 4, 5, 6}\n",
    "\n",
    "# call function here first\n",
    "print(prob_a_or_b(evens, odds, all_possible_rolls))"
   ]
  },
  {
   "cell_type": "code",
   "execution_count": 3,
   "metadata": {},
   "outputs": [
    {
     "name": "stdout",
     "output_type": "stream",
     "text": [
      "0.8333333333333333\n"
     ]
    }
   ],
   "source": [
    "# rolling a die once and getting an odd number or a number greater than 2\n",
    "odds = {1, 3, 5}\n",
    "greater_than_two = {3, 4, 5, 6}\n",
    "all_possible_rolls = {1, 2, 3, 4, 5, 6}\n",
    "\n",
    "# call function here second\n",
    "print(prob_a_or_b(odds, greater_than_two, all_possible_rolls))"
   ]
  },
  {
   "cell_type": "code",
   "execution_count": 4,
   "metadata": {},
   "outputs": [
    {
     "name": "stdout",
     "output_type": "stream",
     "text": [
      "0.4230769230769231\n"
     ]
    }
   ],
   "source": [
    "# selecting a diamond card or a face card from a standard deck of cards\n",
    "diamond_cards = {'ace_diamond', '2_diamond', '3_diamond', '4_diamond', '5_diamond', '6_diamond', '7_diamond', '8_diamond', '9_diamond', '10_diamond', 'jack_diamond', 'queen_diamond', 'king_diamond'}\n",
    "\n",
    "face_cards = {'jack_diamond', 'jack_spade', 'jack_heart', 'jack_club', 'queen_diamond', 'queen_spade', 'queen_heart', 'queen_club', 'king_diamond', 'king_spade', 'king_heart', 'king_club'}\n",
    "\n",
    "# all cards in a deck representing the entire sample space\n",
    "all_possible_cards = {'ace_diamond', '2_diamond', '3_diamond', '4_diamond', '5_diamond', '6_diamond', '7_diamond', '8_diamond', '9_diamond', '10_diamond', 'jack_diamond', 'queen_diamond', 'king_diamond', 'ace_heart', '2_heart', '3_heart', '4_heart', '5_heart', '6_heart', '7_heart', '8_heart', '9_heart', '10_heart', 'jack_heart', 'queen_heart', 'king_heart', 'ace_spade', '2_spade', '3_spade', '4_spade', '5_spade', '6_spade', '7_spade', '8_spade', '9_spade', '10_spade', 'jack_spade', 'queen_spade', 'king_spade', 'ace_club', '2_club', '3_club', '4_club', '5_club', '6_club', '7_club', '8_club', '9_club', '10_club', 'jack_club', 'queen_club', 'king_club'}\n",
    "\n",
    "# call function here third\n",
    "print(prob_a_or_b(diamond_cards, face_cards, all_possible_cards))"
   ]
  }
 ],
 "metadata": {
  "kernelspec": {
   "display_name": "Python 3",
   "language": "python",
   "name": "python3"
  },
  "language_info": {
   "codemirror_mode": {
    "name": "ipython",
    "version": 3
   },
   "file_extension": ".py",
   "mimetype": "text/x-python",
   "name": "python",
   "nbconvert_exporter": "python",
   "pygments_lexer": "ipython3",
   "version": "3.9.13"
  },
  "orig_nbformat": 4
 },
 "nbformat": 4,
 "nbformat_minor": 2
}
