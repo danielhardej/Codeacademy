{
 "cells": [
  {
   "cell_type": "markdown",
   "id": "eb77cf15",
   "metadata": {},
   "source": [
    "# Overview\n",
    "This project is slightly different than others you have encountered thus far on Codecademy. Instead of a step-by-step tutorial, this project contains a series of open-ended requirements which describe the project you’ll be building.\n",
    "\n",
    "There are many possible ways to correctly fulfill all of these requirements, and you should expect to use the internet, Codecademy, and other resources when you encounter a problem that you cannot easily solve.\n"
   ]
  },
  {
   "cell_type": "markdown",
   "id": "90764116",
   "metadata": {},
   "source": [
    "# Project Goals\n",
    "You and your pen pal, Vishal, have been exchanging letters for some time now. Recently, he has become interested in cryptography and the two of you have started sending encoded messages within your letters.\n",
    "\n",
    "In this project, you will use your Python skills to decipher the messages you receive and to encode your own responses! Put your programming skills to the test with these fun cryptography puzzles.\n"
   ]
  },
  {
   "cell_type": "code",
   "execution_count": 1,
   "id": "ab88314f",
   "metadata": {},
   "outputs": [],
   "source": [
    "import string\n",
    "alphabet = string.ascii_lowercase"
   ]
  },
  {
   "cell_type": "code",
   "execution_count": 3,
   "id": "39712957",
   "metadata": {},
   "outputs": [],
   "source": [
    "def decrypt_cipher(encrypted_text, offset):\n",
    "  # creat a list of encrypted words.\n",
    "  encrypted_text_list = encrypted_text.split()\n",
    "\n",
    "  # creat a list to hold decrypted words.\n",
    "  output = []\n",
    "\n",
    "  for word in encrypted_text_list:\n",
    "    decrypted_word = []\n",
    "    for char in word:\n",
    "      if char == ' ':\n",
    "        decrypted_word.append(' ')\n",
    "      elif char == '!':\n",
    "        decrypted_word.append(\"!\")\n",
    "      elif char == \"?\":\n",
    "        decrypted_word.append(\"?\")\n",
    "      elif char == \".\":\n",
    "        decrypted_word.append(\".\")\n",
    "      else:\n",
    "        pos = alphabet.index(char) + offset\n",
    "        if pos >= 25:\n",
    "          pos -= 26\n",
    "        decrypted_word.append(alphabet[pos])\n",
    "    output.append(''.join(decrypted_word))\n",
    "    \n",
    "    \n",
    "  # join each word in the sentence list back together by a space.\n",
    "  output = ' '.join(output)\n",
    "  print('Decryption Successful\\n')\n",
    "  print('Your decrypted sentence is:\\n', output)\n",
    "  return output"
   ]
  },
  {
   "cell_type": "code",
   "execution_count": 4,
   "id": "663c4656",
   "metadata": {},
   "outputs": [
    {
     "name": "stdout",
     "output_type": "stream",
     "text": [
      "Decryption Successful\n",
      "\n",
      "Your decrypted sentence is:\n",
      " hey there! this is an example of a caesar cipher. were you able to decode it? i hope so! send me a message back with the same offset!\n"
     ]
    },
    {
     "data": {
      "text/plain": [
       "'hey there! this is an example of a caesar cipher. were you able to decode it? i hope so! send me a message back with the same offset!'"
      ]
     },
     "execution_count": 4,
     "metadata": {},
     "output_type": "execute_result"
    }
   ],
   "source": [
    "letter = \"xuo jxuhu! jxyi yi qd unqcfbu ev q squiqh syfxuh. muhu oek qrbu je tusetu yj? y xefu ie! iudt cu q cuiiqwu rqsa myjx jxu iqcu evviuj!\"\n",
    "\n",
    "decrypt_cipher(letter, 10)"
   ]
  },
  {
   "cell_type": "code",
   "execution_count": 5,
   "id": "6af5c050",
   "metadata": {},
   "outputs": [],
   "source": [
    "def encrypt_cipher(text, offset):\n",
    "  # creat a list of words from input text.\n",
    "  text_list = text.split()\n",
    "\n",
    "  # creat a list to hold decrypted words.\n",
    "  output = []\n",
    "\n",
    "  for word in text_list:\n",
    "    encrypted_word = []\n",
    "    for char in word:\n",
    "      if char == ' ':\n",
    "        encrypted_word.append(' ')\n",
    "      elif char == '!':\n",
    "        encrypted_word.append(\"!\")\n",
    "      elif char == \"?\":\n",
    "        encrypted_word.append(\"?\")\n",
    "      elif char == \".\":\n",
    "        encrypted_word.append(\".\")\n",
    "      else:\n",
    "        pos = alphabet.index(char) - offset\n",
    "        if pos >= 25:\n",
    "          pos -= 26\n",
    "        encrypted_word.append(alphabet[pos])\n",
    "    output.append(''.join(encrypted_word))\n",
    "\n",
    "  # join each word in the sentence list back together by a space.\n",
    "  output = ' '.join(output).lstrip(' ')\n",
    "  print('Encryption Successful\\n')\n",
    "  print('Your encrypted sentence is:\\n', output)\n",
    "  return output"
   ]
  },
  {
   "cell_type": "code",
   "execution_count": 6,
   "id": "7452f719",
   "metadata": {},
   "outputs": [
    {
     "name": "stdout",
     "output_type": "stream",
     "text": [
      "Encryption Successful\n",
      "\n",
      "Your encrypted sentence is:\n",
      " dahhk pdana pdeo eo w paop oajpajya pk ajynulp\n"
     ]
    }
   ],
   "source": [
    "letter_2 = \"hello there this is a test sentence to encrypt\"\n",
    "letter_2_encrypt = encrypt_cipher(letter_2, 4)"
   ]
  },
  {
   "cell_type": "code",
   "execution_count": 7,
   "id": "10a1f970",
   "metadata": {},
   "outputs": [
    {
     "name": "stdout",
     "output_type": "stream",
     "text": [
      "Decryption Successful\n",
      "\n",
      "Your decrypted sentence is:\n",
      " hello there this is a test sentence to encrypt\n"
     ]
    },
    {
     "data": {
      "text/plain": [
       "'hello there this is a test sentence to encrypt'"
      ]
     },
     "execution_count": 7,
     "metadata": {},
     "output_type": "execute_result"
    }
   ],
   "source": [
    "decrypt_cipher(letter_2_encrypt, 4)"
   ]
  },
  {
   "cell_type": "code",
   "execution_count": 8,
   "id": "11688796",
   "metadata": {},
   "outputs": [
    {
     "name": "stdout",
     "output_type": "stream",
     "text": [
      "Decryption Successful\n",
      "\n",
      "Your decrypted sentence is:\n",
      " the offset for the second message is fourteen.\n"
     ]
    },
    {
     "data": {
      "text/plain": [
       "'the offset for the second message is fourteen.'"
      ]
     },
     "execution_count": 8,
     "metadata": {},
     "output_type": "execute_result"
    }
   ],
   "source": [
    "first_message = \"jxu evviuj veh jxu iusedt cuiiqwu yi vekhjuud.\"\n",
    "decrypt_cipher(first_message, 10)"
   ]
  },
  {
   "cell_type": "code",
   "execution_count": 9,
   "id": "3d9a1118",
   "metadata": {},
   "outputs": [
    {
     "name": "stdout",
     "output_type": "stream",
     "text": [
      "Decryption Successful\n",
      "\n",
      "Your decrypted sentence is:\n",
      " performing multiple caesar ciphers to code your messages is even more secure!\n"
     ]
    },
    {
     "data": {
      "text/plain": [
       "'performing multiple caesar ciphers to code your messages is even more secure!'"
      ]
     },
     "execution_count": 9,
     "metadata": {},
     "output_type": "execute_result"
    }
   ],
   "source": [
    "second_message = \"bqdradyuzs ygxfubxq omqemd oubtqde fa oapq kagd yqeemsqe ue qhqz yadq eqogdq!\"\n",
    "decrypt_cipher(second_message, 14)"
   ]
  },
  {
   "cell_type": "code",
   "execution_count": 10,
   "id": "7632efb1",
   "metadata": {},
   "outputs": [],
   "source": [
    "# A Caesar cipher decryption that can be used on any shift:\n",
    "\n",
    "def decrypt_cipher_general(encrypted_text):\n",
    "  alphabet = string.ascii_lowercase\n",
    "  # creat a list of encrypted words.\n",
    "  encrypted_text_list = encrypted_text.split()\n",
    "\n",
    "  for offset in range(1, 26):\n",
    "    # create a list to hold decrypted words.\n",
    "    output = []\n",
    "    for word in encrypted_text_list:\n",
    "      decrypted_word = []\n",
    "      for char in word:\n",
    "        if char == ' ':\n",
    "          decrypted_word.append(' ')\n",
    "        elif char == '!':\n",
    "          decrypted_word.append(\"!\")\n",
    "        elif char == \"?\":\n",
    "          decrypted_word.append(\"?\")\n",
    "        elif char == \".\":\n",
    "          decrypted_word.append(\".\")\n",
    "        elif char == \"'\":\n",
    "          decrypted_word.append(\"'\")\n",
    "        else:\n",
    "          pos = alphabet.index(char) + offset\n",
    "          if pos >= 25:\n",
    "            pos -= 26\n",
    "          decrypted_word.append(alphabet[pos])\n",
    "      output.append(''.join(decrypted_word))\n",
    "\n",
    "    # join each word in the sentence list back together by a space.\n",
    "    output = ' '.join(output)\n",
    "    print(offset)\n",
    "    print('Your decrypted sentence is:\\n', output)"
   ]
  },
  {
   "cell_type": "code",
   "execution_count": 11,
   "id": "db520560",
   "metadata": {},
   "outputs": [
    {
     "name": "stdout",
     "output_type": "stream",
     "text": [
      "1\n",
      "Your decrypted sentence is:\n",
      " wigjonylm bupy lyhxylyx uff iz nbymy ifx wcjbylm ivmifyny. qy'ff bupy ni lyuffs mnyj oj iol augy cz qy quhn ni eyyj iol gymmuaym muzy.\n",
      "2\n",
      "Your decrypted sentence is:\n",
      " xjhkpozmn cvqz mziyzmzy vgg ja ocznz jgy xdkczmn jwnjgzoz. rz'gg cvqz oj mzvggt nozk pk jpm bvhz da rz rvio oj fzzk jpm hznnvbzn nvaz.\n",
      "3\n",
      "Your decrypted sentence is:\n",
      " ykilqpano dwra najzanaz whh kb pdaoa khz yeldano kxokhapa. sa'hh dwra pk nawhhu opal ql kqn cwia eb sa swjp pk gaal kqn iaoowcao owba.\n",
      "4\n",
      "Your decrypted sentence is:\n",
      " zljmrqbop exsb obkaboba xii lc qebpb lia zfmebop lyplibqb. tb'ii exsb ql obxiiv pqbm rm lro dxjb fc tb txkq ql hbbm lro jbppxdbp pxcb.\n",
      "5\n",
      "Your decrypted sentence is:\n",
      " amknsrcpq fytc pclbcpcb yjj md rfcqc mjb agnfcpq mzqmjcrc. uc'jj fytc rm pcyjjw qrcn sn msp eykc gd uc uylr rm iccn msp kcqqyecq qydc.\n",
      "6\n",
      "Your decrypted sentence is:\n",
      " bnlotsdqr gzud qdmcdqdc zkk ne sgdrd nkc bhogdqr narnkdsd. vd'kk gzud sn qdzkkx rsdo to ntq fzld he vd vzms sn jddo ntq ldrrzfdr rzed.\n",
      "7\n",
      "Your decrypted sentence is:\n",
      " computers have rendered all of these old ciphers obsolete. we'll have to really step up our game if we want to keep our messages safe.\n",
      "8\n",
      "Your decrypted sentence is:\n",
      " dpnqvufst ibwf sfoefsfe bmm pg uiftf pme djqifst pctpmfuf. xf'mm ibwf up sfbmmz tufq vq pvs hbnf jg xf xbou up lffq pvs nfttbhft tbgf.\n",
      "9\n",
      "Your decrypted sentence is:\n",
      " eqorwvgtu jcxg tgpfgtgf cnn qh vjgug qnf ekrjgtu qduqngvg. yg'nn jcxg vq tgcnna uvgr wr qwt icog kh yg ycpv vq mggr qwt oguucigu uchg.\n",
      "10\n",
      "Your decrypted sentence is:\n",
      " frpsxwhuv kdyh uhqghuhg doo ri wkhvh rog flskhuv revrohwh. zh'oo kdyh wr uhdoob vwhs xs rxu jdph li zh zdqw wr nhhs rxu phvvdjhv vdih.\n",
      "11\n",
      "Your decrypted sentence is:\n",
      " gsqtyxivw lezi virhivih epp sj xliwi sph gmtlivw sfwspixi. ai'pp lezi xs vieppc wxit yt syv keqi mj ai aerx xs oiit syv qiwwekiw weji.\n",
      "12\n",
      "Your decrypted sentence is:\n",
      " htruzyjwx mfaj wjsijwji fqq tk ymjxj tqi hnumjwx tgxtqjyj. bj'qq mfaj yt wjfqqd xyju zu tzw lfrj nk bj bfsy yt pjju tzw rjxxfljx xfkj.\n",
      "13\n",
      "Your decrypted sentence is:\n",
      " iusvazkxy ngbk xktjkxkj grr ul znkyk urj iovnkxy uhyurkzk. ck'rr ngbk zu xkgrre yzkv av uax mgsk ol ck cgtz zu qkkv uax skyygmky yglk.\n",
      "14\n",
      "Your decrypted sentence is:\n",
      " jvtwbalyz ohcl yluklylk hss vm aolzl vsk jpwolyz vizvslal. dl'ss ohcl av ylhssf zalw bw vby nhtl pm dl dhua av rllw vby tlzzhnlz zhml.\n",
      "15\n",
      "Your decrypted sentence is:\n",
      " kwuxcbmza pidm zmvlmzml itt wn bpmam wtl kqxpmza wjawtmbm. em'tt pidm bw zmittg abmx cx wcz oium qn em eivb bw smmx wcz umaaioma ainm.\n",
      "16\n",
      "Your decrypted sentence is:\n",
      " lxvydcnab qjen anwmnanm juu xo cqnbn xum lryqnab xkbxuncn. fn'uu qjen cx anjuuh bcny dy xda pjvn ro fn fjwc cx tnny xda vnbbjpnb bjon.\n",
      "17\n",
      "Your decrypted sentence is:\n",
      " mywzedobc rkfo boxnobon kvv yp droco yvn mszrobc ylcyvodo. go'vv rkfo dy bokvvi cdoz ez yeb qkwo sp go gkxd dy uooz yeb wocckqoc ckpo.\n",
      "18\n",
      "Your decrypted sentence is:\n",
      " nzxafepcd slgp cpyopcpo lww zq espdp zwo ntaspcd zmdzwpep. hp'ww slgp ez cplwwj depa fa zfc rlxp tq hp hlye ez vppa zfc xpddlrpd dlqp.\n",
      "19\n",
      "Your decrypted sentence is:\n",
      " oaybgfqde tmhq dqzpqdqp mxx ar ftqeq axp oubtqde aneaxqfq. iq'xx tmhq fa dqmxxk efqb gb agd smyq ur iq imzf fa wqqb agd yqeemsqe emrq.\n",
      "20\n",
      "Your decrypted sentence is:\n",
      " pbzchgref unir eraqrerq nyy bs gurfr byq pvcuref bofbyrgr. jr'yy unir gb ernyyl fgrc hc bhe tnzr vs jr jnag gb xrrc bhe zrffntrf fnsr.\n",
      "21\n",
      "Your decrypted sentence is:\n",
      " qcadihsfg vojs fsbrsfsr ozz ct hvsgs czr qwdvsfg cpgczshs. ks'zz vojs hc fsozzm ghsd id cif uoas wt ks kobh hc yssd cif asggousg gots.\n",
      "22\n",
      "Your decrypted sentence is:\n",
      " rdbejitgh wpkt gtcstgts paa du iwtht das rxewtgh dqhdatit. lt'aa wpkt id gtpaan hite je djg vpbt xu lt lpci id ztte djg bthhpvth hput.\n",
      "23\n",
      "Your decrypted sentence is:\n",
      " secfkjuhi xqlu hudtuhut qbb ev jxuiu ebt syfxuhi eriebuju. mu'bb xqlu je huqbbo ijuf kf ekh wqcu yv mu mqdj je auuf ekh cuiiqwui iqvu.\n",
      "24\n",
      "Your decrypted sentence is:\n",
      " tfdglkvij yrmv iveuvivu rcc fw kyvjv fcu tzgyvij fsjfcvkv. nv'cc yrmv kf ivrccp jkvg lg fli xrdv zw nv nrek kf bvvg fli dvjjrxvj jrwv.\n",
      "25\n",
      "Your decrypted sentence is:\n",
      " ugehmlwjk zsnw jwfvwjwv sdd gx lzwkw gdv uahzwjk gtkgdwlw. ow'dd zsnw lg jwsddq klwh mh gmj ysew ax ow osfl lg cwwh gmj ewkksywk ksxw.\n"
     ]
    }
   ],
   "source": [
    "mystery_message = \"vhfinmxkl atox kxgwxkxw tee hy maxlx hew vbiaxkl hulhexmx. px'ee atox mh kxteer lmxi ni hnk ztfx by px ptgm mh dxxi hnk fxlltzxl ltyx.\"\n",
    "decrypt_cipher_general(mystery_message)"
   ]
  },
  {
   "cell_type": "code",
   "execution_count": 14,
   "id": "9332f479",
   "metadata": {},
   "outputs": [],
   "source": [
    "# modifying the general Caesar cipher decryption so that you don't have to print all of the possible outputs - you can stop when you find the correct one:\n",
    "\n",
    "def decrypt_cipher_general(encrypted_text):\n",
    "  alphabet = string.ascii_lowercase\n",
    "  # creat a list of encrypted words.\n",
    "  encrypted_text_list = encrypted_text.split()\n",
    "\n",
    "  for offset in range(1, 26):\n",
    "    # create a list to hold decrypted words.\n",
    "    output = []\n",
    "    for word in encrypted_text_list:\n",
    "      decrypted_word = []\n",
    "      for char in word:\n",
    "        if char == ' ':\n",
    "          decrypted_word.append(' ')\n",
    "        elif char == '!':\n",
    "          decrypted_word.append(\"!\")\n",
    "        elif char == \"?\":\n",
    "          decrypted_word.append(\"?\")\n",
    "        elif char == \".\":\n",
    "          decrypted_word.append(\".\")\n",
    "        elif char == \"'\":\n",
    "          decrypted_word.append(\"'\")\n",
    "        else:\n",
    "          pos = alphabet.index(char) + offset\n",
    "          if pos >= 25:\n",
    "            pos -= 26\n",
    "          decrypted_word.append(alphabet[pos])\n",
    "      output.append(''.join(decrypted_word))\n",
    "\n",
    "    # join each word in the sentence list back together by a space.\n",
    "    output = ' '.join(output)\n",
    "    print(offset)\n",
    "    print('Your decrypted sentence is:\\n', output)\n",
    "    \n",
    "    makes_sense = input(\"Does the decrypted sentance make sense? (y/n)\")\n",
    "    if makes_sense == \"y\":\n",
    "        print(\"Woo! We cracked the cipher!\")\n",
    "        break\n",
    "    else:\n",
    "        continue\n",
    "    "
   ]
  },
  {
   "cell_type": "code",
   "execution_count": 15,
   "id": "d3735de7",
   "metadata": {},
   "outputs": [
    {
     "name": "stdout",
     "output_type": "stream",
     "text": [
      "1\n",
      "Your decrypted sentence is:\n",
      " wigjonylm bupy lyhxylyx uff iz nbymy ifx wcjbylm ivmifyny. qy'ff bupy ni lyuffs mnyj oj iol augy cz qy quhn ni eyyj iol gymmuaym muzy.\n",
      "Does the decrypted sentance make sense? (y/n)n\n",
      "2\n",
      "Your decrypted sentence is:\n",
      " xjhkpozmn cvqz mziyzmzy vgg ja ocznz jgy xdkczmn jwnjgzoz. rz'gg cvqz oj mzvggt nozk pk jpm bvhz da rz rvio oj fzzk jpm hznnvbzn nvaz.\n",
      "Does the decrypted sentance make sense? (y/n)n\n",
      "3\n",
      "Your decrypted sentence is:\n",
      " ykilqpano dwra najzanaz whh kb pdaoa khz yeldano kxokhapa. sa'hh dwra pk nawhhu opal ql kqn cwia eb sa swjp pk gaal kqn iaoowcao owba.\n",
      "Does the decrypted sentance make sense? (y/n)n\n",
      "4\n",
      "Your decrypted sentence is:\n",
      " zljmrqbop exsb obkaboba xii lc qebpb lia zfmebop lyplibqb. tb'ii exsb ql obxiiv pqbm rm lro dxjb fc tb txkq ql hbbm lro jbppxdbp pxcb.\n",
      "Does the decrypted sentance make sense? (y/n)n\n",
      "5\n",
      "Your decrypted sentence is:\n",
      " amknsrcpq fytc pclbcpcb yjj md rfcqc mjb agnfcpq mzqmjcrc. uc'jj fytc rm pcyjjw qrcn sn msp eykc gd uc uylr rm iccn msp kcqqyecq qydc.\n",
      "Does the decrypted sentance make sense? (y/n)n\n",
      "6\n",
      "Your decrypted sentence is:\n",
      " bnlotsdqr gzud qdmcdqdc zkk ne sgdrd nkc bhogdqr narnkdsd. vd'kk gzud sn qdzkkx rsdo to ntq fzld he vd vzms sn jddo ntq ldrrzfdr rzed.\n",
      "Does the decrypted sentance make sense? (y/n)n\n",
      "7\n",
      "Your decrypted sentence is:\n",
      " computers have rendered all of these old ciphers obsolete. we'll have to really step up our game if we want to keep our messages safe.\n",
      "Does the decrypted sentance make sense? (y/n)y\n",
      "Woo! We cracked the cipher!\n"
     ]
    }
   ],
   "source": [
    "mystery_message = \"vhfinmxkl atox kxgwxkxw tee hy maxlx hew vbiaxkl hulhexmx. px'ee atox mh kxteer lmxi ni hnk ztfx by px ptgm mh dxxi hnk fxlltzxl ltyx.\"\n",
    "decrypt_cipher_general(mystery_message)"
   ]
  },
  {
   "cell_type": "markdown",
   "id": "cf84f910",
   "metadata": {},
   "source": [
    "# The Vigenère Cipher"
   ]
  },
  {
   "cell_type": "code",
   "execution_count": 33,
   "id": "835b2bdd",
   "metadata": {},
   "outputs": [],
   "source": [
    "# This function decrypts the encrypted text and returns the original text\n",
    "punctuation = \".,?'! \"\n",
    "\n",
    "def decode_vigenere_cipher(coded_message, keyword):\n",
    "    letter_pointer = 0\n",
    "    keyword_final = ''\n",
    "    for i in range(0,len(coded_message)):\n",
    "        if coded_message[i] in punctuation:\n",
    "            keyword_final += coded_message[i]\n",
    "        else:\n",
    "            keyword_final += keyword[letter_pointer]\n",
    "            letter_pointer = (letter_pointer+1)%len(keyword)\n",
    "    translated_message = ''\n",
    "    for i in range(0,len(coded_message)):    \n",
    "        if not coded_message[i] in punctuation:\n",
    "            ln = alphabet.find(coded_message[i]) - alphabet.find(keyword_final[i])\n",
    "            translated_message += alphabet[ln % 26]\n",
    "        else:\n",
    "            translated_message += coded_message[i]\n",
    "    return translated_message\n"
   ]
  },
  {
   "cell_type": "code",
   "execution_count": 34,
   "id": "8100ca45",
   "metadata": {},
   "outputs": [
    {
     "name": "stdout",
     "output_type": "stream",
     "text": [
      "you were able to decode this? nice work! you are becoming quite the expert at crytography!\n"
     ]
    }
   ],
   "source": [
    "message = \"dfc aruw fsti gr vjtwhr wznj? vmph otis! cbx swv jipreneo uhllj kpi rahjib eg fjdkwkedhmp!\"\n",
    "keyword = \"friends\"\n",
    "\n",
    "print(decode_vigenere_cipher(message, keyword))"
   ]
  },
  {
   "cell_type": "code",
   "execution_count": 38,
   "id": "561aabde",
   "metadata": {},
   "outputs": [],
   "source": [
    "def encode_vigenere_cipher(message, keyword):\n",
    "\n",
    "    letter_pointer = 0\n",
    "    keyword_final = ''\n",
    "    message = message.lower()\n",
    "    for i in range(0,len(message)):\n",
    "        if message[i] in punctuation:\n",
    "            keyword_final += message[i]\n",
    "        else:\n",
    "            keyword_final += keyword[letter_pointer]\n",
    "            letter_pointer = (letter_pointer+1)%len(keyword)\n",
    "    encoded_message = ''\n",
    "    for i in range(0,len(message)):\n",
    "        if message[i] not in punctuation:\n",
    "            ln = alphabet.find(message[i]) + alphabet.find(keyword_final[i])\n",
    "            encoded_message += alphabet[ln % 26]\n",
    "        else:\n",
    "            encoded_message += message[i]\n",
    "    return encoded_message"
   ]
  },
  {
   "cell_type": "code",
   "execution_count": 41,
   "id": "f563e5da",
   "metadata": {},
   "outputs": [],
   "source": [
    "my_message = \"This was very difficult, Vishal. Please communicate normally next time.\"\n",
    "my_key = \"beef\"\n",
    "\n",
    "encoded_message = encode_vigenere_cipher(my_message, my_key)"
   ]
  },
  {
   "cell_type": "code",
   "execution_count": 42,
   "id": "9aefba44",
   "metadata": {},
   "outputs": [
    {
     "name": "stdout",
     "output_type": "stream",
     "text": [
      "this was very difficult, vishal. please communicate normally next time.\n"
     ]
    }
   ],
   "source": [
    "print(decode_vigenere_cipher(encoded_message, my_key))"
   ]
  },
  {
   "cell_type": "code",
   "execution_count": null,
   "id": "e82ac7a1",
   "metadata": {},
   "outputs": [],
   "source": []
  }
 ],
 "metadata": {
  "kernelspec": {
   "display_name": "Python 3 (ipykernel)",
   "language": "python",
   "name": "python3"
  },
  "language_info": {
   "codemirror_mode": {
    "name": "ipython",
    "version": 3
   },
   "file_extension": ".py",
   "mimetype": "text/x-python",
   "name": "python",
   "nbconvert_exporter": "python",
   "pygments_lexer": "ipython3",
   "version": "3.9.12"
  }
 },
 "nbformat": 4,
 "nbformat_minor": 5
}
