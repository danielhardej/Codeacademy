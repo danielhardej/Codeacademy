{
 "cells": [
  {
   "attachments": {},
   "cell_type": "markdown",
   "metadata": {},
   "source": [
    "# Associations Between Two Categorical Variables\n",
    "\n",
    "### Introduction\n",
    "\n",
    "In this lesson, we will cover ways of examining an association between two categorical variables.\n",
    "\n",
    "As an example, we’ll explore a sample of data from the Narcissistic Personality Inventory (NPI-40), a personality test with 40 questions about personal preferences and self-view. There are two possible responses to each question."
   ]
  },
  {
   "cell_type": "code",
   "execution_count": 7,
   "metadata": {},
   "outputs": [
    {
     "data": {
      "text/html": [
       "<div>\n",
       "<style scoped>\n",
       "    .dataframe tbody tr th:only-of-type {\n",
       "        vertical-align: middle;\n",
       "    }\n",
       "\n",
       "    .dataframe tbody tr th {\n",
       "        vertical-align: top;\n",
       "    }\n",
       "\n",
       "    .dataframe thead th {\n",
       "        text-align: right;\n",
       "    }\n",
       "</style>\n",
       "<table border=\"1\" class=\"dataframe\">\n",
       "  <thead>\n",
       "    <tr style=\"text-align: right;\">\n",
       "      <th></th>\n",
       "      <th>influence</th>\n",
       "      <th>blend_in</th>\n",
       "      <th>special</th>\n",
       "      <th>leader</th>\n",
       "      <th>authority</th>\n",
       "    </tr>\n",
       "  </thead>\n",
       "  <tbody>\n",
       "    <tr>\n",
       "      <th>0</th>\n",
       "      <td>no</td>\n",
       "      <td>yes</td>\n",
       "      <td>yes</td>\n",
       "      <td>yes</td>\n",
       "      <td>yes</td>\n",
       "    </tr>\n",
       "    <tr>\n",
       "      <th>1</th>\n",
       "      <td>no</td>\n",
       "      <td>yes</td>\n",
       "      <td>no</td>\n",
       "      <td>no</td>\n",
       "      <td>no</td>\n",
       "    </tr>\n",
       "    <tr>\n",
       "      <th>2</th>\n",
       "      <td>yes</td>\n",
       "      <td>no</td>\n",
       "      <td>yes</td>\n",
       "      <td>yes</td>\n",
       "      <td>yes</td>\n",
       "    </tr>\n",
       "    <tr>\n",
       "      <th>3</th>\n",
       "      <td>yes</td>\n",
       "      <td>no</td>\n",
       "      <td>no</td>\n",
       "      <td>yes</td>\n",
       "      <td>yes</td>\n",
       "    </tr>\n",
       "    <tr>\n",
       "      <th>4</th>\n",
       "      <td>yes</td>\n",
       "      <td>yes</td>\n",
       "      <td>no</td>\n",
       "      <td>yes</td>\n",
       "      <td>no</td>\n",
       "    </tr>\n",
       "  </tbody>\n",
       "</table>\n",
       "</div>"
      ],
      "text/plain": [
       "  influence blend_in special leader authority\n",
       "0        no      yes     yes    yes       yes\n",
       "1        no      yes      no     no        no\n",
       "2       yes       no     yes    yes       yes\n",
       "3       yes       no      no    yes       yes\n",
       "4       yes      yes      no    yes        no"
      ]
     },
     "metadata": {},
     "output_type": "display_data"
    }
   ],
   "source": [
    "import pandas as pd\n",
    "\n",
    "npi = pd.read_csv(\"npi_sample.csv\")\n",
    "\n",
    "display(npi.head())"
   ]
  },
  {
   "attachments": {},
   "cell_type": "markdown",
   "metadata": {},
   "source": [
    "### Contingency Tables: Frequencies\n",
    "\n",
    "Contingency tables, also known as two-way tables or cross-tabulations, are useful for summarizing two variables at the same time. For example, suppose we are interested in understanding whether there is an association between influence (whether a person thinks they have a talent for influencing people) and leader (whether they see themself as a leader). We can use the crosstab function from pandas to create a contingency table:"
   ]
  },
  {
   "cell_type": "code",
   "execution_count": 9,
   "metadata": {},
   "outputs": [
    {
     "data": {
      "text/html": [
       "<div>\n",
       "<style scoped>\n",
       "    .dataframe tbody tr th:only-of-type {\n",
       "        vertical-align: middle;\n",
       "    }\n",
       "\n",
       "    .dataframe tbody tr th {\n",
       "        vertical-align: top;\n",
       "    }\n",
       "\n",
       "    .dataframe thead th {\n",
       "        text-align: right;\n",
       "    }\n",
       "</style>\n",
       "<table border=\"1\" class=\"dataframe\">\n",
       "  <thead>\n",
       "    <tr style=\"text-align: right;\">\n",
       "      <th>authority</th>\n",
       "      <th>no</th>\n",
       "      <th>yes</th>\n",
       "    </tr>\n",
       "    <tr>\n",
       "      <th>special</th>\n",
       "      <th></th>\n",
       "      <th></th>\n",
       "    </tr>\n",
       "  </thead>\n",
       "  <tbody>\n",
       "    <tr>\n",
       "      <th>no</th>\n",
       "      <td>4069</td>\n",
       "      <td>1905</td>\n",
       "    </tr>\n",
       "    <tr>\n",
       "      <th>yes</th>\n",
       "      <td>2229</td>\n",
       "      <td>2894</td>\n",
       "    </tr>\n",
       "  </tbody>\n",
       "</table>\n",
       "</div>"
      ],
      "text/plain": [
       "authority    no   yes\n",
       "special              \n",
       "no         4069  1905\n",
       "yes        2229  2894"
      ]
     },
     "metadata": {},
     "output_type": "display_data"
    }
   ],
   "source": [
    "special_authority_freq = pd.crosstab(npi.special, npi.authority)\n",
    "display(special_authority_freq)"
   ]
  },
  {
   "attachments": {},
   "cell_type": "markdown",
   "metadata": {},
   "source": [
    "### Contingency Tables: Proportions\n",
    "\n",
    "In the previous exercise, we looked at an association between the influence and leader questions using a contingency table of frequencies. However, sometimes it’s helpful to convert those frequencies to proportions. We can accomplish this simply by dividing the all the frequencies in a contingency table by the total number of observations (the sum of the frequencies):\n",
    "\n",
    "The resulting contingency table makes it slightly easier to compare the proportion of people in each category."
   ]
  },
  {
   "cell_type": "code",
   "execution_count": 12,
   "metadata": {},
   "outputs": [
    {
     "data": {
      "text/html": [
       "<div>\n",
       "<style scoped>\n",
       "    .dataframe tbody tr th:only-of-type {\n",
       "        vertical-align: middle;\n",
       "    }\n",
       "\n",
       "    .dataframe tbody tr th {\n",
       "        vertical-align: top;\n",
       "    }\n",
       "\n",
       "    .dataframe thead th {\n",
       "        text-align: right;\n",
       "    }\n",
       "</style>\n",
       "<table border=\"1\" class=\"dataframe\">\n",
       "  <thead>\n",
       "    <tr style=\"text-align: right;\">\n",
       "      <th>authority</th>\n",
       "      <th>no</th>\n",
       "      <th>yes</th>\n",
       "    </tr>\n",
       "    <tr>\n",
       "      <th>special</th>\n",
       "      <th></th>\n",
       "      <th></th>\n",
       "    </tr>\n",
       "  </thead>\n",
       "  <tbody>\n",
       "    <tr>\n",
       "      <th>no</th>\n",
       "      <td>0.366676</td>\n",
       "      <td>0.171668</td>\n",
       "    </tr>\n",
       "    <tr>\n",
       "      <th>yes</th>\n",
       "      <td>0.200865</td>\n",
       "      <td>0.260791</td>\n",
       "    </tr>\n",
       "  </tbody>\n",
       "</table>\n",
       "</div>"
      ],
      "text/plain": [
       "authority        no       yes\n",
       "special                      \n",
       "no         0.366676  0.171668\n",
       "yes        0.200865  0.260791"
      ]
     },
     "metadata": {},
     "output_type": "display_data"
    }
   ],
   "source": [
    "special_authority_prop = special_authority_freq/len(npi)\n",
    "display(special_authority_prop)"
   ]
  },
  {
   "attachments": {},
   "cell_type": "markdown",
   "metadata": {},
   "source": [
    "### Marginal Proportions\n",
    "\n",
    "Now, let’s take a moment to think about what the tables would look like if there were no association between the variables.\n",
    "\n",
    "Say that we notice that the bottom row, which corresponds to people who think they have a talent for influencing people, accounts for 0.213 + 0.399 = 0.612 (or 61.2%) of surveyed people — more than half! This means that we can expect higher proportions in the bottom row, regardless of whether the questions are associated.\n",
    "\n",
    "The proportion of respondents in each category of a single question is called a _marginal proportion_."
   ]
  },
  {
   "cell_type": "code",
   "execution_count": 14,
   "metadata": {},
   "outputs": [
    {
     "name": "stdout",
     "output_type": "stream",
     "text": [
      "authority\n",
      "no     0.567541\n",
      "yes    0.432459\n",
      "dtype: float64\n"
     ]
    }
   ],
   "source": [
    "# calculate and print authority_marginals\n",
    "authority_marginals = special_authority_prop.sum(axis=0)\n",
    "print(authority_marginals)"
   ]
  },
  {
   "cell_type": "code",
   "execution_count": 15,
   "metadata": {},
   "outputs": [
    {
     "name": "stdout",
     "output_type": "stream",
     "text": [
      "special\n",
      "no     0.538344\n",
      "yes    0.461656\n",
      "dtype: float64\n"
     ]
    }
   ],
   "source": [
    "# calculate and print special_marginals\n",
    "special_marginals = special_authority_prop.sum(axis=1)\n",
    "print(special_marginals)"
   ]
  },
  {
   "attachments": {},
   "cell_type": "markdown",
   "metadata": {},
   "source": [
    "### Expected Contingency Tables\n",
    "\n",
    "In order to understand whether these questions are associated, we can use the marginal proportions to create a contingency table of expected proportions if there were no association between these variables. To calculate these expected proportions, we need to multiply the marginal proportions for each combination of categories.\n",
    "\n",
    "In python, we can calculate this table using the chi2_contingency() function from SciPy, by passing in the observed frequency table. There are actually four outputs from this function, but for now, we’ll only look at the fourth one.\n",
    "\n",
    "The more that the expected and observed tables differ, the more sure we can be that the variables are associated."
   ]
  },
  {
   "cell_type": "code",
   "execution_count": 20,
   "metadata": {},
   "outputs": [
    {
     "name": "stdout",
     "output_type": "stream",
     "text": [
      "observed contingency table:\n",
      "authority        no       yes\n",
      "special                      \n",
      "no         0.366676  0.171668\n",
      "yes        0.200865  0.260791\n",
      "\n",
      "expected contingency table (no association):\n",
      "[[3390. 2584.]\n",
      " [2908. 2215.]]\n"
     ]
    }
   ],
   "source": [
    "print(\"observed contingency table:\")\n",
    "print(special_authority_prop)\n",
    "\n",
    "# calculate the expected contingency table if there's no association and save it as expected\n",
    "chi2, pval, dof, expected = chi2_contingency(special_authority_freq)\n",
    "\n",
    "# print out the expected frequency table\n",
    "print(\"\\nexpected contingency table (no association):\")\n",
    "print(np.round(expected))\n"
   ]
  },
  {
   "attachments": {},
   "cell_type": "markdown",
   "metadata": {},
   "source": [
    "### The Chi-Square Statistic\n",
    "\n",
    "In the previous exercise, we calculated a contingency table of expected frequencies if there were no association between the `authority` and `special` questions. We then compared this to the observed contingency table. Because the tables looked somewhat different, we concluded that responses to these questions are probably associated.\n",
    "\n",
    "While we can inspect these tables visually, many data scientists use the Chi-Square statistic to summarize how different these two tables are. To calculate the Chi Square statistic, we simply find the squared difference between each value in the observed table and its corresponding value in the expected table, and then divide that number by the value from the expected table; finally add up those numbers:\n",
    "\n",
    "$$\n",
    "ChiSquare= ∑ \\frac{(observed−expected)^2}{​expected}\n",
    "$$\n",
    "\n",
    "​The interpretation of the Chi-Square statistic is dependent on the size of the contingency table. For a 2x2 table (like the one we’ve been investigating), a Chi-Square statistic larger than around 4 would strongly suggest an association between the variables. In this example, our Chi-Square statistic is much larger than that. This adds to our evidence that the variables are highly associated."
   ]
  },
  {
   "cell_type": "code",
   "execution_count": 21,
   "metadata": {},
   "outputs": [
    {
     "name": "stdout",
     "output_type": "stream",
     "text": [
      "679.1219526170606\n"
     ]
    }
   ],
   "source": [
    "print(chi2)"
   ]
  },
  {
   "attachments": {},
   "cell_type": "markdown",
   "metadata": {},
   "source": [
    "### Review"
   ]
  },
  {
   "cell_type": "code",
   "execution_count": 6,
   "metadata": {},
   "outputs": [
    {
     "name": "stdout",
     "output_type": "stream",
     "text": [
      "  influence blend_in special leader authority\n",
      "0        no      yes     yes    yes       yes\n",
      "1        no      yes      no     no        no\n",
      "2       yes       no     yes    yes       yes\n",
      "3       yes       no      no    yes       yes\n",
      "4       yes      yes      no    yes        no\n",
      "\n",
      "Leader and authority association:\n",
      "\n",
      "authority    no   yes\n",
      "leader               \n",
      "no         3820  1555\n",
      "yes        2478  3244\n",
      "authority        no       yes\n",
      "leader                       \n",
      "no         0.344237  0.140128\n",
      "yes        0.223304  0.292331\n",
      "authority\n",
      "no     0.567541\n",
      "yes    0.432459\n",
      "dtype: float64\n",
      "leader\n",
      "no     0.484365\n",
      "yes    0.515635\n",
      "dtype: float64\n",
      "observed contingency table:\n",
      "authority    no   yes\n",
      "leader               \n",
      "no         3820  1555\n",
      "yes        2478  3244\n",
      "expected contingency table (no association):\n",
      "[[3051. 2324.]\n",
      " [3247. 2475.]]\n",
      "869.2684782761069\n"
     ]
    }
   ],
   "source": [
    "import pandas as pd\n",
    "from scipy.stats import chi2_contingency\n",
    "import numpy as np\n",
    "\n",
    "npi = pd.read_csv(\"npi_sample.csv\")\n",
    "\n",
    "print(npi.head())\n",
    "\n",
    "print(\"\\nLeader and authority association:\\n\")\n",
    "\n",
    "leader_authority_freq = pd.crosstab(npi.leader, npi.authority)\n",
    "print(leader_authority_freq)\n",
    "\n",
    "# save the table of proportions as special_authority_prop:\n",
    "leader_authority_prop = leader_authority_freq/len(npi)\n",
    "print(leader_authority_prop)\n",
    "\n",
    "# calculate and print authority_marginals\n",
    "authority_marginals = leader_authority_prop.sum(axis=0)\n",
    "print(authority_marginals)\n",
    "\n",
    "# calculate and print leader_marginals\n",
    "leader_marginals = leader_authority_prop.sum(axis=1)\n",
    "print(leader_marginals)\n",
    "\n",
    "print(\"observed contingency table:\")\n",
    "print(leader_authority_freq)\n",
    "\n",
    "# calculate the expected contingency table if there's no association and save it as expected\n",
    "chi2, pval, dof, expected = chi2_contingency(leader_authority_freq)\n",
    "\n",
    "# print out the expected frequency table\n",
    "print(\"expected contingency table (no association):\")\n",
    "print(np.round(expected))\n",
    "\n",
    "# calculate the chi squared statistic and save it as chi2, then print it:\n",
    "print(chi2)"
   ]
  },
  {
   "cell_type": "code",
   "execution_count": null,
   "metadata": {},
   "outputs": [],
   "source": []
  }
 ],
 "metadata": {
  "kernelspec": {
   "display_name": "Python 3",
   "language": "python",
   "name": "python3"
  },
  "language_info": {
   "codemirror_mode": {
    "name": "ipython",
    "version": 3
   },
   "file_extension": ".py",
   "mimetype": "text/x-python",
   "name": "python",
   "nbconvert_exporter": "python",
   "pygments_lexer": "ipython3",
   "version": "3.10.9"
  },
  "orig_nbformat": 4
 },
 "nbformat": 4,
 "nbformat_minor": 2
}
