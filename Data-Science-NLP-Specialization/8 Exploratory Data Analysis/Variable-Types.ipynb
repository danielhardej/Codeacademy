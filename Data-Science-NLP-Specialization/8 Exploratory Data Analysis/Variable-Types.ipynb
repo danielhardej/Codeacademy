{
 "cells": [
  {
   "attachments": {},
   "cell_type": "markdown",
   "metadata": {},
   "source": [
    "# Variable Types"
   ]
  },
  {
   "cell_type": "code",
   "execution_count": 1,
   "metadata": {},
   "outputs": [],
   "source": [
    "import pandas as pd"
   ]
  },
  {
   "attachments": {},
   "cell_type": "markdown",
   "metadata": {},
   "source": [
    "### One-Hot Encoding\n",
    "\n",
    "Another way of encoding categorical variables is called One-Hot Encoding (OHE). With OHE, we essentially create a new binary variable for each of the categories within our original variable. This technique is useful when managing nominal variables because it encodes the variable without creating an order among the categories."
   ]
  },
  {
   "cell_type": "code",
   "execution_count": null,
   "metadata": {},
   "outputs": [],
   "source": [
    "# Import dataset as a Pandas Dataframe\n",
    "cereal = pd.read_csv('cereal.csv', index_col=0)\n",
    "\n",
    "# Show the first five rows of the `cereal` dataframe\n",
    "print(cereal.head())\n",
    "\n",
    "# Create a new dataframe with the `mfr` variable One-Hot Encoded\n",
    "cereal = pd.get_dummies(data=cereal, columns=['mfr'])\n",
    "\n",
    "# Show first five rows of new dataframe\n",
    "print(cereal.head())"
   ]
  },
  {
   "attachments": {},
   "cell_type": "markdown",
   "metadata": {},
   "source": [
    "### Review\n",
    "\n",
    "1. Return the first 10 rows of the auto dataframe.\n",
    "2. Return the data types of the auto dataframe with the `.dtypes` attribute.\n",
    "3. Change the price category from int to float with the `.astype()` method, then recheck the data types with .dtypes.\n",
    "4. Convert the engine_size variable to the category data type with an order of `[‘small’, ‘medium’, ‘large’`], and check the order with the `.unique()` method.\n",
    "5. Create a new variable called `engine_codes` which contains the numerical codes associated with each category in the `engine_size` variable with the `.cat.codes` accessor. Check the new values with the `.head()` method.\n",
    "6. One-Hot Encode the body-style category in the auto dataframe. Then check the dataframe with `.head()`."
   ]
  },
  {
   "cell_type": "code",
   "execution_count": null,
   "metadata": {},
   "outputs": [],
   "source": [
    "# Import pandas with alias\n",
    "import pandas as pd\n",
    "\n",
    "# Import dataset as a Pandas Dataframe\n",
    "auto = pd.read_csv('autos.csv', index_col=0)\n",
    "\n",
    "# Print the first 10 rows of the auto dataset\n",
    "print(auto.head(10))\n",
    "\n",
    "# Print the data types of the auto dataframe\n",
    "print(auto.dtypes)\n",
    "\n",
    "# Change the data type of price to float\n",
    "auto['price'] = auto['price'].astype('float')\n",
    "\n",
    "# Set the engine_size data type to category\n",
    "auto['engine_size'] = pd.Categorical(auto['engine_size'], ['small', 'medium', 'large'], ordered=True)\n",
    "print(auto['engine_size'].unique())\n",
    "print(auto.dtypes)\n",
    "\n",
    "# Create the engine_codes variable by encoding engine_size\n",
    "auto['engine_codes'] = auto['engine_size'].cat.codes\n",
    "\n",
    "# One-Hot Encode the body-style variable\n",
    "auto = pd.get_dummies(data=auto, columns=['body-style'])\n",
    "print(auto.head(10))"
   ]
  }
 ],
 "metadata": {
  "kernelspec": {
   "display_name": "Python 3",
   "language": "python",
   "name": "python3"
  },
  "language_info": {
   "codemirror_mode": {
    "name": "ipython",
    "version": 3
   },
   "file_extension": ".py",
   "mimetype": "text/x-python",
   "name": "python",
   "nbconvert_exporter": "python",
   "pygments_lexer": "ipython3",
   "version": "3.9.16"
  },
  "orig_nbformat": 4
 },
 "nbformat": 4,
 "nbformat_minor": 2
}
