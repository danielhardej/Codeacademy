{
 "cells": [
  {
   "attachments": {},
   "cell_type": "markdown",
   "metadata": {},
   "source": [
    "# Data Summaries\n",
    "\n",
    "## Introduction \n",
    "\n",
    "Before diving into formal analysis with a dataset, it is often helpful to perform some initial investigations of the data through exploratory data analysis (EDA) to get a better sense of what you will be working with. Basic summary statistics and visualizations are important components of EDA as they allow us to condense a large amount of information into a small set of numbers or graphics that can be easily interpreted."
   ]
  },
  {
   "cell_type": "code",
   "execution_count": 8,
   "metadata": {},
   "outputs": [
    {
     "data": {
      "text/html": [
       "<div>\n",
       "<style scoped>\n",
       "    .dataframe tbody tr th:only-of-type {\n",
       "        vertical-align: middle;\n",
       "    }\n",
       "\n",
       "    .dataframe tbody tr th {\n",
       "        vertical-align: top;\n",
       "    }\n",
       "\n",
       "    .dataframe thead th {\n",
       "        text-align: right;\n",
       "    }\n",
       "</style>\n",
       "<table border=\"1\" class=\"dataframe\">\n",
       "  <thead>\n",
       "    <tr style=\"text-align: right;\">\n",
       "      <th></th>\n",
       "      <th>movie</th>\n",
       "      <th>production_budget</th>\n",
       "      <th>domestic_gross</th>\n",
       "      <th>worldwide_gross</th>\n",
       "      <th>mpaa_rating</th>\n",
       "      <th>genre</th>\n",
       "    </tr>\n",
       "  </thead>\n",
       "  <tbody>\n",
       "    <tr>\n",
       "      <th>0</th>\n",
       "      <td>Evan Almighty</td>\n",
       "      <td>175000000.0</td>\n",
       "      <td>100289690.0</td>\n",
       "      <td>1.741313e+08</td>\n",
       "      <td>PG</td>\n",
       "      <td>Comedy</td>\n",
       "    </tr>\n",
       "    <tr>\n",
       "      <th>1</th>\n",
       "      <td>Waterworld</td>\n",
       "      <td>175000000.0</td>\n",
       "      <td>88246220.0</td>\n",
       "      <td>2.642462e+08</td>\n",
       "      <td>PG-13</td>\n",
       "      <td>Action</td>\n",
       "    </tr>\n",
       "    <tr>\n",
       "      <th>2</th>\n",
       "      <td>King Arthur: Legend of the Sword</td>\n",
       "      <td>175000000.0</td>\n",
       "      <td>39175066.0</td>\n",
       "      <td>1.399507e+08</td>\n",
       "      <td>PG-13</td>\n",
       "      <td>Adventure</td>\n",
       "    </tr>\n",
       "    <tr>\n",
       "      <th>3</th>\n",
       "      <td>47 Ronin</td>\n",
       "      <td>175000000.0</td>\n",
       "      <td>38362475.0</td>\n",
       "      <td>1.517168e+08</td>\n",
       "      <td>PG-13</td>\n",
       "      <td>Action</td>\n",
       "    </tr>\n",
       "    <tr>\n",
       "      <th>4</th>\n",
       "      <td>Jurassic World: Fallen Kingdom</td>\n",
       "      <td>170000000.0</td>\n",
       "      <td>416769345.0</td>\n",
       "      <td>1.304866e+09</td>\n",
       "      <td>PG-13</td>\n",
       "      <td>Action</td>\n",
       "    </tr>\n",
       "  </tbody>\n",
       "</table>\n",
       "</div>"
      ],
      "text/plain": [
       "                              movie  production_budget  domestic_gross  \\\n",
       "0                     Evan Almighty        175000000.0     100289690.0   \n",
       "1                        Waterworld        175000000.0      88246220.0   \n",
       "2  King Arthur: Legend of the Sword        175000000.0      39175066.0   \n",
       "3                          47 Ronin        175000000.0      38362475.0   \n",
       "4    Jurassic World: Fallen Kingdom        170000000.0     416769345.0   \n",
       "\n",
       "   worldwide_gross mpaa_rating      genre  \n",
       "0     1.741313e+08          PG     Comedy  \n",
       "1     2.642462e+08       PG-13     Action  \n",
       "2     1.399507e+08       PG-13  Adventure  \n",
       "3     1.517168e+08       PG-13     Action  \n",
       "4     1.304866e+09       PG-13     Action  "
      ]
     },
     "metadata": {},
     "output_type": "display_data"
    },
    {
     "data": {
      "text/html": [
       "<div>\n",
       "<style scoped>\n",
       "    .dataframe tbody tr th:only-of-type {\n",
       "        vertical-align: middle;\n",
       "    }\n",
       "\n",
       "    .dataframe tbody tr th {\n",
       "        vertical-align: top;\n",
       "    }\n",
       "\n",
       "    .dataframe thead th {\n",
       "        text-align: right;\n",
       "    }\n",
       "</style>\n",
       "<table border=\"1\" class=\"dataframe\">\n",
       "  <thead>\n",
       "    <tr style=\"text-align: right;\">\n",
       "      <th></th>\n",
       "      <th>movie</th>\n",
       "      <th>production_budget</th>\n",
       "      <th>domestic_gross</th>\n",
       "      <th>worldwide_gross</th>\n",
       "      <th>mpaa_rating</th>\n",
       "      <th>genre</th>\n",
       "    </tr>\n",
       "  </thead>\n",
       "  <tbody>\n",
       "    <tr>\n",
       "      <th>count</th>\n",
       "      <td>3401</td>\n",
       "      <td>3.401000e+03</td>\n",
       "      <td>3.401000e+03</td>\n",
       "      <td>3.401000e+03</td>\n",
       "      <td>3264</td>\n",
       "      <td>3401</td>\n",
       "    </tr>\n",
       "    <tr>\n",
       "      <th>unique</th>\n",
       "      <td>3400</td>\n",
       "      <td>NaN</td>\n",
       "      <td>NaN</td>\n",
       "      <td>NaN</td>\n",
       "      <td>4</td>\n",
       "      <td>5</td>\n",
       "    </tr>\n",
       "    <tr>\n",
       "      <th>top</th>\n",
       "      <td>Tau ming chong</td>\n",
       "      <td>NaN</td>\n",
       "      <td>NaN</td>\n",
       "      <td>NaN</td>\n",
       "      <td>R</td>\n",
       "      <td>Drama</td>\n",
       "    </tr>\n",
       "    <tr>\n",
       "      <th>freq</th>\n",
       "      <td>2</td>\n",
       "      <td>NaN</td>\n",
       "      <td>NaN</td>\n",
       "      <td>NaN</td>\n",
       "      <td>1514</td>\n",
       "      <td>1236</td>\n",
       "    </tr>\n",
       "    <tr>\n",
       "      <th>mean</th>\n",
       "      <td>NaN</td>\n",
       "      <td>3.328474e+07</td>\n",
       "      <td>4.542179e+07</td>\n",
       "      <td>9.411512e+07</td>\n",
       "      <td>NaN</td>\n",
       "      <td>NaN</td>\n",
       "    </tr>\n",
       "    <tr>\n",
       "      <th>std</th>\n",
       "      <td>NaN</td>\n",
       "      <td>3.489239e+07</td>\n",
       "      <td>5.882566e+07</td>\n",
       "      <td>1.409182e+08</td>\n",
       "      <td>NaN</td>\n",
       "      <td>NaN</td>\n",
       "    </tr>\n",
       "    <tr>\n",
       "      <th>min</th>\n",
       "      <td>NaN</td>\n",
       "      <td>2.500000e+05</td>\n",
       "      <td>0.000000e+00</td>\n",
       "      <td>0.000000e+00</td>\n",
       "      <td>NaN</td>\n",
       "      <td>NaN</td>\n",
       "    </tr>\n",
       "    <tr>\n",
       "      <th>25%</th>\n",
       "      <td>NaN</td>\n",
       "      <td>9.000000e+06</td>\n",
       "      <td>6.118683e+06</td>\n",
       "      <td>1.061881e+07</td>\n",
       "      <td>NaN</td>\n",
       "      <td>NaN</td>\n",
       "    </tr>\n",
       "    <tr>\n",
       "      <th>50%</th>\n",
       "      <td>NaN</td>\n",
       "      <td>2.000000e+07</td>\n",
       "      <td>2.553382e+07</td>\n",
       "      <td>4.015902e+07</td>\n",
       "      <td>NaN</td>\n",
       "      <td>NaN</td>\n",
       "    </tr>\n",
       "    <tr>\n",
       "      <th>75%</th>\n",
       "      <td>NaN</td>\n",
       "      <td>4.500000e+07</td>\n",
       "      <td>6.032379e+07</td>\n",
       "      <td>1.176152e+08</td>\n",
       "      <td>NaN</td>\n",
       "      <td>NaN</td>\n",
       "    </tr>\n",
       "    <tr>\n",
       "      <th>max</th>\n",
       "      <td>NaN</td>\n",
       "      <td>1.750000e+08</td>\n",
       "      <td>4.745447e+08</td>\n",
       "      <td>1.304866e+09</td>\n",
       "      <td>NaN</td>\n",
       "      <td>NaN</td>\n",
       "    </tr>\n",
       "  </tbody>\n",
       "</table>\n",
       "</div>"
      ],
      "text/plain": [
       "                 movie  production_budget  domestic_gross  worldwide_gross  \\\n",
       "count             3401       3.401000e+03    3.401000e+03     3.401000e+03   \n",
       "unique            3400                NaN             NaN              NaN   \n",
       "top     Tau ming chong                NaN             NaN              NaN   \n",
       "freq                 2                NaN             NaN              NaN   \n",
       "mean               NaN       3.328474e+07    4.542179e+07     9.411512e+07   \n",
       "std                NaN       3.489239e+07    5.882566e+07     1.409182e+08   \n",
       "min                NaN       2.500000e+05    0.000000e+00     0.000000e+00   \n",
       "25%                NaN       9.000000e+06    6.118683e+06     1.061881e+07   \n",
       "50%                NaN       2.000000e+07    2.553382e+07     4.015902e+07   \n",
       "75%                NaN       4.500000e+07    6.032379e+07     1.176152e+08   \n",
       "max                NaN       1.750000e+08    4.745447e+08     1.304866e+09   \n",
       "\n",
       "       mpaa_rating  genre  \n",
       "count         3264   3401  \n",
       "unique           4      5  \n",
       "top              R  Drama  \n",
       "freq          1514   1236  \n",
       "mean           NaN    NaN  \n",
       "std            NaN    NaN  \n",
       "min            NaN    NaN  \n",
       "25%            NaN    NaN  \n",
       "50%            NaN    NaN  \n",
       "75%            NaN    NaN  \n",
       "max            NaN    NaN  "
      ]
     },
     "metadata": {},
     "output_type": "display_data"
    }
   ],
   "source": [
    "movies = pd.read_csv('movies.csv')\n",
    "\n",
    "# Print the first 5 rows \n",
    "display(movies.head())\n",
    "\n",
    "# Print the summary statistics for all columns\n",
    "display(movies.describe(include='all'))"
   ]
  },
  {
   "attachments": {},
   "cell_type": "markdown",
   "metadata": {},
   "source": [
    "### Central Tendency for Quantitative Data\n",
    "\n",
    "For quantitative variables, we often want to describe the central tendency, or the “typical” value of a variable. For example, what is the typical cost of rent in New York City?"
   ]
  },
  {
   "cell_type": "code",
   "execution_count": 10,
   "metadata": {},
   "outputs": [
    {
     "name": "stdout",
     "output_type": "stream",
     "text": [
      "33284743.23640106\n",
      "20000000.0\n",
      "0    20000000.0\n",
      "Name: production_budget, dtype: float64\n"
     ]
    },
    {
     "ename": "ModuleNotFoundError",
     "evalue": "No module named 'scipy'",
     "output_type": "error",
     "traceback": [
      "\u001b[0;31m---------------------------------------------------------------------------\u001b[0m",
      "\u001b[0;31mModuleNotFoundError\u001b[0m                       Traceback (most recent call last)",
      "Cell \u001b[0;32mIn[10], line 11\u001b[0m\n\u001b[1;32m      9\u001b[0m \u001b[39mprint\u001b[39m(mode_budget)\n\u001b[1;32m     10\u001b[0m \u001b[39m# Save the trimmed mean to trmean_budget\u001b[39;00m\n\u001b[0;32m---> 11\u001b[0m \u001b[39mfrom\u001b[39;00m \u001b[39mscipy\u001b[39;00m\u001b[39m.\u001b[39;00m\u001b[39mstats\u001b[39;00m \u001b[39mimport\u001b[39;00m trim_mean\n\u001b[1;32m     12\u001b[0m trmean_budget \u001b[39m=\u001b[39m trim_mean(movies\u001b[39m.\u001b[39mproduction_budget, proportiontocut\u001b[39m=\u001b[39m\u001b[39m0.2\u001b[39m)\n\u001b[1;32m     13\u001b[0m \u001b[39mprint\u001b[39m(trmean_budget)\n",
      "\u001b[0;31mModuleNotFoundError\u001b[0m: No module named 'scipy'"
     ]
    }
   ],
   "source": [
    "# Save the mean to mean_budget\n",
    "mean_budget = movies.production_budget.mean()\n",
    "print(mean_budget)\n",
    "# Save the median to med_budget\n",
    "med_budget = movies.production_budget.median()\n",
    "print(med_budget)\n",
    "# Save the mode to mode_budget\n",
    "mode_budget = movies.production_budget.mode()\n",
    "print(mode_budget)\n",
    "# Save the trimmed mean to trmean_budget\n",
    "from scipy.stats import trim_mean\n",
    "trmean_budget = trim_mean(movies.production_budget, proportiontocut=0.2)\n",
    "print(trmean_budget)"
   ]
  },
  {
   "attachments": {},
   "cell_type": "markdown",
   "metadata": {},
   "source": [
    "### Spread for Quantitative Data\n",
    "\n",
    "The spread of a quantitative variable describes the amount of variability. This is important because it provides context for measures of central tendency. For example, if there is a lot of variability in New York City rent prices, we can be less certain that the mean or median price is representative of what the typical rent is."
   ]
  },
  {
   "cell_type": "code",
   "execution_count": 11,
   "metadata": {},
   "outputs": [
    {
     "ename": "ModuleNotFoundError",
     "evalue": "No module named 'scipy'",
     "output_type": "error",
     "traceback": [
      "\u001b[0;31m---------------------------------------------------------------------------\u001b[0m",
      "\u001b[0;31mModuleNotFoundError\u001b[0m                       Traceback (most recent call last)",
      "Cell \u001b[0;32mIn[11], line 1\u001b[0m\n\u001b[0;32m----> 1\u001b[0m \u001b[39mfrom\u001b[39;00m \u001b[39mscipy\u001b[39;00m\u001b[39m.\u001b[39;00m\u001b[39mstats\u001b[39;00m \u001b[39mimport\u001b[39;00m iqr\n\u001b[1;32m      3\u001b[0m \u001b[39mprint\u001b[39m(movies\u001b[39m.\u001b[39mhead())\n\u001b[1;32m      4\u001b[0m \u001b[39m# Save the range to range_budget\u001b[39;00m\n",
      "\u001b[0;31mModuleNotFoundError\u001b[0m: No module named 'scipy'"
     ]
    }
   ],
   "source": [
    "from scipy.stats import iqr\n",
    "\n",
    "print(movies.head())\n",
    "# Save the range to range_budget\n",
    "range_budget = movies.production_budget.max() - movies.production_budget.min()\n",
    "print(range_budget)\n",
    "# Save the interquartile range to iqr_budget\n",
    "iqr_budget = iqr(movies.production_budget)\n",
    "print(iqr_budget)\n",
    "\n",
    "# Save the variance to var_budget\n",
    "var_budget = movies.production_budget.var()\n",
    "print(var_budget)\n",
    "\n",
    "# Save the standard deviation to std_budget\n",
    "std_budget = movies.production_budget.std()\n",
    "print(std_budget)\n",
    "\n",
    "# Save the mean absolute deviation to mad_budget\n",
    "mad_budget = movies.production_budget.mad()\n",
    "print(mad_budget)"
   ]
  },
  {
   "attachments": {},
   "cell_type": "markdown",
   "metadata": {},
   "source": [
    "### Visualising Quantitative Variables\n",
    "\n",
    "While summary statistics are certainly helpful for exploring and quantifying a feature, we might find it hard to wrap our minds around a bunch of numbers. This is why data visualization is such a powerful element of EDA.\n",
    "\n",
    "For quantitative variables, boxplots and histograms are two common visualizations. These plots are useful because they simultaneously communicate information about minimum and maximum values, central location, and spread. Histograms can additionally illuminate patterns that can impact an analysis (e.g., skew or multimodality).\n",
    "\n",
    "Python’s seaborn library, built on top of matplotlib, offers the `boxplot()` and `histplot()` functions to easily plot data from a pandas DataFrame:"
   ]
  },
  {
   "cell_type": "code",
   "execution_count": 2,
   "metadata": {},
   "outputs": [
    {
     "data": {
      "image/png": "[encoded data removed]",
      "text/plain": [
       "<Figure size 640x480 with 1 Axes>"
      ]
     },
     "metadata": {},
     "output_type": "display_data"
    },
    {
     "data": {
      "image/png": "[encoded data removed]",
      "text/plain": [
       "<Figure size 640x480 with 1 Axes>"
      ]
     },
     "metadata": {},
     "output_type": "display_data"
    }
   ],
   "source": [
    "import pandas as pd\n",
    "import matplotlib.pyplot as plt\n",
    "import seaborn as sns\n",
    "\n",
    "movies = pd.read_csv('movies.csv')\n",
    "\n",
    "# Create a boxplot for movie budget \n",
    "sns.boxplot(x='production_budget', data=movies)\n",
    "plt.show()\n",
    "plt.close()\n",
    "\n",
    "# Create a histogram for movie budget\n",
    "sns.histplot(x='production_budget', data=movies)\n",
    "plt.show()"
   ]
  },
  {
   "attachments": {},
   "cell_type": "markdown",
   "metadata": {},
   "source": [
    "### Value Counts for Categorical Data\n",
    "\n",
    "When it comes to categorical variables, the measures of central tendency and spread that worked for describing numeric variables, like mean and standard deviation, generally becomes unsuitable when we’re dealing with discrete values. Unlike numbers, categorical values are not continuous and oftentimes do not have an intrinsic ordering.\n",
    "\n",
    "Instead, a good way to summarize categorical variables is to generate a frequency table containing the count of each distinct value. For example, we may be interested to know how many of the New York City rental listings are from each borough. Related, we can also find which borough has the most listings.\n",
    "\n",
    "The pandas library offers the `.value_counts()` method for generating the counts of all values in a DataFrame column:"
   ]
  },
  {
   "cell_type": "code",
   "execution_count": 3,
   "metadata": {},
   "outputs": [
    {
     "name": "stdout",
     "output_type": "stream",
     "text": [
      "Drama        1236\n",
      "Comedy        813\n",
      "Action        573\n",
      "Adventure     481\n",
      "Horror        298\n",
      "Name: genre, dtype: int64\n"
     ]
    }
   ],
   "source": [
    "movies = pd.read_csv('movies.csv')\n",
    "\n",
    "# Save the counts to genre_counts\n",
    "genre_counts = movies.genre.value_counts()\n",
    "print(genre_counts)"
   ]
  },
  {
   "attachments": {},
   "cell_type": "markdown",
   "metadata": {},
   "source": [
    "### Value Proportions for Categorical Data\n",
    "\n",
    "A counts table is one approach for exploring categorical variables, but sometimes it is useful to also look at the proportion of values in each category. For example, knowing that there are 3,539 rental listings in Manhattan is hard to interpret without any context about the counts in the other categories. On the other hand, knowing that Manhattan listings make up 71% of all New York City listings tells us a lot more about the relative frequency of this category.\n",
    "\n",
    "We can calculate the proportion for each category by dividing its count by the total number of values for that variable:"
   ]
  },
  {
   "cell_type": "code",
   "execution_count": 4,
   "metadata": {},
   "outputs": [
    {
     "name": "stdout",
     "output_type": "stream",
     "text": [
      "Drama        0.363423\n",
      "Comedy       0.239047\n",
      "Action       0.168480\n",
      "Adventure    0.141429\n",
      "Horror       0.087621\n",
      "Name: genre, dtype: float64\n"
     ]
    }
   ],
   "source": [
    "genre_props = movies.genre.value_counts(normalize=True)\n",
    "print(genre_props)"
   ]
  },
  {
   "attachments": {},
   "cell_type": "markdown",
   "metadata": {},
   "source": [
    "### Visualizing Categorical Variables\n",
    "\n",
    "For categorical variables, bar charts and pie charts are common options for visualizing the count (or proportion) of values in each category. They can also convey the relative frequencies of each category.\n",
    "\n",
    "Python’s seaborn library offers several functions that can create bar charts. The simplest for plotting the counts is `countplot()`:"
   ]
  },
  {
   "cell_type": "code",
   "execution_count": 6,
   "metadata": {},
   "outputs": [
    {
     "data": {
      "image/png": "[encoded data removed]",
      "text/plain": [
       "<Figure size 640x480 with 1 Axes>"
      ]
     },
     "metadata": {},
     "output_type": "display_data"
    },
    {
     "data": {
      "image/png": "[encoded data removed]",
      "text/plain": [
       "<Figure size 640x480 with 1 Axes>"
      ]
     },
     "metadata": {},
     "output_type": "display_data"
    }
   ],
   "source": [
    "# Create a bar chart for movie genre\n",
    "sns.countplot(x='genre', data=movies)\n",
    "plt.show()\n",
    "plt.close()\n",
    "\n",
    "# Create a pie chart for movie genre\n",
    "movies.genre.value_counts().plot(kind='pie')\n",
    "plt.show()\n",
    "plt.close()"
   ]
  },
  {
   "attachments": {},
   "cell_type": "markdown",
   "metadata": {},
   "source": [
    "## Review\n",
    "\n",
    "In this lesson, you’ve learned about the common ways to summarize and visualize quantitative and categorical variables for the purpose of EDA.\n",
    "\n",
    " - We can use .describe(include='all') to quickly display common summary statistics for all columns in a pandas DataFrame.\n",
    " - For quantitative variables, measures of central tendency (e.g., mean, median, mode) and spread (e.g., range, variance, standard deviation) are good ways to summarize the data. Boxplots and histograms are often used for visualization.\n",
    " - For categorical variables, the relative frequencies of each category can be summarized using a table of counts or proportions. Bar charts and pie charts are often used for visualization.\n",
    " \n",
    "Being able to use the appropriate metrics and visuals to explore the variables in your dataset can help you to draw insights from your data and prepare for more rigorous analysis and modeling down the road."
   ]
  }
 ],
 "metadata": {
  "kernelspec": {
   "display_name": "Python 3",
   "language": "python",
   "name": "python3"
  },
  "language_info": {
   "codemirror_mode": {
    "name": "ipython",
    "version": 3
   },
   "file_extension": ".py",
   "mimetype": "text/x-python",
   "name": "python",
   "nbconvert_exporter": "python",
   "pygments_lexer": "ipython3",
   "version": "3.9.16"
  },
  "orig_nbformat": 4
 },
 "nbformat": 4,
 "nbformat_minor": 2
}
